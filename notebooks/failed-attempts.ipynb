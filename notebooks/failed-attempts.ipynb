{
 "cells": [
  {
   "cell_type": "markdown",
   "metadata": {},
   "source": [
    "Definitely failed:\n",
    "- processing Sentinel 2 images manually (download is too cumbersome and geospatial data processing has many hurdles, like CRSs, rasterization, etc.)\n",
    "- nDOM (no noticeable performance improvement and introduces unnecessary complexity)\n",
    "- PALSAR raster\n",
    "- using multiple metrics simultaneously -> too many edge cases and arbitrary decisions\n",
    "- similarity matrix (as it is just high level and very unreadable for all bands and indices)\n",
    "\n",
    "Hurdles:\n",
    "- Limits of Google Earth Engine (Kontingente und Systemlimits)\n",
    "- Slowness of computations, especially near the end, when everything had to work together\n",
    "- keep oneself organized when having to manage everything within one project\n",
    "\n",
    "Still interesting\n",
    "- base area prediction (not feasible because of rapidly changing base area between 2017-2024 for study area)"
   ]
  },
  {
   "cell_type": "markdown",
   "metadata": {},
   "source": [
    "# Similarity Matrix and Dendrogram"
   ]
  },
  {
   "cell_type": "code",
   "execution_count": null,
   "metadata": {},
   "outputs": [],
   "source": [
    "# List the optimal bands\n",
    "from ltm.models import bands_from_importance\n",
    "\n",
    "sentinel_bands, indices = bands_from_importance(\n",
    "    \"../reports/band_importance.csv\"\n",
    ")"
   ]
  },
  {
   "cell_type": "code",
   "execution_count": null,
   "metadata": {},
   "outputs": [],
   "source": [
    "from ltm.features import (\n",
    "    get_similarity_matrix,\n",
    "    load_raster,\n",
    "    show_similarity_matrix,\n",
    ")\n",
    "from ltm.data import split_band_name\n",
    "\n",
    "data = load_raster(\"../data/processed/band_importance/data.tif\")\n",
    "\n",
    "bands = sentinel_bands + indices\n",
    "columns = [\n",
    "    column\n",
    "    for column in data.columns\n",
    "    if split_band_name(column)[1] in bands\n",
    "]"
   ]
  },
  {
   "cell_type": "code",
   "execution_count": null,
   "metadata": {},
   "outputs": [],
   "source": [
    "similarity_matrix = get_similarity_matrix(data[columns], method=\"pearson\")\n",
    "show_similarity_matrix(similarity_matrix)"
   ]
  },
  {
   "cell_type": "code",
   "execution_count": null,
   "metadata": {},
   "outputs": [],
   "source": [
    "from ltm.features import show_dendrogram\n",
    "\n",
    "show_dendrogram(similarity_matrix)"
   ]
  },
  {
   "cell_type": "markdown",
   "metadata": {},
   "source": [
    "# Show timeseries"
   ]
  },
  {
   "cell_type": "code",
   "execution_count": 1,
   "metadata": {},
   "outputs": [
    {
     "name": "stdout",
     "output_type": "stream",
     "text": [
      "Initializing Earth Engine API...\n",
      "Preparing Sentinel-2 data...\n",
      "Computing data...\n"
     ]
    },
    {
     "data": {
      "application/vnd.jupyter.widget-view+json": {
       "model_id": "0dc5853d0d0449efa978a259187b4e3a",
       "version_major": 2,
       "version_minor": 0
      },
      "text/plain": [
       "Batches:   0%|          | 0/5 [00:00<?, ?it/s]"
      ]
     },
     "metadata": {},
     "output_type": "display_data"
    },
    {
     "name": "stdout",
     "output_type": "stream",
     "text": [
      "Failed to download asynchroniously. Trying synchroniously...\n"
     ]
    },
    {
     "data": {
      "application/vnd.jupyter.widget-view+json": {
       "model_id": "e71d759562394239b104574d4d15b53f",
       "version_major": 2,
       "version_minor": 0
      },
      "text/plain": [
       "Batches:   0%|          | 0/5 [00:00<?, ?it/s]"
      ]
     },
     "metadata": {},
     "output_type": "display_data"
    }
   ],
   "source": [
    "from ltm.data import sentinel_composite\n",
    "from ltm.features import interpolate_data, load_raster, save_raster\n",
    "from ltm.visualize import show_timeseries\n",
    "from pathlib import Path\n",
    "from datetime import datetime\n",
    "import matplotlib.pyplot as plt\n",
    "\n",
    "data_path = \"../data/processed/fails/timeseries.tif\"\n",
    "interpolated_path = \"../data/processed/fails/timeseries_interpolated.tif\"\n",
    "target_path = \"../data/processed/target.tif\"\n",
    "from_year = 2017\n",
    "to_year = 2024\n",
    "\n",
    "reducer = \"median\"\n",
    "rgb_bands = [\"TCI_R\", \"TCI_G\", \"TCI_B\"]\n",
    "\n",
    "if not Path(data_path).exists():\n",
    "    Path(data_path).parent.mkdir(parents=True, exist_ok=True)\n",
    "\n",
    "    sentinel_composite(\n",
    "        target_path_from=target_path,\n",
    "        data_path_to=data_path,\n",
    "        time_window=(datetime(from_year, 4, 1), datetime(to_year, 4, 1)),\n",
    "        num_composites=to_year - from_year,\n",
    "        temporal_reducers=[reducer],\n",
    "        sentinel_bands=rgb_bands,\n",
    "    )\n",
    "\n",
    "data = load_raster(data_path)\n",
    "data = interpolate_data(data)\n",
    "save_raster(data, data_path, interpolated_path)\n",
    "\n",
    "show_timeseries(interpolated_path, reducer, rgb_bands)\n",
    "\n",
    "plt.show()"
   ]
  }
 ],
 "metadata": {
  "kernelspec": {
   "display_name": "ltm",
   "language": "python",
   "name": "python3"
  },
  "language_info": {
   "codemirror_mode": {
    "name": "ipython",
    "version": 3
   },
   "file_extension": ".py",
   "mimetype": "text/x-python",
   "name": "python",
   "nbconvert_exporter": "python",
   "pygments_lexer": "ipython3",
   "version": "3.10.14"
  }
 },
 "nbformat": 4,
 "nbformat_minor": 2
}
