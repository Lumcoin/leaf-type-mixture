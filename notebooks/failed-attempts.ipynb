{
 "cells": [
  {
   "cell_type": "markdown",
   "metadata": {},
   "source": [
    "Definitely failed:\n",
    "- PALSAR raster\n",
    "- nDOM (no noticeable performance improvement and introduces unnecessary complexity)\n",
    "- Glo\n",
    "\n",
    "Still interesting\n",
    "- base area prediction"
   ]
  }
 ],
 "metadata": {
  "language_info": {
   "name": "python"
  }
 },
 "nbformat": 4,
 "nbformat_minor": 2
}
