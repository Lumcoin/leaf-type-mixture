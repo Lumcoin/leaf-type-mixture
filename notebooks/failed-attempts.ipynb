{
 "cells": [
  {
   "cell_type": "markdown",
   "metadata": {},
   "source": [
    "Definitely failed:\n",
    "- PALSAR raster\n",
    "- nDOM (no noticeable performance improvement and introduces unnecessary complexity)\n",
    "- similarity matrix (as it is just high level and very unreadable for all bands and indices)\n",
    "\n",
    "Hurdles:\n",
    "- Limits of Google Earth Engine\n",
    "- Slowness of computations, especially near the end, when everything had to work together\n",
    "- keep oneself organized when having to manage everything within one project\n",
    "\n",
    "Still interesting\n",
    "- base area prediction"
   ]
  },
  {
   "cell_type": "markdown",
   "metadata": {},
   "source": [
    "# Similarity Matrix and Dendrogram"
   ]
  },
  {
   "cell_type": "code",
   "execution_count": null,
   "metadata": {},
   "outputs": [],
   "source": [
    "# List the optimal bands\n",
    "from ltm.models import bands_from_importance\n",
    "\n",
    "sentinel_bands, indices = bands_from_importance(\n",
    "    \"../reports/band_importance.csv\"\n",
    ")"
   ]
  },
  {
   "cell_type": "code",
   "execution_count": null,
   "metadata": {},
   "outputs": [],
   "source": [
    "from ltm.features import get_similarity_matrix, load_raster, show_similarity_matrix\n",
    "from ltm.data import split_band_name\n",
    "\n",
    "data = load_raster(\"../data/processed/band_importance/data.tif\")\n",
    "\n",
    "bands = sentinel_bands + indices\n",
    "columns = [column for column in data.columns if split_band_name(column)[2].replace(\" \", \"_\") in bands]"
   ]
  },
  {
   "cell_type": "code",
   "execution_count": null,
   "metadata": {},
   "outputs": [],
   "source": [
    "similarity_matrix = get_similarity_matrix(data[columns], method=\"pearson\")\n",
    "show_similarity_matrix(similarity_matrix)"
   ]
  },
  {
   "cell_type": "code",
   "execution_count": null,
   "metadata": {},
   "outputs": [],
   "source": [
    "from ltm.features import show_dendrogram\n",
    "\n",
    "show_dendrogram(similarity_matrix)"
   ]
  },
  {
   "cell_type": "markdown",
   "metadata": {},
   "source": [
    "# Show timeseries"
   ]
  },
  {
   "cell_type": "code",
   "execution_count": null,
   "metadata": {},
   "outputs": [],
   "source": [
    "from ltm.data import show_timeseries, sentinel_composite\n",
    "from pathlib import Path\n",
    "from datetime import datetime\n",
    "\n",
    "data_path = \"../data/processed/fails/timeseries.tif\"\n",
    "target_path = \"../data/processed/target.tif\"\n",
    "\n",
    "rgb_bands = [\"B4\", \"B3\", \"B2\"]\n",
    "\n",
    "if not Path(data_path).exists():\n",
    "    Path(data_path).parent.mkdir(parents=True, exist_ok=True)\n",
    "\n",
    "    sentinel_composite(\n",
    "        target_path_from=target_path,\n",
    "        data_path_to=data_path,\n",
    "        time_window=(datetime(2017, 4, 1), datetime(2018, 4, 1)),\n",
    "        num_composites=12,\n",
    "        sentinel_bands=rgb_bands,\n",
    "    )\n",
    "\n",
    "show_timeseries(data_path, \"Mean\", rgb_bands)"
   ]
  }
 ],
 "metadata": {
  "kernelspec": {
   "display_name": "ltm",
   "language": "python",
   "name": "python3"
  },
  "language_info": {
   "codemirror_mode": {
    "name": "ipython",
    "version": 3
   },
   "file_extension": ".py",
   "mimetype": "text/x-python",
   "name": "python",
   "nbconvert_exporter": "python",
   "pygments_lexer": "ipython3",
   "version": "3.10.14"
  }
 },
 "nbformat": 4,
 "nbformat_minor": 2
}
