{
 "cells": [
  {
   "cell_type": "markdown",
   "metadata": {},
   "source": [
    "# Together with PALSAR & other Level 2A bands"
   ]
  },
  {
   "cell_type": "code",
   "execution_count": null,
   "metadata": {},
   "outputs": [],
   "source": [
    "# Create a raster from a PALSAR image\n",
    "from ltm.data import palsar_raster\n",
    "from datetime import datetime\n",
    "from pathlib import Path\n",
    "\n",
    "X_path = \"../data/processed/band_importance/X_palsar.tif\"\n",
    "\n",
    "if not Path(y_path).exists():\n",
    "    start = datetime(2017, 4, 1)\n",
    "    end = datetime(2018, 4, 1)\n",
    "    middle = start + (end - start) / 2\n",
    "\n",
    "    Path(X_path).parent.mkdir(parents=True, exist_ok=True)\n",
    "\n",
    "    raster = palsar_raster(\n",
    "        y_path_from=y_path,\n",
    "        X_path_to=X_path,\n",
    "        timestamp=middle,\n",
    "    )"
   ]
  },
  {
   "cell_type": "code",
   "execution_count": null,
   "metadata": {},
   "outputs": [],
   "source": [
    "# Create a raster from a Sentinel image with all bands and indices\n",
    "from ltm.data import sentinel_composite, list_bands, list_indices\n",
    "from datetime import datetime\n",
    "from pathlib import Path\n",
    "\n",
    "y_path = \"../data/processed/y.tif\"\n",
    "X_path = \"../data/processed/band_importance/X_sentinel.tif\"\n",
    "\n",
    "if not Path(X_path).exists():\n",
    "    sentinel_composite(\n",
    "        y_path_from=\"../data/processed/y.tif\",\n",
    "        X_path_to=X_path,\n",
    "        time_window=(datetime(2017, 4, 1), datetime(2018, 4, 1)),\n",
    "        indices=list_indices(),\n",
    "        sentinel_bands=list_bands(),\n",
    "    )"
   ]
  },
  {
   "cell_type": "code",
   "execution_count": null,
   "metadata": {},
   "outputs": [],
   "source": [
    "from sklearn.decomposition import PCA\n",
    "import matplotlib.pyplot as plt\n",
    "import numpy as np\n",
    "from ltm.features import load_raster\n",
    "import pandas as pd\n",
    "from sklearn.preprocessing import StandardScaler\n",
    "\n",
    "# Define the dataset\n",
    "X = load_raster(\"../data/processed/band_importance/X_sentinel.tif\")\n",
    "X_palsar = load_raster(\"../data/processed/band_importance/X_palsar.tif\")\n",
    "X = pd.concat([X, X_palsar], axis=1)\n",
    "\n",
    "scaler = StandardScaler()\n",
    "scaled_df = pd.DataFrame(scaler.fit_transform(X), columns=X.columns)\n",
    "\n",
    "# Define PCA model to use\n",
    "pca = PCA()\n",
    "pca_fit = pca.fit(scaled_df)\n",
    "PC_values = np.arange(pca.n_components_) + 1\n",
    "\n",
    "plt.plot(PC_values, np.cumsum(pca.explained_variance_ratio_))\n",
    "plt.title('Scree Plot')\n",
    "plt.xlabel('Principal Component')\n",
    "plt.ylabel('Variance Explained')\n",
    "plt.show()"
   ]
  },
  {
   "cell_type": "code",
   "execution_count": null,
   "metadata": {},
   "outputs": [],
   "source": [
    "# Compute the scores for each step of the RFE for PALSAR and Sentinel data\n",
    "from ltm.features import load_raster, drop_nan_rows\n",
    "from sklearn.ensemble import RandomForestRegressor\n",
    "from sklearn.feature_selection import RFE\n",
    "from sklearn.metrics import make_scorer, mean_squared_error, mean_absolute_error, r2_score\n",
    "from sklearn.model_selection import cross_validate\n",
    "\n",
    "import pandas as pd\n",
    "from tqdm import tqdm\n",
    "\n",
    "band_importance_path = \"../reports/band_importance.csv\"\n",
    "if not Path(band_importance_path).exists():\n",
    "    # Load the raster, label and drop rows with NaN values\n",
    "    X = load_raster(\"../data/processed/band_importance/X_sentinel.tif\")\n",
    "    y = load_raster(\"../data/processed/y.tif\")\n",
    "    X, y = drop_nan_rows(X, y)\n",
    "\n",
    "    # Create the RFE object and rank each pixel\n",
    "    rf = RandomForestRegressor(n_jobs=-1)\n",
    "    rfe = RFE(estimator=rf, n_features_to_select=1, step=1, verbose=1)\n",
    "    rfe.fit(X, y)\n",
    "\n",
    "    scoring = {\n",
    "        \"R2 Score\": make_scorer(r2_score),\n",
    "        \"Mean Absolute Error\": make_scorer(mean_absolute_error),\n",
    "        \"Root Mean Squared Error\": make_scorer(mean_squared_error, squared=False)\n",
    "    }\n",
    "\n",
    "    ranking = rfe.ranking_\n",
    "    feature_names = rfe.feature_names_in_\n",
    "\n",
    "    order_index = ranking.argsort()\n",
    "    ordered_features = feature_names[order_index]\n",
    "    score_df = pd.DataFrame(columns=scoring.keys())\n",
    "    for i in tqdm(range(ordered_features.shape[0])):\n",
    "        curr_X = X[ordered_features[:i+1]]\n",
    "        random_forest = RandomForestRegressor(n_jobs=-1, random_state=42)\n",
    "        scores = cross_validate(random_forest, curr_X, y, scoring=scoring, n_jobs=-1)\n",
    "        score_df.loc[ordered_features[i]] = [scores[f\"test_{key}\"].mean() for key in scoring.keys()]\n",
    "\n",
    "    score_df.to_csv(band_importance_path, index_label=\"Band\")\n",
    "else:\n",
    "    score_df = pd.read_csv(band_importance_path, index_col=0)\n",
    "\n",
    "score_df"
   ]
  },
  {
   "cell_type": "code",
   "execution_count": null,
   "metadata": {},
   "outputs": [],
   "source": [
    "import matplotlib.pyplot as plt\n",
    "import scienceplots\n",
    "\n",
    "plt.style.use('science')"
   ]
  },
  {
   "cell_type": "code",
   "execution_count": null,
   "metadata": {},
   "outputs": [],
   "source": [
    "from ltm.models import plot_report\n",
    "\n",
    "ax = plot_report(\n",
    "    score_df,\n",
    "    \"RFE Results\",\n",
    "    \"Feature\",\n",
    "    \"Score\",\n",
    "    label_rotation=90,\n",
    "    replace_labels={\"R2 Score\": \"$R^2$ Score\"},\n",
    "    figsize=(8, 2),\n",
    ")\n",
    "\n",
    "plt.show()"
   ]
  },
  {
   "cell_type": "code",
   "execution_count": null,
   "metadata": {},
   "outputs": [],
   "source": [
    "score_df[\"R2 Score\"].idxmax(), score_df[\"Root Mean \"].idxmax(), score_df[\"R2 Score\"].idxmax()"
   ]
  },
  {
   "cell_type": "markdown",
   "metadata": {},
   "source": [
    "# Idx 21 is best"
   ]
  },
  {
   "cell_type": "code",
   "execution_count": null,
   "metadata": {},
   "outputs": [],
   "source": [
    "list(score_df.index).index(score_df[\"R2 Score\"].idxmax())"
   ]
  },
  {
   "cell_type": "markdown",
   "metadata": {},
   "source": [
    "# Scree Plot"
   ]
  },
  {
   "cell_type": "markdown",
   "metadata": {},
   "source": []
  },
  {
   "cell_type": "markdown",
   "metadata": {},
   "source": [
    "# Partial Autocorrelation inspired correlation\n",
    "\n",
    "partial autocorrelation: x(t) and x(t-1) are correlated, as well as x(t-1) and x(t-2). x(t) and x(t-2) are also, but how much of that is due to x(t-1) and x(t-2) being correlated? Partial autocorrelation removes the effect of x(t-1) and x(t-2) on x(t) and x(t-2) respectively, and then measures the correlation between x(t) and x(t-2), \"cleaned\" with correlation with x(t-1)."
   ]
  }
 ],
 "metadata": {
  "kernelspec": {
   "display_name": "ltm",
   "language": "python",
   "name": "python3"
  },
  "language_info": {
   "codemirror_mode": {
    "name": "ipython",
    "version": 3
   },
   "file_extension": ".py",
   "mimetype": "text/x-python",
   "name": "python",
   "nbconvert_exporter": "python",
   "pygments_lexer": "ipython3",
   "version": "3.11.5"
  }
 },
 "nbformat": 4,
 "nbformat_minor": 2
}
