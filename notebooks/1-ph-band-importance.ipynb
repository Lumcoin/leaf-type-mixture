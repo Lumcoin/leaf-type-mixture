{
 "cells": [
  {
   "cell_type": "markdown",
   "metadata": {},
   "source": [
    "# Band Importance\n",
    "\n",
    "The goal of the first experiment is to find the best combination of bands, which consist of Sentinel 2 Level-2A bands and derived indices for our problem. The experiment assumes the following:\n",
    "\n",
    "- A composite raster is created from averaging across a 1 year long time window, starting with 1. April, 2017, thus covering all seasons. April of 2017 was the first whole month with Level-2A imagery and the closest to the recording dates.\n",
    "- Random Forest from scikit-learn with default parameters is chosen as the regression model.\n",
    "- RMSE (Root Mean Squared Error) is used as evaluation metric for the model\n",
    "\n",
    "The experiment is conducted on all Level-2A bands accessible from Google Earth Engine as well as all indices derived from those offered by the [eemont](https://github.com/davemlz/eemont) package:"
   ]
  },
  {
   "cell_type": "code",
   "execution_count": null,
   "metadata": {},
   "outputs": [],
   "source": [
    "# List all available Sentinel 2 Level-2A bands\n",
    "from ltm.data import list_bands\n",
    "\n",
    "bands = list_bands()\n",
    "\n",
    "bands"
   ]
  },
  {
   "cell_type": "code",
   "execution_count": null,
   "metadata": {},
   "outputs": [],
   "source": [
    "# List all available indices offered by eemont\n",
    "from ltm.data import list_indices\n",
    "\n",
    "indices = list_indices()\n",
    "\n",
    "indices"
   ]
  },
  {
   "cell_type": "markdown",
   "metadata": {},
   "source": [
    "We first create the raster for the study area and create a scree plot to show the explained variance across a range of principal components:"
   ]
  },
  {
   "cell_type": "code",
   "execution_count": null,
   "metadata": {},
   "outputs": [],
   "source": [
    "# Create a composite from a Sentinel image with all available bands and indices\n",
    "from ltm.data import sentinel_composite\n",
    "from datetime import datetime\n",
    "from pathlib import Path\n",
    "\n",
    "# Define the label path as well as the path to write the raster to\n",
    "target_path = \"../data/processed/target.tif\"\n",
    "data_path = \"../data/processed/band_importance/data.tif\"\n",
    "Path(data_path).parent.mkdir(parents=True, exist_ok=True)\n",
    "\n",
    "# Create the composite if it does not exist\n",
    "if not Path(data_path).exists():\n",
    "    sentinel_composite(\n",
    "        target_path_from=target_path,\n",
    "        data_path_to=data_path,\n",
    "        time_window=(datetime(2017, 4, 1), datetime(2018, 4, 1)),\n",
    "        indices=indices,\n",
    "        sentinel_bands=bands,\n",
    "    )"
   ]
  },
  {
   "cell_type": "code",
   "execution_count": null,
   "metadata": {},
   "outputs": [],
   "source": [
    "# Use science style for plots\n",
    "import matplotlib.pyplot as plt\n",
    "import scienceplots\n",
    "\n",
    "plt.style.use(\"science\")"
   ]
  },
  {
   "cell_type": "code",
   "execution_count": null,
   "metadata": {},
   "outputs": [],
   "source": [
    "# Draw the scree plot for the data\n",
    "from sklearn.decomposition import PCA\n",
    "import matplotlib.pyplot as plt\n",
    "import numpy as np\n",
    "from ltm.features import load_raster\n",
    "import pandas as pd\n",
    "from sklearn.preprocessing import StandardScaler\n",
    "\n",
    "# Define the dataset\n",
    "data = load_raster(data_path)\n",
    "scaler = StandardScaler()\n",
    "scaled_df = pd.DataFrame(scaler.fit_transform(data), columns=data.columns)\n",
    "\n",
    "# Define PCA model to use\n",
    "pca = PCA()\n",
    "pca_fit = pca.fit(scaled_df)\n",
    "PC_values = np.arange(pca.n_components_) + 1\n",
    "\n",
    "# Plot\n",
    "plt.plot(PC_values, np.cumsum(pca.explained_variance_ratio_))\n",
    "plt.title(\"Scree Plot\")\n",
    "plt.xlabel(\"Principal Components\")\n",
    "plt.ylabel(\"Explained Variance\")\n",
    "plt.show()"
   ]
  },
  {
   "cell_type": "markdown",
   "metadata": {},
   "source": [
    "The scree plot indicates that above 50 components there is no significant increase in explained variance. Now we perform recursive feature elimination to determine the best combination of bands and indices:"
   ]
  },
  {
   "cell_type": "code",
   "execution_count": null,
   "metadata": {},
   "outputs": [],
   "source": [
    "# Compute the scores for each step of the RFE\n",
    "from ltm.data import split_band_name\n",
    "from ltm.features import load_raster\n",
    "from sklearn.ensemble import RandomForestRegressor\n",
    "from sklearn.feature_selection import RFE\n",
    "from sklearn.metrics import make_scorer, root_mean_squared_error\n",
    "from sklearn.model_selection import cross_validate\n",
    "\n",
    "import pandas as pd\n",
    "from tqdm.notebook import tqdm\n",
    "\n",
    "# Check if the report is already available\n",
    "band_importance_path = \"../reports/band_importance.csv\"\n",
    "if not Path(band_importance_path).exists():\n",
    "    Path(band_importance_path).parent.mkdir(parents=True, exist_ok=True)\n",
    "\n",
    "    # Load the raster, label and drop rows with NaN label\n",
    "    data = load_raster(data_path)\n",
    "    target = load_raster(target_path)\n",
    "    data, target = data[target.notna()], target[target.notna()]\n",
    "\n",
    "    # Create the RFE object and rank each pixel\n",
    "    rf = RandomForestRegressor(n_jobs=-1, random_state=42)\n",
    "    rfe = RFE(estimator=rf, n_features_to_select=1, step=1, verbose=1)\n",
    "    rfe.fit(data, target)\n",
    "\n",
    "    # Define the scoring metrics\n",
    "    scoring = {\"Root Mean Squared Error\": make_scorer(root_mean_squared_error)}\n",
    "\n",
    "    # Get the features in reverse order of elimination\n",
    "    ranking = rfe.ranking_\n",
    "    feature_names = rfe.feature_names_in_\n",
    "    order_index = ranking.argsort()\n",
    "    ordered_features = feature_names[order_index]\n",
    "\n",
    "    # Compute the score for each step of the RFE\n",
    "    score_df = pd.DataFrame(columns=scoring.keys())\n",
    "    for i in tqdm(range(ordered_features.shape[0])):\n",
    "        # Fit the model with the current features\n",
    "        curr_data = data[ordered_features[: i + 1]]\n",
    "        random_forest = RandomForestRegressor(n_jobs=-1, random_state=42)\n",
    "        scores = cross_validate(\n",
    "            random_forest, curr_data, target, scoring=scoring, n_jobs=-1\n",
    "        )\n",
    "\n",
    "        # Store the score in the dataframe\n",
    "        band_label = split_band_name(ordered_features[i])[1]\n",
    "        score_df.loc[band_label] = [\n",
    "            scores[f\"test_{key}\"].mean() for key in scoring.keys()\n",
    "        ]\n",
    "\n",
    "    # Save the scores to a CSV file\n",
    "    score_df.to_csv(band_importance_path, index_label=\"Band\")\n",
    "    score_df.index.name = \"Band\"\n",
    "else:\n",
    "    # Load the scores from the CSV file\n",
    "    score_df = pd.read_csv(band_importance_path, index_col=0)"
   ]
  },
  {
   "cell_type": "code",
   "execution_count": null,
   "metadata": {},
   "outputs": [],
   "source": [
    "# Plot the RFE results\n",
    "from ltm.visualize import plot_report\n",
    "\n",
    "# Replace the index with number of features\n",
    "df = score_df.reset_index()\n",
    "df.index = df.index + 1\n",
    "\n",
    "# Plot\n",
    "ax = plot_report(\n",
    "    df,\n",
    "    \"RFE Result\",\n",
    "    \"Features\",\n",
    "    \"Score\",\n",
    "    label_rotation=90,\n",
    "    figsize=(6, 3),\n",
    "    categorical_x=False,\n",
    ")\n",
    "\n",
    "# Plot vertical line for the optimal number of features\n",
    "optimal_features = df.idxmin().iloc[1]\n",
    "ax.axvline(x=optimal_features, color=\"red\", linestyle=\"--\")\n",
    "# TODO: proper legend\n",
    "\n",
    "plt.show()"
   ]
  },
  {
   "cell_type": "code",
   "execution_count": null,
   "metadata": {},
   "outputs": [],
   "source": [
    "# List all bands up to the last band with an optimal score\n",
    "from ltm.models import bands_from_importance\n",
    "\n",
    "sentinel_bands, index_bands = bands_from_importance(band_importance_path)\n",
    "\n",
    "sentinel_bands, index_bands"
   ]
  }
 ],
 "metadata": {
  "kernelspec": {
   "display_name": "ltm",
   "language": "python",
   "name": "python3"
  },
  "language_info": {
   "codemirror_mode": {
    "name": "ipython",
    "version": 3
   },
   "file_extension": ".py",
   "mimetype": "text/x-python",
   "name": "python",
   "nbconvert_exporter": "python",
   "pygments_lexer": "ipython3",
   "version": "3.10.14"
  }
 },
 "nbformat": 4,
 "nbformat_minor": 2
}
