{
 "cells": [
  {
   "cell_type": "markdown",
   "metadata": {},
   "source": [
    "# Cross-val predict on seen data\n",
    "\n",
    "# Prediction on unseen data"
   ]
  },
  {
   "cell_type": "code",
   "execution_count": null,
   "metadata": {},
   "outputs": [],
   "source": [
    "# Create empty target raster from shape with NaN outside of shape\n",
    "from ltm.data import shapefile2raster\n",
    "from pathlib import Path\n",
    "\n",
    "shapefile_path = \"../data/raw/Forst/Forst.shp\"\n",
    "target_path = f\"../data/processed/generalization/Forst.tif\"\n",
    "Path(target_path).parent.mkdir(parents=True, exist_ok=True)\n",
    "\n",
    "if not Path(target_path).exists():\n",
    "    shapefile2raster(\n",
    "        target_path,\n",
    "        shapefile_path,\n",
    "    )"
   ]
  },
  {
   "cell_type": "code",
   "execution_count": null,
   "metadata": {},
   "outputs": [],
   "source": [
    "# Get optimal composite values\n",
    "import pandas as pd\n",
    "\n",
    "df = pd.read_csv(\"../reports/reducer_composites.csv\")\n",
    "metric = \"Root Mean Squared Error\"\n",
    "\n",
    "optimal_idx = df.groupby(\"Reducer\")[metric].idxmin()\n",
    "optimal_df = df.loc[optimal_idx]\n",
    "optimal_df = optimal_df.set_index(\"Reducer\")\n",
    "\n",
    "reducers = [\n",
    "    \"median\",\n",
    "    \"mean\",\n",
    "    \"mode\",\n",
    "    \"min\",\n",
    "    \"max\",\n",
    "    \"sampleVariance\",\n",
    "    \"kendallsCorrelation\",\n",
    "    \"skew\",\n",
    "    \"kurtosis\",\n",
    "]\n",
    "\n",
    "optimal_df = optimal_df.loc[reducers]\n",
    "composite_dict = optimal_df[\"Composites\"].to_dict()\n",
    "\n",
    "composite_dict"
   ]
  },
  {
   "cell_type": "code",
   "execution_count": null,
   "metadata": {},
   "outputs": [],
   "source": [
    "# List the optimal bands\n",
    "from ltm.models import bands_from_importance\n",
    "\n",
    "sentinel_bands, indices = bands_from_importance(\n",
    "    \"../reports/band_importance.csv\"\n",
    ")\n",
    "\n",
    "sentinel_bands, indices"
   ]
  },
  {
   "cell_type": "code",
   "execution_count": null,
   "metadata": {},
   "outputs": [],
   "source": [
    "# Create composite\n",
    "from ltm.data import sentinel_composite\n",
    "from ltm.features import load_raster, interpolate_data, to_float32, save_raster\n",
    "from datetime import datetime\n",
    "from tqdm.notebook import tqdm\n",
    "from time import sleep\n",
    "\n",
    "# Define start year, starting at July 1st until June 30th of the next year\n",
    "YEAR = 2020\n",
    "\n",
    "# Create the composite folder\n",
    "stem = Path(target_path).stem\n",
    "composite_folder = Path(target_path).parent / stem\n",
    "composite_folder.mkdir(exist_ok=True)\n",
    "\n",
    "# Handle each reducer separately\n",
    "total_data = pd.DataFrame()\n",
    "for reducer, num_composites in tqdm(composite_dict.items()):\n",
    "    composite_path = f\"{composite_folder}/{stem}_{reducer}_{num_composites}.tif\"  # Create the composite if it does not exist\n",
    "    while not Path(composite_path).exists():\n",
    "        try:\n",
    "            sentinel_composite(\n",
    "                target_path,\n",
    "                composite_path,\n",
    "                time_window=(datetime(YEAR, 7, 1), datetime(YEAR + 1, 7, 1)),\n",
    "                num_composites=num_composites,\n",
    "                temporal_reducers=[reducer],\n",
    "                indices=indices,\n",
    "                sentinel_bands=sentinel_bands,\n",
    "            )\n",
    "        except ValueError:\n",
    "            # sleep for five minutes\n",
    "            sleep(300)\n",
    "\n",
    "    # Combine into one raster\n",
    "    data = load_raster(composite_path)\n",
    "    data = interpolate_data(data)\n",
    "    data.dropna(axis=1, inplace=True)  # Kendall's Correlation P-Value\n",
    "    data = to_float32(data)\n",
    "    total_data = pd.concat([total_data, data], axis=1)\n",
    "\n",
    "# Save the total data\n",
    "total_data_path = f\"{composite_folder}/{stem}.tif\"\n",
    "if not Path(total_data_path).exists():\n",
    "    save_raster(total_data, target_path, total_data_path)\n",
    "\n",
    "# Load the data\n",
    "data = load_raster(total_data_path)"
   ]
  },
  {
   "cell_type": "code",
   "execution_count": null,
   "metadata": {},
   "outputs": [],
   "source": [
    "# Train best model on labeled data of the study area\n",
    "import dill\n",
    "from ltm.features import drop_nan_rows\n",
    "\n",
    "df = pd.read_csv(\"../reports/hyperparameter_tuning.csv\", index_col=0)\n",
    "best_model = df[\"Root Mean Squared Error\"].idxmin()\n",
    "\n",
    "with open(f\"../models/{best_model}.pkl\", \"rb\") as f:\n",
    "    model = dill.load(f)\n",
    "\n",
    "# Load the data\n",
    "study_area_data = load_raster(\"../data/processed/data.tif\")\n",
    "study_area_target = load_raster(\"../data/processed/target.tif\")\n",
    "study_area_data, study_area_target = drop_nan_rows(study_area_data, study_area_target)\n",
    "\n",
    "# Train the model\n",
    "model.fit(study_area_data, study_area_target)\n",
    "\n",
    "model"
   ]
  },
  {
   "cell_type": "code",
   "execution_count": null,
   "metadata": {},
   "outputs": [],
   "source": [
    "# Save prediction to target raster\n",
    "xgb_pred = model.predict(data)\n",
    "\n",
    "xgb_pred"
   ]
  },
  {
   "cell_type": "code",
   "execution_count": null,
   "metadata": {},
   "outputs": [],
   "source": [
    "import rasterio\n",
    "import matplotlib.pyplot as plt\n",
    "\n",
    "with rasterio.open(target_path) as src:\n",
    "    shape = src.read().shape\n",
    "\n",
    "xgb_reshaped = xgb_pred.reshape(shape)\n",
    "\n",
    "plt.imshow(xgb_reshaped.transpose(1, 2, 0), cmap=\"viridis\")"
   ]
  },
  {
   "cell_type": "code",
   "execution_count": null,
   "metadata": {},
   "outputs": [],
   "source": [
    "# Plot the prediction\n",
    "import matplotlib.pyplot as plt\n",
    "import scienceplots\n",
    "\n",
    "plt.style.use(\"science\")"
   ]
  }
 ],
 "metadata": {
  "kernelspec": {
   "display_name": "ltm",
   "language": "python",
   "name": "python3"
  },
  "language_info": {
   "codemirror_mode": {
    "name": "ipython",
    "version": 3
   },
   "file_extension": ".py",
   "mimetype": "text/x-python",
   "name": "python",
   "nbconvert_exporter": "python",
   "pygments_lexer": "ipython3",
   "version": "3.10.14"
  }
 },
 "nbformat": 4,
 "nbformat_minor": 2
}
