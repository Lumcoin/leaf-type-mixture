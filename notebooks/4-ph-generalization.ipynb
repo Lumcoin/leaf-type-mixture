{
 "cells": [
  {
   "cell_type": "markdown",
   "metadata": {},
   "source": [
    "# Cross-val predict on seen data\n",
    "\n",
    "# Prediction on unseen data"
   ]
  },
  {
   "cell_type": "code",
   "execution_count": 1,
   "metadata": {},
   "outputs": [],
   "source": [
    "# Create empty target raster from shape with NaN outside of shape\n",
    "from ltm.data import shapefile2raster\n",
    "from pathlib import Path\n",
    "\n",
    "shapefile_path = \"../data/raw/Freisinger Forst/Freisinger Forst.shp\"\n",
    "target_path = f\"../data/processed/generalization/Freisinger Forst.tif\"\n",
    "Path(target_path).parent.mkdir(parents=True, exist_ok=True)\n",
    "\n",
    "if not Path(target_path).exists():\n",
    "    shapefile2raster(\n",
    "        target_path,\n",
    "        shapefile_path,\n",
    "    )"
   ]
  },
  {
   "cell_type": "code",
   "execution_count": 2,
   "metadata": {},
   "outputs": [
    {
     "data": {
      "text/plain": [
       "{'median': 10,\n",
       " 'mean': 11,\n",
       " 'mode': 12,\n",
       " 'min': 12,\n",
       " 'max': 12,\n",
       " 'sampleVariance': 2,\n",
       " 'kendallsCorrelation': 3,\n",
       " 'skew': 1,\n",
       " 'kurtosis': 5}"
      ]
     },
     "execution_count": 2,
     "metadata": {},
     "output_type": "execute_result"
    }
   ],
   "source": [
    "# Get optimal composite values\n",
    "import pandas as pd\n",
    "\n",
    "df = pd.read_csv(\"../reports/reducer_composites.csv\")\n",
    "metric = \"Root Mean Squared Error\"\n",
    "\n",
    "optimal_idx = df.groupby(\"Reducer\")[metric].idxmin()\n",
    "optimal_df = df.loc[optimal_idx]\n",
    "optimal_df = optimal_df.set_index(\"Reducer\")\n",
    "\n",
    "reducers = [\n",
    "    \"median\",\n",
    "    \"mean\",\n",
    "    \"mode\",\n",
    "    \"min\",\n",
    "    \"max\",\n",
    "    \"sampleVariance\",\n",
    "    \"kendallsCorrelation\",\n",
    "    \"skew\",\n",
    "    \"kurtosis\",\n",
    "]\n",
    "\n",
    "optimal_df = optimal_df.loc[reducers]\n",
    "composite_dict = optimal_df[\"Composites\"].to_dict()\n",
    "\n",
    "composite_dict"
   ]
  },
  {
   "cell_type": "code",
   "execution_count": 3,
   "metadata": {},
   "outputs": [
    {
     "name": "stdout",
     "output_type": "stream",
     "text": [
      "Initializing Earth Engine API...\n"
     ]
    },
    {
     "data": {
      "text/plain": [
       "(['B9', 'WVP', 'TCI_G'],\n",
       " ['BAIM',\n",
       "  'BCC',\n",
       "  'BRBA',\n",
       "  'BWDRVI',\n",
       "  'GCC',\n",
       "  'GVMI',\n",
       "  'MCARI705',\n",
       "  'MGRVI',\n",
       "  'MIRBI',\n",
       "  'MLSWI26',\n",
       "  'MNLI',\n",
       "  'MTCI',\n",
       "  'NBRplus',\n",
       "  'NDCI',\n",
       "  'NDDI',\n",
       "  'NDGI',\n",
       "  'S2WI',\n",
       "  'SIPI',\n",
       "  'TRRVI',\n",
       "  'TTVI',\n",
       "  'VIBI',\n",
       "  'WI2015',\n",
       "  'kEVI',\n",
       "  'kIPVI',\n",
       "  'kNDVI',\n",
       "  'kVARI',\n",
       "  'mND705',\n",
       "  'mSR705'])"
      ]
     },
     "execution_count": 3,
     "metadata": {},
     "output_type": "execute_result"
    }
   ],
   "source": [
    "# List the optimal bands\n",
    "from ltm.models import bands_from_importance\n",
    "\n",
    "sentinel_bands, indices = bands_from_importance(\n",
    "    \"../reports/band_importance.csv\"\n",
    ")\n",
    "\n",
    "sentinel_bands, indices"
   ]
  },
  {
   "cell_type": "code",
   "execution_count": 4,
   "metadata": {},
   "outputs": [
    {
     "name": "stderr",
     "output_type": "stream",
     "text": [
      "100%|██████████| 9/9 [00:06<00:00,  1.45it/s]\n"
     ]
    }
   ],
   "source": [
    "# Create composite\n",
    "from ltm.data import sentinel_composite\n",
    "from ltm.features import load_raster, interpolate_data, to_float32, save_raster\n",
    "from datetime import datetime\n",
    "from tqdm import tqdm\n",
    "\n",
    "# Define start year, starting at July 1st until June 30th of the next year\n",
    "YEAR = 2020\n",
    "\n",
    "# Create the composite folder\n",
    "stem = Path(target_path).stem\n",
    "composite_folder = Path(target_path).parent / stem\n",
    "composite_folder.mkdir(exist_ok=True)\n",
    "\n",
    "# Handle each reducer separately\n",
    "total_data = pd.DataFrame()\n",
    "for reducer, num_composites in tqdm(composite_dict.items()):\n",
    "    composite_path = f\"{composite_folder}/{stem}_{reducer}_{num_composites}.tif\"  # Create the composite if it does not exist\n",
    "    if not Path(composite_path).exists():\n",
    "        sentinel_composite(\n",
    "            target_path,\n",
    "            composite_path,\n",
    "            time_window=(datetime(YEAR, 7, 1), datetime(YEAR + 1, 7, 1)),\n",
    "            num_composites=num_composites,\n",
    "            temporal_reducers=[reducer],\n",
    "            indices=indices,\n",
    "            sentinel_bands=sentinel_bands,\n",
    "        )\n",
    "\n",
    "    # Combine into one raster\n",
    "    data = load_raster(composite_path)\n",
    "    data = interpolate_data(data)\n",
    "    data.dropna(axis=1, inplace=True)  # Kendall's Correlation P-Value\n",
    "    data = to_float32(data)\n",
    "    total_data = pd.concat([total_data, data], axis=1)\n",
    "\n",
    "# Save the total data\n",
    "total_data_path = f\"{composite_folder}/{stem}.tif\"\n",
    "if not Path(total_data_path).exists():\n",
    "    save_raster(total_data, target_path, total_data_path)\n",
    "\n",
    "# Load the data\n",
    "data = load_raster(total_data_path)"
   ]
  },
  {
   "cell_type": "code",
   "execution_count": 5,
   "metadata": {},
   "outputs": [
    {
     "name": "stderr",
     "output_type": "stream",
     "text": [
      "c:\\Users\\hofin\\mambaforge\\envs\\ltm\\Lib\\site-packages\\xgboost\\data.py:312: FutureWarning: is_sparse is deprecated and will be removed in a future version. Check `isinstance(dtype, pd.SparseDtype)` instead.\n",
      "  if is_sparse(dtype):\n",
      "c:\\Users\\hofin\\mambaforge\\envs\\ltm\\Lib\\site-packages\\xgboost\\data.py:314: FutureWarning: is_categorical_dtype is deprecated and will be removed in a future version. Use isinstance(dtype, CategoricalDtype) instead\n",
      "  elif is_categorical_dtype(dtype) and enable_categorical:\n",
      "c:\\Users\\hofin\\mambaforge\\envs\\ltm\\Lib\\site-packages\\xgboost\\data.py:345: FutureWarning: is_categorical_dtype is deprecated and will be removed in a future version. Use isinstance(dtype, CategoricalDtype) instead\n",
      "  if is_categorical_dtype(dtype)\n",
      "c:\\Users\\hofin\\mambaforge\\envs\\ltm\\Lib\\site-packages\\xgboost\\data.py:336: FutureWarning: is_categorical_dtype is deprecated and will be removed in a future version. Use isinstance(dtype, CategoricalDtype) instead\n",
      "  return is_int or is_bool or is_float or is_categorical_dtype(dtype)\n",
      "c:\\Users\\hofin\\mambaforge\\envs\\ltm\\Lib\\site-packages\\xgboost\\data.py:440: FutureWarning: is_sparse is deprecated and will be removed in a future version. Check `isinstance(dtype, pd.SparseDtype)` instead.\n",
      "  if is_sparse(data):\n"
     ]
    },
    {
     "data": {
      "text/html": [
       "<style>#sk-container-id-1 {color: black;}#sk-container-id-1 pre{padding: 0;}#sk-container-id-1 div.sk-toggleable {background-color: white;}#sk-container-id-1 label.sk-toggleable__label {cursor: pointer;display: block;width: 100%;margin-bottom: 0;padding: 0.3em;box-sizing: border-box;text-align: center;}#sk-container-id-1 label.sk-toggleable__label-arrow:before {content: \"▸\";float: left;margin-right: 0.25em;color: #696969;}#sk-container-id-1 label.sk-toggleable__label-arrow:hover:before {color: black;}#sk-container-id-1 div.sk-estimator:hover label.sk-toggleable__label-arrow:before {color: black;}#sk-container-id-1 div.sk-toggleable__content {max-height: 0;max-width: 0;overflow: hidden;text-align: left;background-color: #f0f8ff;}#sk-container-id-1 div.sk-toggleable__content pre {margin: 0.2em;color: black;border-radius: 0.25em;background-color: #f0f8ff;}#sk-container-id-1 input.sk-toggleable__control:checked~div.sk-toggleable__content {max-height: 200px;max-width: 100%;overflow: auto;}#sk-container-id-1 input.sk-toggleable__control:checked~label.sk-toggleable__label-arrow:before {content: \"▾\";}#sk-container-id-1 div.sk-estimator input.sk-toggleable__control:checked~label.sk-toggleable__label {background-color: #d4ebff;}#sk-container-id-1 div.sk-label input.sk-toggleable__control:checked~label.sk-toggleable__label {background-color: #d4ebff;}#sk-container-id-1 input.sk-hidden--visually {border: 0;clip: rect(1px 1px 1px 1px);clip: rect(1px, 1px, 1px, 1px);height: 1px;margin: -1px;overflow: hidden;padding: 0;position: absolute;width: 1px;}#sk-container-id-1 div.sk-estimator {font-family: monospace;background-color: #f0f8ff;border: 1px dotted black;border-radius: 0.25em;box-sizing: border-box;margin-bottom: 0.5em;}#sk-container-id-1 div.sk-estimator:hover {background-color: #d4ebff;}#sk-container-id-1 div.sk-parallel-item::after {content: \"\";width: 100%;border-bottom: 1px solid gray;flex-grow: 1;}#sk-container-id-1 div.sk-label:hover label.sk-toggleable__label {background-color: #d4ebff;}#sk-container-id-1 div.sk-serial::before {content: \"\";position: absolute;border-left: 1px solid gray;box-sizing: border-box;top: 0;bottom: 0;left: 50%;z-index: 0;}#sk-container-id-1 div.sk-serial {display: flex;flex-direction: column;align-items: center;background-color: white;padding-right: 0.2em;padding-left: 0.2em;position: relative;}#sk-container-id-1 div.sk-item {position: relative;z-index: 1;}#sk-container-id-1 div.sk-parallel {display: flex;align-items: stretch;justify-content: center;background-color: white;position: relative;}#sk-container-id-1 div.sk-item::before, #sk-container-id-1 div.sk-parallel-item::before {content: \"\";position: absolute;border-left: 1px solid gray;box-sizing: border-box;top: 0;bottom: 0;left: 50%;z-index: -1;}#sk-container-id-1 div.sk-parallel-item {display: flex;flex-direction: column;z-index: 1;position: relative;background-color: white;}#sk-container-id-1 div.sk-parallel-item:first-child::after {align-self: flex-end;width: 50%;}#sk-container-id-1 div.sk-parallel-item:last-child::after {align-self: flex-start;width: 50%;}#sk-container-id-1 div.sk-parallel-item:only-child::after {width: 0;}#sk-container-id-1 div.sk-dashed-wrapped {border: 1px dashed gray;margin: 0 0.4em 0.5em 0.4em;box-sizing: border-box;padding-bottom: 0.4em;background-color: white;}#sk-container-id-1 div.sk-label label {font-family: monospace;font-weight: bold;display: inline-block;line-height: 1.2em;}#sk-container-id-1 div.sk-label-container {text-align: center;}#sk-container-id-1 div.sk-container {/* jupyter's `normalize.less` sets `[hidden] { display: none; }` but bootstrap.min.css set `[hidden] { display: none !important; }` so we also need the `!important` here to be able to override the default hidden behavior on the sphinx rendered scikit-learn.org. See: https://github.com/scikit-learn/scikit-learn/issues/21755 */display: inline-block !important;position: relative;}#sk-container-id-1 div.sk-text-repr-fallback {display: none;}</style><div id=\"sk-container-id-1\" class=\"sk-top-container\"><div class=\"sk-text-repr-fallback\"><pre>Pipeline(steps=[(&#x27;model&#x27;,\n",
       "                 XGBRegressor(base_score=None, booster=None, callbacks=None,\n",
       "                              colsample_bylevel=None, colsample_bynode=None,\n",
       "                              colsample_bytree=None, early_stopping_rounds=None,\n",
       "                              enable_categorical=False, eval_metric=None,\n",
       "                              feature_types=None, gamma=0.34432013037059533,\n",
       "                              gpu_id=None, grow_policy=None,\n",
       "                              importance_type=None,\n",
       "                              interaction_constraints=None,\n",
       "                              learning_rate=0.055442782481545896, max_bin=None,\n",
       "                              max_cat_threshold=None, max_cat_to_onehot=None,\n",
       "                              max_delta_step=None, max_depth=3, max_leaves=None,\n",
       "                              min_child_weight=8, missing=nan,\n",
       "                              monotone_constraints=None, n_estimators=83,\n",
       "                              n_jobs=-1, num_parallel_tree=None, predictor=None,\n",
       "                              random_state=42, ...))])</pre><b>In a Jupyter environment, please rerun this cell to show the HTML representation or trust the notebook. <br />On GitHub, the HTML representation is unable to render, please try loading this page with nbviewer.org.</b></div><div class=\"sk-container\" hidden><div class=\"sk-item sk-dashed-wrapped\"><div class=\"sk-label-container\"><div class=\"sk-label sk-toggleable\"><input class=\"sk-toggleable__control sk-hidden--visually\" id=\"sk-estimator-id-1\" type=\"checkbox\" ><label for=\"sk-estimator-id-1\" class=\"sk-toggleable__label sk-toggleable__label-arrow\">Pipeline</label><div class=\"sk-toggleable__content\"><pre>Pipeline(steps=[(&#x27;model&#x27;,\n",
       "                 XGBRegressor(base_score=None, booster=None, callbacks=None,\n",
       "                              colsample_bylevel=None, colsample_bynode=None,\n",
       "                              colsample_bytree=None, early_stopping_rounds=None,\n",
       "                              enable_categorical=False, eval_metric=None,\n",
       "                              feature_types=None, gamma=0.34432013037059533,\n",
       "                              gpu_id=None, grow_policy=None,\n",
       "                              importance_type=None,\n",
       "                              interaction_constraints=None,\n",
       "                              learning_rate=0.055442782481545896, max_bin=None,\n",
       "                              max_cat_threshold=None, max_cat_to_onehot=None,\n",
       "                              max_delta_step=None, max_depth=3, max_leaves=None,\n",
       "                              min_child_weight=8, missing=nan,\n",
       "                              monotone_constraints=None, n_estimators=83,\n",
       "                              n_jobs=-1, num_parallel_tree=None, predictor=None,\n",
       "                              random_state=42, ...))])</pre></div></div></div><div class=\"sk-serial\"><div class=\"sk-item\"><div class=\"sk-estimator sk-toggleable\"><input class=\"sk-toggleable__control sk-hidden--visually\" id=\"sk-estimator-id-2\" type=\"checkbox\" ><label for=\"sk-estimator-id-2\" class=\"sk-toggleable__label sk-toggleable__label-arrow\">XGBRegressor</label><div class=\"sk-toggleable__content\"><pre>XGBRegressor(base_score=None, booster=None, callbacks=None,\n",
       "             colsample_bylevel=None, colsample_bynode=None,\n",
       "             colsample_bytree=None, early_stopping_rounds=None,\n",
       "             enable_categorical=False, eval_metric=None, feature_types=None,\n",
       "             gamma=0.34432013037059533, gpu_id=None, grow_policy=None,\n",
       "             importance_type=None, interaction_constraints=None,\n",
       "             learning_rate=0.055442782481545896, max_bin=None,\n",
       "             max_cat_threshold=None, max_cat_to_onehot=None,\n",
       "             max_delta_step=None, max_depth=3, max_leaves=None,\n",
       "             min_child_weight=8, missing=nan, monotone_constraints=None,\n",
       "             n_estimators=83, n_jobs=-1, num_parallel_tree=None, predictor=None,\n",
       "             random_state=42, ...)</pre></div></div></div></div></div></div></div>"
      ],
      "text/plain": [
       "Pipeline(steps=[('model',\n",
       "                 XGBRegressor(base_score=None, booster=None, callbacks=None,\n",
       "                              colsample_bylevel=None, colsample_bynode=None,\n",
       "                              colsample_bytree=None, early_stopping_rounds=None,\n",
       "                              enable_categorical=False, eval_metric=None,\n",
       "                              feature_types=None, gamma=0.34432013037059533,\n",
       "                              gpu_id=None, grow_policy=None,\n",
       "                              importance_type=None,\n",
       "                              interaction_constraints=None,\n",
       "                              learning_rate=0.055442782481545896, max_bin=None,\n",
       "                              max_cat_threshold=None, max_cat_to_onehot=None,\n",
       "                              max_delta_step=None, max_depth=3, max_leaves=None,\n",
       "                              min_child_weight=8, missing=nan,\n",
       "                              monotone_constraints=None, n_estimators=83,\n",
       "                              n_jobs=-1, num_parallel_tree=None, predictor=None,\n",
       "                              random_state=42, ...))])"
      ]
     },
     "execution_count": 5,
     "metadata": {},
     "output_type": "execute_result"
    }
   ],
   "source": [
    "# Train best model on labeled data of the study area\n",
    "import dill\n",
    "from ltm.features import drop_nan_rows\n",
    "\n",
    "df = pd.read_csv(\"../reports/hyperparameter_tuning.csv\", index_col=0)\n",
    "best_model = df[\"Root Mean Squared Error\"].idxmin()\n",
    "\n",
    "with open(f\"../models/{best_model}.pkl\", \"rb\") as f:\n",
    "    model = dill.load(f)\n",
    "\n",
    "# Load the data\n",
    "study_area_data = load_raster(\"../data/processed/data.tif\")\n",
    "study_area_target = load_raster(\"../data/processed/target.tif\")\n",
    "study_area_data, study_area_target = drop_nan_rows(study_area_data, study_area_target)\n",
    "\n",
    "# Train the model\n",
    "model.fit(study_area_data, study_area_target)\n",
    "\n",
    "model"
   ]
  },
  {
   "cell_type": "code",
   "execution_count": 6,
   "metadata": {},
   "outputs": [
    {
     "name": "stderr",
     "output_type": "stream",
     "text": [
      "c:\\Users\\hofin\\mambaforge\\envs\\ltm\\Lib\\site-packages\\xgboost\\data.py:312: FutureWarning: is_sparse is deprecated and will be removed in a future version. Check `isinstance(dtype, pd.SparseDtype)` instead.\n",
      "  if is_sparse(dtype):\n",
      "c:\\Users\\hofin\\mambaforge\\envs\\ltm\\Lib\\site-packages\\xgboost\\data.py:314: FutureWarning: is_categorical_dtype is deprecated and will be removed in a future version. Use isinstance(dtype, CategoricalDtype) instead\n",
      "  elif is_categorical_dtype(dtype) and enable_categorical:\n",
      "c:\\Users\\hofin\\mambaforge\\envs\\ltm\\Lib\\site-packages\\xgboost\\data.py:345: FutureWarning: is_categorical_dtype is deprecated and will be removed in a future version. Use isinstance(dtype, CategoricalDtype) instead\n",
      "  if is_categorical_dtype(dtype)\n",
      "c:\\Users\\hofin\\mambaforge\\envs\\ltm\\Lib\\site-packages\\xgboost\\data.py:336: FutureWarning: is_categorical_dtype is deprecated and will be removed in a future version. Use isinstance(dtype, CategoricalDtype) instead\n",
      "  return is_int or is_bool or is_float or is_categorical_dtype(dtype)\n"
     ]
    },
    {
     "data": {
      "text/plain": [
       "array([0.83891183, 0.8189969 , 0.9247274 , 0.90097225, 0.88734573,\n",
       "       0.8819417 , 0.8091682 , 0.8388711 , 0.9392891 , 0.8917393 ,\n",
       "       0.83698267, 0.81716466, 0.8298583 , 0.8288125 , 0.82122713,\n",
       "       0.88489634, 0.8606899 , 0.8377571 , 0.79047734, 0.82821757,\n",
       "       0.87932664, 0.889264  , 0.8788731 , 0.8034258 , 0.81079304,\n",
       "       0.8258423 , 0.8768998 , 0.839205  , 0.8052932 , 0.8270409 ,\n",
       "       0.8918224 , 0.92996216, 0.78095365, 0.7990397 , 0.74397385,\n",
       "       0.78235054, 0.86992097, 0.86772346, 0.9327162 , 0.7723335 ,\n",
       "       0.81765926, 0.8254658 , 0.82768816, 0.8296909 , 0.8078812 ,\n",
       "       0.79958004, 0.9192076 , 0.9347772 , 0.85282415, 0.78170395,\n",
       "       0.79010975, 0.87286645, 0.93365765, 0.9360779 , 0.93618006,\n",
       "       0.9022077 , 0.89929765, 0.8803861 , 0.8867598 , 0.8579514 ,\n",
       "       0.8065682 , 0.89263934, 0.87303567, 0.86415696, 0.92249656,\n",
       "       0.88544035, 0.9203119 , 0.959648  , 0.9275763 , 0.9395418 ,\n",
       "       0.9439564 , 0.90007395, 0.91642755, 0.7968512 , 0.8303634 ,\n",
       "       0.94780314, 0.91279715, 0.81846374, 0.91781825, 0.8500508 ,\n",
       "       0.9815608 , 0.9260984 , 0.9527984 , 0.9374629 , 0.9390782 ,\n",
       "       0.9144882 , 0.95061225, 0.9202007 , 0.9768887 , 0.87418246,\n",
       "       0.90918314, 0.9019213 , 0.9042994 , 0.83050674, 0.8979744 ,\n",
       "       0.75296104, 0.84503996, 0.97523797, 0.97718996, 0.98207736,\n",
       "       0.9706444 , 0.89700764, 0.85808897, 0.9012195 , 0.9242565 ,\n",
       "       0.8356306 , 0.83109796, 0.888078  , 0.81921965, 0.84189844,\n",
       "       0.7813962 , 0.7944403 , 0.8503483 , 0.862592  , 0.72187066,\n",
       "       0.9161049 , 0.9248055 , 0.8132353 , 0.80504954, 0.7759214 ,\n",
       "       0.7954878 , 0.81058294, 0.82885903, 0.78677464, 0.6681021 ,\n",
       "       0.78878355, 0.8681979 , 0.8713986 , 0.862592  , 0.8587138 ,\n",
       "       0.8284095 , 0.84723026, 0.788029  , 0.7926982 , 0.74327576,\n",
       "       0.76662797, 0.8486878 , 0.82929814, 0.82692856, 0.86748177,\n",
       "       0.79811925, 0.86603767, 0.86206996, 0.8536049 , 0.8014124 ,\n",
       "       0.8884835 , 0.89791995, 0.7332018 , 0.824002  , 0.8403786 ,\n",
       "       0.89377666, 0.8957794 , 0.8743144 , 0.7507351 , 0.79628885,\n",
       "       0.79762995, 0.8557995 , 0.89925903, 0.88077015, 0.8879371 ,\n",
       "       0.9411399 , 0.93804884, 0.83900315, 0.788699  , 0.8426472 ,\n",
       "       0.8471676 , 0.91099167, 0.91951746, 0.7920192 , 0.7623791 ,\n",
       "       0.80375403, 0.7602846 , 0.8207218 , 0.9114913 , 0.9189039 ,\n",
       "       0.8202972 , 0.88689977, 0.8468782 , 0.7848136 , 0.78444093,\n",
       "       0.80197585, 0.81943506, 0.7765627 , 0.77456   , 0.80037737,\n",
       "       0.80944246, 0.7914838 , 0.8160583 , 0.80617696, 0.7177819 ,\n",
       "       0.71823215, 0.80168086, 0.89153206, 0.8862262 , 0.7675084 ,\n",
       "       0.7976996 , 0.7988543 , 0.79969996, 0.81867373, 0.80414754,\n",
       "       0.8109763 , 0.76479816, 0.90302086, 0.85355306, 0.7576495 ,\n",
       "       0.84604806, 0.7376976 , 0.7877475 , 0.9557425 , 0.9387597 ,\n",
       "       0.81374127, 0.7956622 , 0.8022244 , 0.81097627, 0.82244605,\n",
       "       0.81741357, 0.8262413 , 0.87435126, 0.9783621 , 0.86882544,\n",
       "       0.8443361 , 0.8423334 , 0.82044333, 0.82044333], dtype=float32)"
      ]
     },
     "execution_count": 6,
     "metadata": {},
     "output_type": "execute_result"
    }
   ],
   "source": [
    "# Save prediction to target raster\n",
    "xgb_pred = model.predict(data)\n",
    "\n",
    "xgb_pred"
   ]
  },
  {
   "cell_type": "code",
   "execution_count": 10,
   "metadata": {},
   "outputs": [
    {
     "data": {
      "text/plain": [
       "<matplotlib.image.AxesImage at 0x1912fe28310>"
      ]
     },
     "execution_count": 10,
     "metadata": {},
     "output_type": "execute_result"
    },
    {
     "data": {
      "image/png": "[encoded data removed]",
      "text/plain": [
       "<Figure size 350x262.5 with 1 Axes>"
      ]
     },
     "metadata": {},
     "output_type": "display_data"
    }
   ],
   "source": [
    "import rasterio\n",
    "import matplotlib.pyplot as plt\n",
    "\n",
    "with rasterio.open(target_path) as src:\n",
    "    shape = src.read().shape\n",
    "\n",
    "xgb_reshaped = xgb_pred.reshape(shape)\n",
    "\n",
    "plt.imshow(xgb_reshaped.transpose(1, 2, 0), cmap=\"viridis\")"
   ]
  },
  {
   "cell_type": "code",
   "execution_count": 7,
   "metadata": {},
   "outputs": [],
   "source": [
    "# Plot the prediction\n",
    "import matplotlib.pyplot as plt\n",
    "import scienceplots\n",
    "\n",
    "plt.style.use(\"science\")"
   ]
  }
 ],
 "metadata": {
  "kernelspec": {
   "display_name": "ltm",
   "language": "python",
   "name": "python3"
  },
  "language_info": {
   "codemirror_mode": {
    "name": "ipython",
    "version": 3
   },
   "file_extension": ".py",
   "mimetype": "text/x-python",
   "name": "python",
   "nbconvert_exporter": "python",
   "pygments_lexer": "ipython3",
   "version": "3.11.5"
  }
 },
 "nbformat": 4,
 "nbformat_minor": 2
}
