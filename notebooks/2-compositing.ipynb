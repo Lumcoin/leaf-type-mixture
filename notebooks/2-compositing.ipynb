{
 "cells": [
  {
   "cell_type": "code",
   "execution_count": 1,
   "metadata": {},
   "outputs": [
    {
     "name": "stdout",
     "output_type": "stream",
     "text": [
      "ImageCollection Reductions: ['And', 'Or', 'allNonZero', 'anyNonZero', 'bitwiseAnd', 'bitwiseOr', 'circularMean', 'circularStddev', 'circularVariance', 'count', 'countDistinct', 'countDistinctNonNull', 'countRuns', 'first', 'firstNonNull', 'kendallsCorrelation', 'kurtosis', 'last', 'lastNonNull', 'max', 'mean', 'median', 'min', 'minMax', 'mode', 'product', 'sampleStdDev', 'sampleVariance', 'skew', 'stdDev', 'sum', 'variance']\n"
     ]
    }
   ],
   "source": [
    "# List the available reducers\n",
    "from slc.data import list_reducers\n",
    "\n",
    "reducers = list_reducers()\n",
    "\n",
    "print(\"ImageCollection Reductions:\", reducers)"
   ]
  },
  {
   "cell_type": "code",
   "execution_count": 2,
   "metadata": {},
   "outputs": [],
   "source": [
    "reducers = [\n",
    "    \"max\",\n",
    "    \"mean\",\n",
    "    \"median\",\n",
    "    \"min\",\n",
    "    \"sampleStdDev\",\n",
    "    \"skew\",\n",
    "]"
   ]
  },
  {
   "cell_type": "code",
   "execution_count": 3,
   "metadata": {},
   "outputs": [
    {
     "name": "stdout",
     "output_type": "stream",
     "text": [
      "Level-2A bands: ['B11']\n",
      "Indices: ['BRBA', 'GDVI', 'IKAW', 'MBWI', 'MIRBI', 'MLSWI26', 'MLSWI27', 'SWI', 'WI2015']\n"
     ]
    }
   ],
   "source": [
    "# List the bands determined by the previous experiment\n",
    "from slc.models import bands_from_importance\n",
    "\n",
    "sentinel_bands, indices = bands_from_importance(\n",
    "    \"../reports/band_importance.csv\", top_n=10\n",
    ")\n",
    "\n",
    "print(\"Level-2A bands:\", sentinel_bands)\n",
    "print(\"Indices:\", indices)"
   ]
  },
  {
   "cell_type": "code",
   "execution_count": 4,
   "metadata": {},
   "outputs": [
    {
     "data": {
      "application/vnd.jupyter.widget-view+json": {
       "model_id": "e398336e8ba5427a99b1c59dc6060c92",
       "version_major": 2,
       "version_minor": 0
      },
      "text/plain": [
       "  0%|          | 0/30 [00:00<?, ?it/s]"
      ]
     },
     "metadata": {},
     "output_type": "display_data"
    }
   ],
   "source": [
    "# Perform a grid exploration over all reducers and number of composites\n",
    "from datetime import datetime\n",
    "from itertools import product\n",
    "from pathlib import Path\n",
    "from time import sleep\n",
    "from zoneinfo import ZoneInfo\n",
    "\n",
    "import numpy as np\n",
    "import pandas as pd\n",
    "from sklearn.base import ClassifierMixin\n",
    "from sklearn.ensemble import RandomForestClassifier\n",
    "from sklearn.metrics import f1_score, make_scorer\n",
    "from sklearn.model_selection import StratifiedKFold, cross_validate\n",
    "from tqdm.notebook import tqdm\n",
    "\n",
    "from slc.data import sentinel_composite\n",
    "from slc.features import interpolate_data, load_dataset, to_float32\n",
    "\n",
    "tz = ZoneInfo(\"CET\")\n",
    "\n",
    "model = RandomForestClassifier(n_jobs=-1, random_state=42)\n",
    "search_space = {\n",
    "    \"num_composites\": [12, 6, 4, 2, 1],  # Reverse to start with slowest\n",
    "    \"temporal_reducers\": [[reducer] for reducer in reducers],\n",
    "    \"indices\": [indices],\n",
    "    \"sentinel_bands\": [sentinel_bands],\n",
    "}\n",
    "scoring = {\"F1 Score\": make_scorer(f1_score)}\n",
    "target_folder = Path(\"../data/processed/target/\")\n",
    "\n",
    "\n",
    "def _create_dataset(\n",
    "    target_folder: Path, search_point: dict\n",
    ") -> tuple[pd.DataFrame, pd.Series]:\n",
    "    # Create data_path and ensure directory exists\n",
    "    reducer = search_point[\"temporal_reducers\"][0]\n",
    "    composites = search_point[\"num_composites\"]\n",
    "    data_folder = Path(f\"../data/processed/compositing/data_{reducer}_{composites}/\")\n",
    "    data_folder.mkdir(parents=True, exist_ok=True)\n",
    "\n",
    "    # Create the 2A composite if it does not exist\n",
    "    data_folder.mkdir(parents=True, exist_ok=True)\n",
    "    for target_path in tqdm(list(target_folder.glob(\"*.tif\"))):\n",
    "        data_path = data_folder / target_path.name\n",
    "        year = int(target_path.stem.split(\"_\")[-1])\n",
    "\n",
    "        # Create the composite (retrying if it fails)\n",
    "        batch_size = None\n",
    "        init_bs = 512\n",
    "        while not data_path.exists():\n",
    "            try:\n",
    "                sentinel_composite(\n",
    "                    target_path_from=target_path,\n",
    "                    data_path_to=data_path,\n",
    "                    time_window=(\n",
    "                        datetime(year, 1, 1, tzinfo=tz),\n",
    "                        datetime(year + 1, 1, 1, tzinfo=tz),\n",
    "                    ),\n",
    "                    batch_size=batch_size,\n",
    "                    **search_point,\n",
    "                )\n",
    "            except KeyboardInterrupt as exc:  # noqa: PERF203\n",
    "                raise KeyboardInterrupt from exc\n",
    "            except Exception:  # noqa: BLE001\n",
    "                if batch_size is not None:\n",
    "                    if batch_size < init_bs / 2:\n",
    "                        sleep_time = 100 * 256 / batch_size\n",
    "                        print(f\"Sleeping for {sleep_time} seconds\")\n",
    "                        sleep(sleep_time)\n",
    "\n",
    "                    batch_size = batch_size // 2\n",
    "                else:\n",
    "                    batch_size = init_bs\n",
    "\n",
    "                print(f\"Retrying with batch_size={batch_size}\")\n",
    "\n",
    "    # Fill missing values by linear (circular) interpolation\n",
    "    data, target = load_dataset(data_folder, target_folder)\n",
    "    interpolated_data = interpolate_data(data)\n",
    "    interpolated_data = to_float32(interpolated_data)\n",
    "\n",
    "    return interpolated_data, target\n",
    "\n",
    "\n",
    "def _check_row_exists(search_point: dict) -> bool:\n",
    "    try:\n",
    "        history = pd.read_csv(\"../reports/compositing.csv\")\n",
    "        for _, row in history.iterrows():\n",
    "            if list(row[:2]) == [\n",
    "                search_point[\"temporal_reducers\"][0],\n",
    "                search_point[\"num_composites\"],\n",
    "            ]:\n",
    "                return True\n",
    "    except FileNotFoundError:\n",
    "        return False\n",
    "    else:\n",
    "        return False\n",
    "\n",
    "\n",
    "def _callback(scores: dict, scoring: dict, search_point: dict) -> None:\n",
    "    # Read the compositing.csv\n",
    "    compositing = \"../reports/compositing.csv\"\n",
    "    try:\n",
    "        history = pd.read_csv(compositing)\n",
    "    except FileNotFoundError:\n",
    "        columns = [\"Reducer\", \"Composites\", *list(scoring.keys())]\n",
    "        history = pd.DataFrame(columns=columns)\n",
    "\n",
    "    # Store the scores in the dataframe\n",
    "    first_columns = [\n",
    "        search_point[\"temporal_reducers\"][0],\n",
    "        search_point[\"num_composites\"],\n",
    "    ]\n",
    "    last_columns = [scores[f\"test_{key}\"].mean() for key in scoring]\n",
    "    idx = len(history)\n",
    "    for i, row in history.iterrows():\n",
    "        if list(row[:2]) == first_columns:\n",
    "            idx = i\n",
    "    history.loc[idx] = first_columns + last_columns\n",
    "\n",
    "    # Save to CSV\n",
    "    history.to_csv(compositing, index=False)\n",
    "\n",
    "\n",
    "def _grid_exploration(\n",
    "    model: ClassifierMixin,\n",
    "    search_space: dict,\n",
    "    scoring: dict,\n",
    "    target_folder: Path,\n",
    ") -> None:\n",
    "    params = search_space.keys()\n",
    "    for values in tqdm(list(product(*search_space.values()))):\n",
    "        search_point = dict(zip(params, values, strict=False))\n",
    "\n",
    "        # Skip if the row already exists\n",
    "        if _check_row_exists(search_point):\n",
    "            continue\n",
    "\n",
    "        data, target = _create_dataset(target_folder, search_point)\n",
    "\n",
    "        n_splits = 5\n",
    "        if len(data) < n_splits:\n",
    "            scores = {f\"test_{key}\": np.full(1, np.nan) for key in scoring}\n",
    "        else:\n",
    "            cv = StratifiedKFold(n_splits=n_splits, shuffle=True, random_state=42)\n",
    "            scores = cross_validate(\n",
    "                model, data, target, cv=cv, scoring=scoring, n_jobs=-1\n",
    "            )\n",
    "        _callback(scores, scoring, search_point)\n",
    "\n",
    "\n",
    "_grid_exploration(model, search_space, scoring, target_folder)"
   ]
  },
  {
   "cell_type": "code",
   "execution_count": 5,
   "metadata": {},
   "outputs": [
    {
     "data": {
      "image/png": "[encoded data removed]",
      "text/plain": [
       "<Figure size 350x262.5 with 1 Axes>"
      ]
     },
     "metadata": {},
     "output_type": "display_data"
    }
   ],
   "source": [
    "# Draw the RMSEs for each reducer across the number of composites per year\n",
    "from pathlib import Path\n",
    "\n",
    "import matplotlib.pyplot as plt\n",
    "import scienceplots  # noqa: F401\n",
    "from matplotlib import ticker\n",
    "\n",
    "plt.style.use(\"science\")\n",
    "\n",
    "history = pd.read_csv(\"../reports/compositing.csv\")\n",
    "\n",
    "ax = plt.subplot()\n",
    "for name, group in history.groupby(\"Reducer\"):\n",
    "    group.plot(x=\"Composites\", y=\"F1 Score\", ax=ax, label=name)\n",
    "\n",
    "# Format\n",
    "ax.legend(loc=\"center left\", bbox_to_anchor=(1, 0.5))\n",
    "ax.set_title(\"Optimal Number of Composites per Reducer\")\n",
    "ax.set_xlabel(\"Number of Composites\")\n",
    "ax.set_ylabel(\"F1 Score\")\n",
    "ax.xaxis.set_major_locator(ticker.MaxNLocator(integer=True))\n",
    "\n",
    "figure_path = f\"../reports/figures/compositing/{ax.get_title()}.svg\"\n",
    "Path(figure_path).parent.mkdir(parents=True, exist_ok=True)\n",
    "plt.savefig(figure_path, dpi=300, transparent=True)"
   ]
  },
  {
   "cell_type": "code",
   "execution_count": 6,
   "metadata": {},
   "outputs": [
    {
     "data": {
      "text/html": [
       "<div>\n",
       "<style scoped>\n",
       "    .dataframe tbody tr th:only-of-type {\n",
       "        vertical-align: middle;\n",
       "    }\n",
       "\n",
       "    .dataframe tbody tr th {\n",
       "        vertical-align: top;\n",
       "    }\n",
       "\n",
       "    .dataframe thead th {\n",
       "        text-align: right;\n",
       "    }\n",
       "</style>\n",
       "<table border=\"1\" class=\"dataframe\">\n",
       "  <thead>\n",
       "    <tr style=\"text-align: right;\">\n",
       "      <th></th>\n",
       "      <th>Best Number of Composites</th>\n",
       "    </tr>\n",
       "  </thead>\n",
       "  <tbody>\n",
       "    <tr>\n",
       "      <th>max</th>\n",
       "      <td>6</td>\n",
       "    </tr>\n",
       "    <tr>\n",
       "      <th>mean</th>\n",
       "      <td>12</td>\n",
       "    </tr>\n",
       "    <tr>\n",
       "      <th>median</th>\n",
       "      <td>12</td>\n",
       "    </tr>\n",
       "    <tr>\n",
       "      <th>min</th>\n",
       "      <td>2</td>\n",
       "    </tr>\n",
       "    <tr>\n",
       "      <th>sampleStdDev</th>\n",
       "      <td>4</td>\n",
       "    </tr>\n",
       "    <tr>\n",
       "      <th>skew</th>\n",
       "      <td>2</td>\n",
       "    </tr>\n",
       "  </tbody>\n",
       "</table>\n",
       "</div>"
      ],
      "text/plain": [
       "              Best Number of Composites\n",
       "max                                   6\n",
       "mean                                 12\n",
       "median                               12\n",
       "min                                   2\n",
       "sampleStdDev                          4\n",
       "skew                                  2"
      ]
     },
     "execution_count": 6,
     "metadata": {},
     "output_type": "execute_result"
    }
   ],
   "source": [
    "# Find the best number of composites for each reducer\n",
    "best_combinations = history.loc[history.groupby(\"Reducer\")[\"F1 Score\"].idxmax()]\n",
    "\n",
    "best_composites = pd.DataFrame(\n",
    "    data=best_combinations[\"Composites\"].values,\n",
    "    index=list(best_combinations[\"Reducer\"]),\n",
    "    columns=[\"Best Number of Composites\"],\n",
    ")\n",
    "\n",
    "best_composites"
   ]
  },
  {
   "cell_type": "code",
   "execution_count": 7,
   "metadata": {},
   "outputs": [],
   "source": [
    "data_path = Path(\"../data/processed/compositing/data.csv\")\n",
    "target_path = Path(\"../data/processed/compositing/target.csv\")\n",
    "\n",
    "if (not data_path.exists()) or (not target_path.exists()):\n",
    "    total_data = []\n",
    "    for reducer, row in tqdm(list(best_composites.iterrows())):\n",
    "        num_composites = row[\"Best Number of Composites\"]\n",
    "        curr_data, total_target = load_dataset(\n",
    "            f\"../data/processed/compositing/data_{reducer}_{num_composites}/\",\n",
    "            target_folder,\n",
    "        )\n",
    "        total_data.append(interpolate_data(curr_data))\n",
    "\n",
    "    total_data = pd.concat(total_data, axis=1)\n",
    "\n",
    "    total_data.to_csv(data_path, index=False)\n",
    "    total_target.to_csv(target_path, index=False)\n",
    "else:\n",
    "    total_data = pd.read_csv(data_path)\n",
    "    total_target = pd.read_csv(target_path)[\"0\"]"
   ]
  },
  {
   "cell_type": "code",
   "execution_count": 8,
   "metadata": {},
   "outputs": [
    {
     "data": {
      "text/plain": [
       "{'F1 Score': np.float64(0.10119791548930931),\n",
       " 'Accuracy': np.float64(0.8006002551532353),\n",
       " 'Cohen Kappa': np.float64(0.03150782084615551)}"
      ]
     },
     "execution_count": 8,
     "metadata": {},
     "output_type": "execute_result"
    }
   ],
   "source": [
    "from sklearn.metrics import accuracy_score, cohen_kappa_score, f1_score\n",
    "\n",
    "model = RandomForestClassifier(n_jobs=-1, random_state=42)\n",
    "scoring = {\n",
    "    \"F1 Score\": make_scorer(f1_score),\n",
    "    \"Accuracy\": make_scorer(accuracy_score),\n",
    "    \"Cohen Kappa\": make_scorer(cohen_kappa_score),\n",
    "}\n",
    "cv_results = cross_validate(\n",
    "    model, total_data, total_target, cv=StratifiedKFold(n_splits=5), scoring=scoring\n",
    ")\n",
    "\n",
    "metrics = {\n",
    "    key[5:]: val.mean() for key, val in cv_results.items() if key.startswith(\"test_\")\n",
    "}\n",
    "metrics"
   ]
  }
 ],
 "metadata": {
  "kernelspec": {
   "display_name": "ltm",
   "language": "python",
   "name": "python3"
  },
  "language_info": {
   "codemirror_mode": {
    "name": "ipython",
    "version": 3
   },
   "file_extension": ".py",
   "mimetype": "text/x-python",
   "name": "python",
   "nbconvert_exporter": "python",
   "pygments_lexer": "ipython3",
   "version": "3.12.5"
  }
 },
 "nbformat": 4,
 "nbformat_minor": 2
}
