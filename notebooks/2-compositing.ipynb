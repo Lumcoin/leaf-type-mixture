{
 "cells": [
  {
   "cell_type": "markdown",
   "metadata": {},
   "source": [
    "# Compositing\n",
    "\n",
    "## Goal\n",
    "\n",
    "The goal of this experiment is to find the optimal number of composites per year for each compositing method. We choose from a selection of compositing methods offered by the Earth Engine API, called [ImageCollection Reductions](https://developers.google.com/earth-engine/guides/reducers_image_collection).\n",
    "\n",
    "## Experiment\n",
    "\n",
    "The experiment is conducted as follows:\n",
    "\n",
    "- A time window of 1 year is used, starting with April 1st, 2017.\n",
    "- We try 1 to 12 composites for each compositing method.\n",
    "- Only the optimal bands determined in the previous experiment are used.\n",
    "- Random Forest from scikit-learn with default parameters is chosen as the regression model.\n",
    "- RMSE with 5-fold cross validation will be used for determining the optimal number of composites.\n",
    "\n",
    "We start by listing all available reducers:"
   ]
  },
  {
   "cell_type": "code",
   "execution_count": 1,
   "metadata": {},
   "outputs": [
    {
     "name": "stdout",
     "output_type": "stream",
     "text": [
      "ImageCollection Reductions: ['And', 'Or', 'allNonZero', 'anyNonZero', 'bitwiseAnd', 'bitwiseOr', 'circularMean', 'circularStddev', 'circularVariance', 'count', 'countDistinct', 'countDistinctNonNull', 'countRuns', 'first', 'firstNonNull', 'kendallsCorrelation', 'kurtosis', 'last', 'lastNonNull', 'max', 'mean', 'median', 'min', 'minMax', 'mode', 'product', 'sampleStdDev', 'sampleVariance', 'skew', 'stdDev', 'sum', 'variance']\n"
     ]
    }
   ],
   "source": [
    "# List the available reducers\n",
    "from ltm.data import list_reducers\n",
    "\n",
    "reducers = list_reducers()\n",
    "\n",
    "print(\"ImageCollection Reductions:\", reducers)"
   ]
  },
  {
   "cell_type": "markdown",
   "metadata": {},
   "source": [
    "The reducers are divided into groups based on their functionality to select the most appropriate reducers for our problem. The groups are as follows:\n",
    "\n",
    "| Grouping Criterion                 | Reducers                                                      |\n",
    "| ---------------------------------- | ------------------------------------------------------------- |\n",
    "| Non-zero based                     | `And` `Or` `allNonZero` `anyNonZero`                          |\n",
    "| Bitwise                            | `bitwiseAnd` `bitwiseOr`                                      |\n",
    "| Descriptive statistics (radians)   | `circularMean` `circularStddev` `circularVariance`            |\n",
    "| Non-null based                     | `count`                                                       |\n",
    "| Value count based                  | `countDistinct` `countDistinctNonNull` `countRuns`            |\n",
    "| Single image                       | `first` `firstNonNull` `last` `lastNonNull`                   |\n",
    "| Correlation                        | `kendallsCorrelation`                                         |\n",
    "| Descriptive statistics             | `kurtosis` `max` `mean` `median` `min` `minMax` `mode` `skew` |\n",
    "| Arithmetic result                  | `product` `sum`                                               |\n",
    "| Descriptive statistics (deviation) | `sampleStdDev` `sampleVariance` `stdDev` `variance`           |\n",
    "\n",
    "We will continue with only select descriptive statistics, incluiding deviation based reducers and the correlation reducer. The reasoning is explained in detail in our paper. Following reducers are selected:"
   ]
  },
  {
   "cell_type": "code",
   "execution_count": 2,
   "metadata": {},
   "outputs": [],
   "source": [
    "reducers = [\n",
    "    \"kendallsCorrelation\",\n",
    "    \"kurtosis\",\n",
    "    \"max\",\n",
    "    \"mean\",\n",
    "    \"median\",\n",
    "    \"min\",\n",
    "    \"mode\",\n",
    "    \"sampleStdDev\",\n",
    "    \"skew\",\n",
    "]"
   ]
  },
  {
   "cell_type": "markdown",
   "metadata": {},
   "source": [
    "Following Sentinel 2 bands and indices were determined in the previous experiment and are thus used in this experiment:"
   ]
  },
  {
   "cell_type": "code",
   "execution_count": 3,
   "metadata": {},
   "outputs": [
    {
     "name": "stdout",
     "output_type": "stream",
     "text": [
      "Initializing Earth Engine API...\n",
      "Level-2A bands: ['B9', 'WVP', 'TCI_G']\n",
      "Indices: ['BAIM', 'BWDRVI', 'GCC', 'MCARI705', 'MIRBI', 'MLSWI26', 'MNLI', 'MTCI', 'MuWIR', 'NBRplus', 'NDDI', 'NDGI', 'NSDSI1', 'NormR', 'RGRI', 'S2WI', 'SIPI', 'TRRVI', 'TTVI', 'VI700', 'VIBI', 'WI2', 'WI2015', 'kEVI', 'kIPVI', 'kNDVI', 'mSR705']\n"
     ]
    }
   ],
   "source": [
    "# List the bands determined by the previous experiment\n",
    "from ltm.models import bands_from_importance\n",
    "\n",
    "sentinel_bands, indices = bands_from_importance(\"../reports/band_importance.csv\")\n",
    "\n",
    "print(\"Level-2A bands:\", sentinel_bands)\n",
    "print(\"Indices:\", indices)"
   ]
  },
  {
   "cell_type": "markdown",
   "metadata": {},
   "source": [
    "We now compute all possible combinations of compositing method and number of composites with the Earth Engine API. The resulting rasters are used to train a Random Forest model with 5-fold cross validation each. The RMSEs are used to determine the optimal number of composites for each compositing method."
   ]
  },
  {
   "cell_type": "code",
   "execution_count": 4,
   "metadata": {},
   "outputs": [
    {
     "data": {
      "application/vnd.jupyter.widget-view+json": {
       "model_id": "d8c1d306e02e4d90ac02dfb38d53fd49",
       "version_major": 2,
       "version_minor": 0
      },
      "text/plain": [
       "  0%|          | 0/108 [00:00<?, ?it/s]"
      ]
     },
     "metadata": {},
     "output_type": "display_data"
    }
   ],
   "source": [
    "# Perform a grid exploration over all reducers and number of composites\n",
    "from datetime import datetime\n",
    "from itertools import product\n",
    "from ltm.data import sentinel_composite\n",
    "from ltm.features import (\n",
    "    load_raster,\n",
    "    interpolate_data,\n",
    "    to_float32,\n",
    ")\n",
    "import numpy as np\n",
    "import pandas as pd\n",
    "from pathlib import Path\n",
    "from sklearn.metrics import make_scorer, root_mean_squared_error\n",
    "from sklearn.model_selection import cross_validate\n",
    "from sklearn.ensemble import RandomForestRegressor\n",
    "from time import sleep\n",
    "from tqdm.notebook import tqdm\n",
    "\n",
    "model = RandomForestRegressor(n_jobs=-1, random_state=42)\n",
    "search_space = {\n",
    "    \"time_window\": [(datetime(2017, 4, 1), datetime(2018, 4, 1))],\n",
    "    \"num_composites\": list(range(1, 13))[::-1],  # Reverse to start with slowest\n",
    "    \"temporal_reducers\": [[reducer] for reducer in reducers],\n",
    "    \"indices\": [indices],\n",
    "    \"sentinel_bands\": [sentinel_bands],\n",
    "}\n",
    "scoring = {\"Root Mean Squared Error\": make_scorer(root_mean_squared_error)}\n",
    "target_path = \"../data/processed/target.tif\"\n",
    "\n",
    "\n",
    "def create_data(target_path, search_point):\n",
    "    # Create data_path and ensure directory exists\n",
    "    reducer = search_point[\"temporal_reducers\"][0]\n",
    "    composites = search_point[\"num_composites\"]\n",
    "    data_path_to = (\n",
    "        f\"../data/processed/compositing/data_{reducer}_{composites}.tif\"\n",
    "    )\n",
    "    Path(data_path_to).parent.mkdir(parents=True, exist_ok=True)\n",
    "\n",
    "    # Create the composite (retrying if it fails)\n",
    "    batch_size = None\n",
    "    while not Path(data_path_to).exists():\n",
    "        try:\n",
    "            sentinel_composite(\n",
    "                target_path_from=target_path,\n",
    "                data_path_to=data_path_to,\n",
    "                batch_size=batch_size,\n",
    "                **search_point,\n",
    "            )\n",
    "        except:\n",
    "            if batch_size is not None:\n",
    "                if batch_size < 256:\n",
    "                    sleep_time = 100 * 256 / batch_size\n",
    "                    print(f\"Sleeping for {sleep_time} seconds\")\n",
    "                    sleep(sleep_time)\n",
    "\n",
    "                batch_size /= 2\n",
    "            else:\n",
    "                batch_size = 512\n",
    "\n",
    "            print(f\"Retrying with batch_size={batch_size}\")\n",
    "\n",
    "    # Fill missing values by linear (circular) interpolation\n",
    "    data = load_raster(data_path_to)\n",
    "    interpolated_data = interpolate_data(data)\n",
    "    interpolated_data = to_float32(interpolated_data)\n",
    "\n",
    "    return interpolated_data\n",
    "\n",
    "\n",
    "def check_row_exists(search_point):\n",
    "    try:\n",
    "        df = pd.read_csv(\"../reports/compositing.csv\")\n",
    "        for i, row in df.iterrows():\n",
    "            if list(row[:2]) == [\n",
    "                search_point[\"temporal_reducers\"][0],\n",
    "                search_point[\"num_composites\"],\n",
    "            ]:\n",
    "                return True\n",
    "\n",
    "        return False\n",
    "    except FileNotFoundError:\n",
    "        return False\n",
    "\n",
    "\n",
    "def callback(scores, scoring, search_point):\n",
    "    # Read the compositing.csv\n",
    "    compositing = \"../reports/compositing.csv\"\n",
    "    try:\n",
    "        df = pd.read_csv(compositing)\n",
    "    except FileNotFoundError:\n",
    "        columns = [\"Reducer\", \"Composites\"] + list(scoring.keys())\n",
    "        df = pd.DataFrame(columns=columns)\n",
    "\n",
    "    # Store the scores in the dataframe\n",
    "    first_columns = [\n",
    "        search_point[\"temporal_reducers\"][0],\n",
    "        search_point[\"num_composites\"],\n",
    "    ]\n",
    "    last_columns = [scores[f\"test_{key}\"].mean() for key in scoring.keys()]\n",
    "    idx = len(df)\n",
    "    for i, row in df.iterrows():\n",
    "        if list(row[:2]) == first_columns:\n",
    "            idx = i\n",
    "    df.loc[idx] = first_columns + last_columns\n",
    "\n",
    "    # Save to CSV\n",
    "    df.to_csv(compositing, index=False)\n",
    "\n",
    "\n",
    "def grid_exploration(\n",
    "    model,\n",
    "    search_space,\n",
    "    scoring,\n",
    "    target_path,\n",
    "    create_data=create_data,\n",
    "    callback=callback,\n",
    "):\n",
    "    target = load_raster(target_path)\n",
    "\n",
    "    params = search_space.keys()\n",
    "    for values in tqdm(list(product(*search_space.values()))):\n",
    "        search_point = dict(zip(params, values))\n",
    "\n",
    "        # Skip if the row already exists\n",
    "        if check_row_exists(search_point):\n",
    "            continue\n",
    "\n",
    "        data = create_data(target_path, search_point)\n",
    "        data_no_nan, target_no_nan = (\n",
    "            data[target.notna()],\n",
    "            target[target.notna()],\n",
    "        )\n",
    "\n",
    "        if len(data_no_nan) < 5:\n",
    "            scores = {f\"test_{key}\": np.full(1, np.nan) for key in scoring.keys()}\n",
    "        else:\n",
    "            scores = cross_validate(\n",
    "                model, data_no_nan, target_no_nan, scoring=scoring, n_jobs=-1\n",
    "            )\n",
    "        callback(scores, scoring, search_point)\n",
    "\n",
    "\n",
    "grid_exploration(model, search_space, scoring, target_path)"
   ]
  },
  {
   "cell_type": "code",
   "execution_count": 5,
   "metadata": {},
   "outputs": [
    {
     "data": {
      "image/png": "[encoded data removed]",
      "text/plain": [
       "<Figure size 350x262.5 with 1 Axes>"
      ]
     },
     "metadata": {},
     "output_type": "display_data"
    }
   ],
   "source": [
    "# Draw the RMSEs for each reducer across the number of composites per year\n",
    "import pandas as pd\n",
    "import matplotlib.pyplot as plt\n",
    "import matplotlib.ticker as ticker\n",
    "import scienceplots\n",
    "\n",
    "plt.style.use(\"science\")\n",
    "\n",
    "df = pd.read_csv(\"../reports/compositing.csv\")\n",
    "\n",
    "ax = plt.subplot()\n",
    "for name, group in df.groupby(\"Reducer\"):\n",
    "    group.plot(x=\"Composites\", y=\"Root Mean Squared Error\", ax=ax, label=name)\n",
    "\n",
    "# Format\n",
    "ax.legend(loc=\"center left\", bbox_to_anchor=(1, 0.5))\n",
    "ax.set_xlabel(\"Number of Composites\")\n",
    "ax.set_ylabel(\"RMSE\")\n",
    "ax.xaxis.set_major_locator(ticker.MaxNLocator(integer=True))\n",
    "\n",
    "plt.show()"
   ]
  },
  {
   "cell_type": "markdown",
   "metadata": {},
   "source": [
    "# Result\n",
    "\n",
    "The optimal number of composites for each compositing method differs significantly. In above figure, the RMSEs for each compositing method are shown. For example `kurtosis` and `skew` both have their optimum at a low composite count, while `mean` and `median` tend to perform better with a higher number of composites. The optimal number of composites for each compositing method is as follows:"
   ]
  },
  {
   "cell_type": "code",
   "execution_count": 6,
   "metadata": {},
   "outputs": [
    {
     "data": {
      "text/html": [
       "<div>\n",
       "<style scoped>\n",
       "    .dataframe tbody tr th:only-of-type {\n",
       "        vertical-align: middle;\n",
       "    }\n",
       "\n",
       "    .dataframe tbody tr th {\n",
       "        vertical-align: top;\n",
       "    }\n",
       "\n",
       "    .dataframe thead th {\n",
       "        text-align: right;\n",
       "    }\n",
       "</style>\n",
       "<table border=\"1\" class=\"dataframe\">\n",
       "  <thead>\n",
       "    <tr style=\"text-align: right;\">\n",
       "      <th></th>\n",
       "      <th>Best Number of Composites</th>\n",
       "    </tr>\n",
       "  </thead>\n",
       "  <tbody>\n",
       "    <tr>\n",
       "      <th>kendallsCorrelation</th>\n",
       "      <td>3</td>\n",
       "    </tr>\n",
       "    <tr>\n",
       "      <th>kurtosis</th>\n",
       "      <td>5</td>\n",
       "    </tr>\n",
       "    <tr>\n",
       "      <th>max</th>\n",
       "      <td>10</td>\n",
       "    </tr>\n",
       "    <tr>\n",
       "      <th>mean</th>\n",
       "      <td>11</td>\n",
       "    </tr>\n",
       "    <tr>\n",
       "      <th>median</th>\n",
       "      <td>10</td>\n",
       "    </tr>\n",
       "    <tr>\n",
       "      <th>min</th>\n",
       "      <td>9</td>\n",
       "    </tr>\n",
       "    <tr>\n",
       "      <th>mode</th>\n",
       "      <td>9</td>\n",
       "    </tr>\n",
       "    <tr>\n",
       "      <th>sampleStdDev</th>\n",
       "      <td>5</td>\n",
       "    </tr>\n",
       "    <tr>\n",
       "      <th>skew</th>\n",
       "      <td>1</td>\n",
       "    </tr>\n",
       "  </tbody>\n",
       "</table>\n",
       "</div>"
      ],
      "text/plain": [
       "                     Best Number of Composites\n",
       "kendallsCorrelation                          3\n",
       "kurtosis                                     5\n",
       "max                                         10\n",
       "mean                                        11\n",
       "median                                      10\n",
       "min                                          9\n",
       "mode                                         9\n",
       "sampleStdDev                                 5\n",
       "skew                                         1"
      ]
     },
     "execution_count": 6,
     "metadata": {},
     "output_type": "execute_result"
    }
   ],
   "source": [
    "# Find the best number of composites for each reducer\n",
    "best_combinations = df.loc[df.groupby(\"Reducer\")[\"Root Mean Squared Error\"].idxmin()]\n",
    "\n",
    "best_composites = pd.DataFrame(\n",
    "    data=best_combinations[\"Composites\"].values,\n",
    "    index=list(best_combinations[\"Reducer\"]),\n",
    "    columns=[\"Best Number of Composites\"]\n",
    ")\n",
    "\n",
    "best_composites"
   ]
  },
  {
   "cell_type": "markdown",
   "metadata": {},
   "source": [
    "We use these optimal numbers of composites to create the final data raster used for hyperparameter tuning in the next experiment. Any empty composite or composite pixels will be filled with circular linear interpolation:"
   ]
  },
  {
   "cell_type": "code",
   "execution_count": 7,
   "metadata": {},
   "outputs": [],
   "source": [
    "from ltm.features import save_raster\n",
    "\n",
    "total_data_path = \"../data/processed/data.tif\"\n",
    "\n",
    "if not Path(total_data_path).exists():\n",
    "    total_data = pd.DataFrame()\n",
    "\n",
    "    for reducer in tqdm(best_composites.index):\n",
    "        num_composites = best_composites.loc[reducer, \"Best Number of Composites\"]\n",
    "        data_path = (\n",
    "            f\"../data/processed/compositing/data_{reducer}_{num_composites}.tif\"\n",
    "        )\n",
    "        Path(data_path).parent.mkdir(parents=True, exist_ok=True)\n",
    "\n",
    "        if not Path(data_path).exists():\n",
    "            sentinel_composite(\n",
    "                target_path_from=target_path,\n",
    "                data_path_to=data_path,\n",
    "                time_window=(datetime(2017, 4, 1), datetime(2018, 4, 1)),\n",
    "                temporal_reducers=[reducer],\n",
    "                num_composites=int(num_composites),\n",
    "                indices=indices,\n",
    "                sentinel_bands=sentinel_bands,\n",
    "            )\n",
    "\n",
    "        data = load_raster(data_path)\n",
    "        data = interpolate_data(data)\n",
    "        data = to_float32(data)\n",
    "        total_data = pd.concat([total_data, data], axis=1)\n",
    "\n",
    "    save_raster(total_data, \"../data/processed/target.tif\", total_data_path)"
   ]
  }
 ],
 "metadata": {
  "kernelspec": {
   "display_name": "ltm",
   "language": "python",
   "name": "python3"
  },
  "language_info": {
   "codemirror_mode": {
    "name": "ipython",
    "version": 3
   },
   "file_extension": ".py",
   "mimetype": "text/x-python",
   "name": "python",
   "nbconvert_exporter": "python",
   "pygments_lexer": "ipython3",
   "version": "3.10.14"
  }
 },
 "nbformat": 4,
 "nbformat_minor": 2
}
