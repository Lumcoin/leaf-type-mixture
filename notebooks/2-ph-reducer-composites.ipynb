{
 "cells": [
  {
   "cell_type": "markdown",
   "metadata": {},
   "source": [
    "# Reducers\n",
    "\n",
    "## Experiment\n",
    "The goal of the second experiment is to find the best number of composites in conjunction with the best temporal reducers that are beneficial in predicting leaf type mixture as a regression problem. The experiment assumes the following:\n",
    "\n",
    "- A time window of 1 year is chosen, starting with 1. April, 2017, thus covering all seasons. April of 2017 was the first whole month with Level-2A imagery and the closest to the recording dates.\n",
    "- Level-2A Sentinel 2 satellite imagery and indices determined by the previous experiment are used as input features.\n",
    "- Random Forest from scikit-learn with default parameters is chosen as the regression model.\n",
    "- The evaluation metrics for the model are RMSE (Root Mean Squared Error), MAE (Mean Absolute Error), and R2 (Coefficient of Determination).\n",
    "\n",
    "The experiment is conducted on 1 to 12 composites in 1 step intervals with the following temporal reducers:"
   ]
  },
  {
   "cell_type": "code",
   "execution_count": 1,
   "metadata": {},
   "outputs": [
    {
     "data": {
      "text/plain": [
       "['And',\n",
       " 'Or',\n",
       " 'allNonZero',\n",
       " 'anyNonZero',\n",
       " 'circularMean',\n",
       " 'circularStddev',\n",
       " 'circularVariance',\n",
       " 'count',\n",
       " 'countDistinctNonNull',\n",
       " 'countRuns',\n",
       " 'firstNonNull',\n",
       " 'kendallsCorrelation',\n",
       " 'kurtosis',\n",
       " 'lastNonNull',\n",
       " 'max',\n",
       " 'mean',\n",
       " 'median',\n",
       " 'min',\n",
       " 'minMax',\n",
       " 'mode',\n",
       " 'product',\n",
       " 'sampleStdDev',\n",
       " 'sampleVariance',\n",
       " 'skew',\n",
       " 'stdDev',\n",
       " 'sum',\n",
       " 'variance']"
      ]
     },
     "execution_count": 1,
     "metadata": {},
     "output_type": "execute_result"
    }
   ],
   "source": [
    "# List the available reducers (except for reducers with a NonNull variant)\n",
    "from ltm.data import list_reducers\n",
    "\n",
    "reducers = list_reducers()\n",
    "reducers = [reducer\n",
    "            for reducer in reducers\n",
    "            if not reducer + \"NonNull\" in reducers]\n",
    "\n",
    "reducers"
   ]
  },
  {
   "cell_type": "code",
   "execution_count": 2,
   "metadata": {},
   "outputs": [
    {
     "name": "stdout",
     "output_type": "stream",
     "text": [
      "Initializing Earth Engine API...\n"
     ]
    },
    {
     "data": {
      "text/plain": [
       "(['B9', 'WVP', 'TCI_G'],\n",
       " ['BAIM',\n",
       "  'BCC',\n",
       "  'BRBA',\n",
       "  'BWDRVI',\n",
       "  'GCC',\n",
       "  'GVMI',\n",
       "  'MCARI705',\n",
       "  'MGRVI',\n",
       "  'MIRBI',\n",
       "  'MLSWI26',\n",
       "  'MNLI',\n",
       "  'MTCI',\n",
       "  'NBRplus',\n",
       "  'NDCI',\n",
       "  'NDDI',\n",
       "  'NDGI',\n",
       "  'S2WI',\n",
       "  'SIPI',\n",
       "  'TRRVI',\n",
       "  'TTVI',\n",
       "  'VIBI',\n",
       "  'WI2015',\n",
       "  'kEVI',\n",
       "  'kIPVI',\n",
       "  'kNDVI',\n",
       "  'kVARI',\n",
       "  'mND705',\n",
       "  'mSR705'])"
      ]
     },
     "execution_count": 2,
     "metadata": {},
     "output_type": "execute_result"
    }
   ],
   "source": [
    "# List the bands determined by the previous experiment\n",
    "from ltm.models import bands_from_importance\n",
    "\n",
    "sentinel_bands, index_bands = bands_from_importance(\"../reports/band_importance.csv\")\n",
    "\n",
    "sentinel_bands, index_bands"
   ]
  },
  {
   "cell_type": "code",
   "execution_count": 3,
   "metadata": {},
   "outputs": [
    {
     "name": "stderr",
     "output_type": "stream",
     "text": [
      "1it [00:05,  5.94s/it]"
     ]
    },
    {
     "name": "stdout",
     "output_type": "stream",
     "text": [
      "{'fit_time': array([0.26604629, 0.25828958, 0.2619977 , 0.26896119, 0.26592636]), 'score_time': array([0.03651643, 0.03870797, 0.03619838, 0.03708816, 0.02983642]), 'test_R2 Score': array([0.21095643, 0.28662203, 0.22466141, 0.13414086, 0.04654622]), 'test_Mean Absolute Error': array([0.36383454, 0.31701267, 0.32420119, 0.35376983, 0.38650663]), 'test_Root Mean Squared Error': array([0.41685636, 0.37684294, 0.37473716, 0.40728713, 0.44241634])}\n",
      "Preparing Sentinel-2 data...\n",
      "Computing data...\n",
      "GeoTIFF saved as ../data/processed/reducer_composites/X_Or_1.tif\n"
     ]
    },
    {
     "name": "stderr",
     "output_type": "stream",
     "text": [
      "2it [00:39, 22.16s/it]"
     ]
    },
    {
     "name": "stdout",
     "output_type": "stream",
     "text": [
      "{'fit_time': array([0.32193518, 0.31490207, 0.33668208, 0.32295513, 0.31617737]), 'score_time': array([0.05251956, 0.05199313, 0.05214834, 0.04291987, 0.04134727]), 'test_R2 Score': array([-0.0082828 , -0.01757952, -0.03529341, -0.02184662, -0.12989383]), 'test_Mean Absolute Error': array([0.44781749, 0.43151127, 0.4089728 , 0.42387388, 0.44661341]), 'test_Root Mean Squared Error': array([0.47122369, 0.45007482, 0.43302481, 0.44245582, 0.48161517])}\n",
      "Preparing Sentinel-2 data...\n",
      "Computing data...\n",
      "GeoTIFF saved as ../data/processed/reducer_composites/X_allNonZero_1.tif\n"
     ]
    },
    {
     "name": "stderr",
     "output_type": "stream",
     "text": [
      "3it [01:06, 24.42s/it]"
     ]
    },
    {
     "name": "stdout",
     "output_type": "stream",
     "text": [
      "{'fit_time': array([0.23081088, 0.23434067, 0.29257846, 0.27265525, 0.27237701]), 'score_time': array([0.0352087 , 0.03215361, 0.04683137, 0.04720926, 0.04697084]), 'test_R2 Score': array([0.20974532, 0.28698483, 0.22533513, 0.13348472, 0.04413459]), 'test_Mean Absolute Error': array([0.36405258, 0.3171394 , 0.32367692, 0.35338884, 0.38678613]), 'test_Root Mean Squared Error': array([0.41717615, 0.37674711, 0.37457431, 0.40744142, 0.44297551])}\n",
      "Preparing Sentinel-2 data...\n",
      "Computing data...\n",
      "GeoTIFF saved as ../data/processed/reducer_composites/X_anyNonZero_1.tif\n"
     ]
    },
    {
     "name": "stderr",
     "output_type": "stream",
     "text": [
      "4it [01:36, 26.46s/it]"
     ]
    },
    {
     "name": "stdout",
     "output_type": "stream",
     "text": [
      "{'fit_time': array([0.21797824, 0.2277925 , 0.24321914, 0.22274685, 0.23353767]), 'score_time': array([0.03487492, 0.03719449, 0.03537726, 0.03489041, 0.03748536]), 'test_R2 Score': array([-0.0076656 , -0.01929474, -0.03610824, -0.02239568, -0.12857567]), 'test_Mean Absolute Error': array([0.44803333, 0.43231898, 0.40928732, 0.42411495, 0.44651776]), 'test_Root Mean Squared Error': array([0.47107944, 0.45045398, 0.43319519, 0.44257468, 0.48133416])}\n",
      "Preparing Sentinel-2 data...\n",
      "Computing data...\n",
      "GeoTIFF saved as ../data/processed/reducer_composites/X_circularMean_1.tif\n"
     ]
    },
    {
     "name": "stderr",
     "output_type": "stream",
     "text": [
      "5it [02:15, 31.21s/it]"
     ]
    },
    {
     "name": "stdout",
     "output_type": "stream",
     "text": [
      "{'fit_time': array([10.0469203 , 10.2265079 ,  9.80058789, 10.19074559,  9.8443706 ]), 'score_time': array([0.1005795 , 0.03088593, 0.32923341, 0.03178477, 0.29108953]), 'test_R2 Score': array([0.59738508, 0.59734895, 0.64231351, 0.61730326, 0.52244776]), 'test_Mean Absolute Error': array([0.19558912, 0.1921419 , 0.16963314, 0.18792155, 0.22665075]), 'test_Root Mean Squared Error': array([0.29776995, 0.28311636, 0.2545261 , 0.27077243, 0.31310628])}\n",
      "Preparing Sentinel-2 data...\n",
      "Computing data...\n",
      "GeoTIFF saved as ../data/processed/reducer_composites/X_circularStddev_1.tif\n"
     ]
    },
    {
     "name": "stderr",
     "output_type": "stream",
     "text": [
      "6it [03:01, 36.07s/it]"
     ]
    },
    {
     "name": "stdout",
     "output_type": "stream",
     "text": [
      "{'fit_time': array([8.45181656, 9.93710923, 8.39735389, 8.62901664, 9.82448387]), 'score_time': array([1.24210238, 0.03125381, 1.30512905, 1.14092159, 0.04651499]), 'test_R2 Score': array([0.55132385, 0.56907866, 0.63709701, 0.62771639, 0.57130627]), 'test_Mean Absolute Error': array([0.20976   , 0.21433191, 0.16546261, 0.17794995, 0.21339899]), 'test_Root Mean Squared Error': array([0.31434201, 0.29288663, 0.25637539, 0.26706318, 0.29665721])}\n",
      "Preparing Sentinel-2 data...\n",
      "Computing data...\n",
      "GeoTIFF saved as ../data/processed/reducer_composites/X_circularVariance_1.tif\n"
     ]
    },
    {
     "name": "stderr",
     "output_type": "stream",
     "text": [
      "7it [03:38, 36.48s/it]"
     ]
    },
    {
     "name": "stdout",
     "output_type": "stream",
     "text": [
      "{'fit_time': array([9.0443325 , 9.299438  , 9.12312055, 9.78019977, 8.98154926]), 'score_time': array([0.41048694, 0.2396071 , 0.37204123, 0.03220797, 0.41865516]), 'test_R2 Score': array([0.55487407, 0.57680026, 0.64510884, 0.61767088, 0.56785156]), 'test_Mean Absolute Error': array([0.20992783, 0.21366806, 0.16422902, 0.18296384, 0.21483935]), 'test_Root Mean Squared Error': array([0.3130959 , 0.29025067, 0.25352959, 0.27064235, 0.29785014])}\n",
      "Preparing Sentinel-2 data...\n",
      "Computing data...\n",
      "GeoTIFF saved as ../data/processed/reducer_composites/X_count_1.tif\n"
     ]
    },
    {
     "name": "stderr",
     "output_type": "stream",
     "text": [
      "8it [04:09, 34.85s/it]"
     ]
    },
    {
     "name": "stdout",
     "output_type": "stream",
     "text": [
      "{'fit_time': array([0.23385143, 0.23437476, 0.22872972, 0.22331858, 0.23328567]), 'score_time': array([0.03713942, 0.03661609, 0.03519464, 0.03534627, 0.03518486]), 'test_R2 Score': array([0.2261904 , 0.32714258, 0.28794659, 0.13619629, 0.07066923]), 'test_Mean Absolute Error': array([0.35543477, 0.30441258, 0.31006787, 0.34670694, 0.37476511]), 'test_Root Mean Squared Error': array([0.41281265, 0.36598397, 0.35911814, 0.40680342, 0.43678378])}\n",
      "Preparing Sentinel-2 data...\n",
      "Computing data...\n",
      "GeoTIFF saved as ../data/processed/reducer_composites/X_countDistinctNonNull_1.tif\n"
     ]
    },
    {
     "name": "stderr",
     "output_type": "stream",
     "text": [
      "9it [04:44, 34.61s/it]"
     ]
    },
    {
     "name": "stdout",
     "output_type": "stream",
     "text": [
      "{'fit_time': array([0.33397889, 0.34128237, 0.34026957, 0.33778143, 0.3289907 ]), 'score_time': array([0.03440166, 0.03392339, 0.04405618, 0.03392339, 0.03354859]), 'test_R2 Score': array([ 0.19924611,  0.23338779,  0.21566767, -0.03143898,  0.07800344]), 'test_Mean Absolute Error': array([0.34350476, 0.30045342, 0.30217121, 0.36215355, 0.37378588]), 'test_Root Mean Squared Error': array([0.41993828, 0.39065052, 0.37690432, 0.4445277 , 0.43505683])}\n",
      "Preparing Sentinel-2 data...\n",
      "Computing data...\n",
      "GeoTIFF saved as ../data/processed/reducer_composites/X_countRuns_1.tif\n"
     ]
    },
    {
     "name": "stderr",
     "output_type": "stream",
     "text": [
      "10it [05:15, 33.75s/it]"
     ]
    },
    {
     "name": "stdout",
     "output_type": "stream",
     "text": [
      "{'fit_time': array([0.28952217, 0.27978802, 0.28536749, 0.30842948, 0.31236172]), 'score_time': array([0.041224  , 0.04972696, 0.04015326, 0.03300691, 0.03765893]), 'test_R2 Score': array([0.22741122, 0.24266311, 0.18737343, 0.05462409, 0.1043632 ]), 'test_Mean Absolute Error': array([0.34416041, 0.30379604, 0.31934339, 0.35345988, 0.3738961 ]), 'test_Root Mean Squared Error': array([0.41248688, 0.38828007, 0.38364237, 0.42557815, 0.42879263])}\n",
      "Preparing Sentinel-2 data...\n",
      "Computing data...\n",
      "GeoTIFF saved as ../data/processed/reducer_composites/X_firstNonNull_1.tif\n"
     ]
    },
    {
     "name": "stderr",
     "output_type": "stream",
     "text": [
      "11it [05:59, 36.78s/it]"
     ]
    },
    {
     "name": "stdout",
     "output_type": "stream",
     "text": [
      "{'fit_time': array([8.25214005, 8.08617258, 8.30165529, 8.00068521, 8.39879584]), 'score_time': array([0.03645921, 0.19931984, 0.03164172, 0.27728081, 0.03300428]), 'test_R2 Score': array([0.54453565, 0.60045404, 0.62735554, 0.60933005, 0.44047161]), 'test_Mean Absolute Error': array([0.19904871, 0.18128246, 0.17058069, 0.18546645, 0.25088239]), 'test_Root Mean Squared Error': array([0.31671099, 0.2820226 , 0.25979357, 0.27357856, 0.33891626])}\n",
      "Preparing Sentinel-2 data...\n",
      "Computing data...\n",
      "GeoTIFF saved as ../data/processed/reducer_composites/X_kendallsCorrelation_1.tif\n",
      "Warning: All rows contain NaN values. Have you tried interpolating using interpolate_X_and_bands?\n"
     ]
    },
    {
     "name": "stderr",
     "output_type": "stream",
     "text": [
      "11it [06:33, 35.81s/it]\n"
     ]
    },
    {
     "ename": "ValueError",
     "evalue": "Cannot have number of splits n_splits=5 greater than the number of samples: n_samples=0.",
     "output_type": "error",
     "traceback": [
      "\u001b[1;31m---------------------------------------------------------------------------\u001b[0m",
      "\u001b[1;31mEmpty\u001b[0m                                     Traceback (most recent call last)",
      "File \u001b[1;32mc:\\Users\\hofin\\mambaforge\\envs\\ltm\\Lib\\site-packages\\joblib\\parallel.py:1423\u001b[0m, in \u001b[0;36mParallel.dispatch_one_batch\u001b[1;34m(self, iterator)\u001b[0m\n\u001b[0;32m   1422\u001b[0m \u001b[38;5;28;01mtry\u001b[39;00m:\n\u001b[1;32m-> 1423\u001b[0m     tasks \u001b[38;5;241m=\u001b[39m \u001b[38;5;28;43mself\u001b[39;49m\u001b[38;5;241;43m.\u001b[39;49m\u001b[43m_ready_batches\u001b[49m\u001b[38;5;241;43m.\u001b[39;49m\u001b[43mget\u001b[49m\u001b[43m(\u001b[49m\u001b[43mblock\u001b[49m\u001b[38;5;241;43m=\u001b[39;49m\u001b[38;5;28;43;01mFalse\u001b[39;49;00m\u001b[43m)\u001b[49m\n\u001b[0;32m   1424\u001b[0m \u001b[38;5;28;01mexcept\u001b[39;00m queue\u001b[38;5;241m.\u001b[39mEmpty:\n\u001b[0;32m   1425\u001b[0m     \u001b[38;5;66;03m# slice the iterator n_jobs * batchsize items at a time. If the\u001b[39;00m\n\u001b[0;32m   1426\u001b[0m     \u001b[38;5;66;03m# slice returns less than that, then the current batchsize puts\u001b[39;00m\n\u001b[1;32m   (...)\u001b[0m\n\u001b[0;32m   1429\u001b[0m     \u001b[38;5;66;03m# accordingly to distribute evenly the last items between all\u001b[39;00m\n\u001b[0;32m   1430\u001b[0m     \u001b[38;5;66;03m# workers.\u001b[39;00m\n",
      "File \u001b[1;32mc:\\Users\\hofin\\mambaforge\\envs\\ltm\\Lib\\queue.py:168\u001b[0m, in \u001b[0;36mQueue.get\u001b[1;34m(self, block, timeout)\u001b[0m\n\u001b[0;32m    167\u001b[0m     \u001b[38;5;28;01mif\u001b[39;00m \u001b[38;5;129;01mnot\u001b[39;00m \u001b[38;5;28mself\u001b[39m\u001b[38;5;241m.\u001b[39m_qsize():\n\u001b[1;32m--> 168\u001b[0m         \u001b[38;5;28;01mraise\u001b[39;00m Empty\n\u001b[0;32m    169\u001b[0m \u001b[38;5;28;01melif\u001b[39;00m timeout \u001b[38;5;129;01mis\u001b[39;00m \u001b[38;5;28;01mNone\u001b[39;00m:\n",
      "\u001b[1;31mEmpty\u001b[0m: ",
      "\nDuring handling of the above exception, another exception occurred:\n",
      "\u001b[1;31mValueError\u001b[0m                                Traceback (most recent call last)",
      "Cell \u001b[1;32mIn[3], line 83\u001b[0m\n\u001b[0;32m     80\u001b[0m         scores \u001b[38;5;241m=\u001b[39m cross_validate(model, X_no_nan, y_no_nan, scoring\u001b[38;5;241m=\u001b[39mscoring, n_jobs\u001b[38;5;241m=\u001b[39m\u001b[38;5;241m-\u001b[39m\u001b[38;5;241m1\u001b[39m)\n\u001b[0;32m     81\u001b[0m         callback(scores, scoring, search_point)\n\u001b[1;32m---> 83\u001b[0m \u001b[43mgrid_search\u001b[49m\u001b[43m(\u001b[49m\u001b[43mmodel\u001b[49m\u001b[43m,\u001b[49m\u001b[43m \u001b[49m\u001b[43msearch_space\u001b[49m\u001b[43m,\u001b[49m\u001b[43m \u001b[49m\u001b[43mscoring\u001b[49m\u001b[43m,\u001b[49m\u001b[43m \u001b[49m\u001b[43my_path\u001b[49m\u001b[43m)\u001b[49m\n",
      "Cell \u001b[1;32mIn[3], line 80\u001b[0m, in \u001b[0;36mgrid_search\u001b[1;34m(model, search_space, scoring, y_path, create_X, callback)\u001b[0m\n\u001b[0;32m     77\u001b[0m X \u001b[38;5;241m=\u001b[39m create_X(y_path, search_point)\n\u001b[0;32m     78\u001b[0m X_no_nan, y_no_nan \u001b[38;5;241m=\u001b[39m drop_nan_rows(X, y)\n\u001b[1;32m---> 80\u001b[0m scores \u001b[38;5;241m=\u001b[39m \u001b[43mcross_validate\u001b[49m\u001b[43m(\u001b[49m\u001b[43mmodel\u001b[49m\u001b[43m,\u001b[49m\u001b[43m \u001b[49m\u001b[43mX_no_nan\u001b[49m\u001b[43m,\u001b[49m\u001b[43m \u001b[49m\u001b[43my_no_nan\u001b[49m\u001b[43m,\u001b[49m\u001b[43m \u001b[49m\u001b[43mscoring\u001b[49m\u001b[38;5;241;43m=\u001b[39;49m\u001b[43mscoring\u001b[49m\u001b[43m,\u001b[49m\u001b[43m \u001b[49m\u001b[43mn_jobs\u001b[49m\u001b[38;5;241;43m=\u001b[39;49m\u001b[38;5;241;43m-\u001b[39;49m\u001b[38;5;241;43m1\u001b[39;49m\u001b[43m)\u001b[49m\n\u001b[0;32m     81\u001b[0m callback(scores, scoring, search_point)\n",
      "File \u001b[1;32mc:\\Users\\hofin\\mambaforge\\envs\\ltm\\Lib\\site-packages\\sklearn\\utils\\_param_validation.py:214\u001b[0m, in \u001b[0;36mvalidate_params.<locals>.decorator.<locals>.wrapper\u001b[1;34m(*args, **kwargs)\u001b[0m\n\u001b[0;32m    208\u001b[0m \u001b[38;5;28;01mtry\u001b[39;00m:\n\u001b[0;32m    209\u001b[0m     \u001b[38;5;28;01mwith\u001b[39;00m config_context(\n\u001b[0;32m    210\u001b[0m         skip_parameter_validation\u001b[38;5;241m=\u001b[39m(\n\u001b[0;32m    211\u001b[0m             prefer_skip_nested_validation \u001b[38;5;129;01mor\u001b[39;00m global_skip_validation\n\u001b[0;32m    212\u001b[0m         )\n\u001b[0;32m    213\u001b[0m     ):\n\u001b[1;32m--> 214\u001b[0m         \u001b[38;5;28;01mreturn\u001b[39;00m \u001b[43mfunc\u001b[49m\u001b[43m(\u001b[49m\u001b[38;5;241;43m*\u001b[39;49m\u001b[43margs\u001b[49m\u001b[43m,\u001b[49m\u001b[43m \u001b[49m\u001b[38;5;241;43m*\u001b[39;49m\u001b[38;5;241;43m*\u001b[39;49m\u001b[43mkwargs\u001b[49m\u001b[43m)\u001b[49m\n\u001b[0;32m    215\u001b[0m \u001b[38;5;28;01mexcept\u001b[39;00m InvalidParameterError \u001b[38;5;28;01mas\u001b[39;00m e:\n\u001b[0;32m    216\u001b[0m     \u001b[38;5;66;03m# When the function is just a wrapper around an estimator, we allow\u001b[39;00m\n\u001b[0;32m    217\u001b[0m     \u001b[38;5;66;03m# the function to delegate validation to the estimator, but we replace\u001b[39;00m\n\u001b[0;32m    218\u001b[0m     \u001b[38;5;66;03m# the name of the estimator by the name of the function in the error\u001b[39;00m\n\u001b[0;32m    219\u001b[0m     \u001b[38;5;66;03m# message to avoid confusion.\u001b[39;00m\n\u001b[0;32m    220\u001b[0m     msg \u001b[38;5;241m=\u001b[39m re\u001b[38;5;241m.\u001b[39msub(\n\u001b[0;32m    221\u001b[0m         \u001b[38;5;124mr\u001b[39m\u001b[38;5;124m\"\u001b[39m\u001b[38;5;124mparameter of \u001b[39m\u001b[38;5;124m\\\u001b[39m\u001b[38;5;124mw+ must be\u001b[39m\u001b[38;5;124m\"\u001b[39m,\n\u001b[0;32m    222\u001b[0m         \u001b[38;5;124mf\u001b[39m\u001b[38;5;124m\"\u001b[39m\u001b[38;5;124mparameter of \u001b[39m\u001b[38;5;132;01m{\u001b[39;00mfunc\u001b[38;5;241m.\u001b[39m\u001b[38;5;18m__qualname__\u001b[39m\u001b[38;5;132;01m}\u001b[39;00m\u001b[38;5;124m must be\u001b[39m\u001b[38;5;124m\"\u001b[39m,\n\u001b[0;32m    223\u001b[0m         \u001b[38;5;28mstr\u001b[39m(e),\n\u001b[0;32m    224\u001b[0m     )\n",
      "File \u001b[1;32mc:\\Users\\hofin\\mambaforge\\envs\\ltm\\Lib\\site-packages\\sklearn\\model_selection\\_validation.py:309\u001b[0m, in \u001b[0;36mcross_validate\u001b[1;34m(estimator, X, y, groups, scoring, cv, n_jobs, verbose, fit_params, pre_dispatch, return_train_score, return_estimator, return_indices, error_score)\u001b[0m\n\u001b[0;32m    306\u001b[0m \u001b[38;5;66;03m# We clone the estimator to make sure that all the folds are\u001b[39;00m\n\u001b[0;32m    307\u001b[0m \u001b[38;5;66;03m# independent, and that it is pickle-able.\u001b[39;00m\n\u001b[0;32m    308\u001b[0m parallel \u001b[38;5;241m=\u001b[39m Parallel(n_jobs\u001b[38;5;241m=\u001b[39mn_jobs, verbose\u001b[38;5;241m=\u001b[39mverbose, pre_dispatch\u001b[38;5;241m=\u001b[39mpre_dispatch)\n\u001b[1;32m--> 309\u001b[0m results \u001b[38;5;241m=\u001b[39m \u001b[43mparallel\u001b[49m\u001b[43m(\u001b[49m\n\u001b[0;32m    310\u001b[0m \u001b[43m    \u001b[49m\u001b[43mdelayed\u001b[49m\u001b[43m(\u001b[49m\u001b[43m_fit_and_score\u001b[49m\u001b[43m)\u001b[49m\u001b[43m(\u001b[49m\n\u001b[0;32m    311\u001b[0m \u001b[43m        \u001b[49m\u001b[43mclone\u001b[49m\u001b[43m(\u001b[49m\u001b[43mestimator\u001b[49m\u001b[43m)\u001b[49m\u001b[43m,\u001b[49m\n\u001b[0;32m    312\u001b[0m \u001b[43m        \u001b[49m\u001b[43mX\u001b[49m\u001b[43m,\u001b[49m\n\u001b[0;32m    313\u001b[0m \u001b[43m        \u001b[49m\u001b[43my\u001b[49m\u001b[43m,\u001b[49m\n\u001b[0;32m    314\u001b[0m \u001b[43m        \u001b[49m\u001b[43mscorers\u001b[49m\u001b[43m,\u001b[49m\n\u001b[0;32m    315\u001b[0m \u001b[43m        \u001b[49m\u001b[43mtrain\u001b[49m\u001b[43m,\u001b[49m\n\u001b[0;32m    316\u001b[0m \u001b[43m        \u001b[49m\u001b[43mtest\u001b[49m\u001b[43m,\u001b[49m\n\u001b[0;32m    317\u001b[0m \u001b[43m        \u001b[49m\u001b[43mverbose\u001b[49m\u001b[43m,\u001b[49m\n\u001b[0;32m    318\u001b[0m \u001b[43m        \u001b[49m\u001b[38;5;28;43;01mNone\u001b[39;49;00m\u001b[43m,\u001b[49m\n\u001b[0;32m    319\u001b[0m \u001b[43m        \u001b[49m\u001b[43mfit_params\u001b[49m\u001b[43m,\u001b[49m\n\u001b[0;32m    320\u001b[0m \u001b[43m        \u001b[49m\u001b[43mreturn_train_score\u001b[49m\u001b[38;5;241;43m=\u001b[39;49m\u001b[43mreturn_train_score\u001b[49m\u001b[43m,\u001b[49m\n\u001b[0;32m    321\u001b[0m \u001b[43m        \u001b[49m\u001b[43mreturn_times\u001b[49m\u001b[38;5;241;43m=\u001b[39;49m\u001b[38;5;28;43;01mTrue\u001b[39;49;00m\u001b[43m,\u001b[49m\n\u001b[0;32m    322\u001b[0m \u001b[43m        \u001b[49m\u001b[43mreturn_estimator\u001b[49m\u001b[38;5;241;43m=\u001b[39;49m\u001b[43mreturn_estimator\u001b[49m\u001b[43m,\u001b[49m\n\u001b[0;32m    323\u001b[0m \u001b[43m        \u001b[49m\u001b[43merror_score\u001b[49m\u001b[38;5;241;43m=\u001b[39;49m\u001b[43merror_score\u001b[49m\u001b[43m,\u001b[49m\n\u001b[0;32m    324\u001b[0m \u001b[43m    \u001b[49m\u001b[43m)\u001b[49m\n\u001b[0;32m    325\u001b[0m \u001b[43m    \u001b[49m\u001b[38;5;28;43;01mfor\u001b[39;49;00m\u001b[43m \u001b[49m\u001b[43mtrain\u001b[49m\u001b[43m,\u001b[49m\u001b[43m \u001b[49m\u001b[43mtest\u001b[49m\u001b[43m \u001b[49m\u001b[38;5;129;43;01min\u001b[39;49;00m\u001b[43m \u001b[49m\u001b[43mindices\u001b[49m\n\u001b[0;32m    326\u001b[0m \u001b[43m\u001b[49m\u001b[43m)\u001b[49m\n\u001b[0;32m    328\u001b[0m _warn_or_raise_about_fit_failures(results, error_score)\n\u001b[0;32m    330\u001b[0m \u001b[38;5;66;03m# For callable scoring, the return type is only know after calling. If the\u001b[39;00m\n\u001b[0;32m    331\u001b[0m \u001b[38;5;66;03m# return type is a dictionary, the error scores can now be inserted with\u001b[39;00m\n\u001b[0;32m    332\u001b[0m \u001b[38;5;66;03m# the correct key.\u001b[39;00m\n",
      "File \u001b[1;32mc:\\Users\\hofin\\mambaforge\\envs\\ltm\\Lib\\site-packages\\sklearn\\utils\\parallel.py:65\u001b[0m, in \u001b[0;36mParallel.__call__\u001b[1;34m(self, iterable)\u001b[0m\n\u001b[0;32m     60\u001b[0m config \u001b[38;5;241m=\u001b[39m get_config()\n\u001b[0;32m     61\u001b[0m iterable_with_config \u001b[38;5;241m=\u001b[39m (\n\u001b[0;32m     62\u001b[0m     (_with_config(delayed_func, config), args, kwargs)\n\u001b[0;32m     63\u001b[0m     \u001b[38;5;28;01mfor\u001b[39;00m delayed_func, args, kwargs \u001b[38;5;129;01min\u001b[39;00m iterable\n\u001b[0;32m     64\u001b[0m )\n\u001b[1;32m---> 65\u001b[0m \u001b[38;5;28;01mreturn\u001b[39;00m \u001b[38;5;28;43msuper\u001b[39;49m\u001b[43m(\u001b[49m\u001b[43m)\u001b[49m\u001b[38;5;241;43m.\u001b[39;49m\u001b[38;5;21;43m__call__\u001b[39;49m\u001b[43m(\u001b[49m\u001b[43miterable_with_config\u001b[49m\u001b[43m)\u001b[49m\n",
      "File \u001b[1;32mc:\\Users\\hofin\\mambaforge\\envs\\ltm\\Lib\\site-packages\\joblib\\parallel.py:1950\u001b[0m, in \u001b[0;36mParallel.__call__\u001b[1;34m(self, iterable)\u001b[0m\n\u001b[0;32m   1944\u001b[0m \u001b[38;5;28mself\u001b[39m\u001b[38;5;241m.\u001b[39m_call_ref \u001b[38;5;241m=\u001b[39m weakref\u001b[38;5;241m.\u001b[39mref(output)\n\u001b[0;32m   1946\u001b[0m \u001b[38;5;66;03m# The first item from the output is blank, but it makes the interpreter\u001b[39;00m\n\u001b[0;32m   1947\u001b[0m \u001b[38;5;66;03m# progress until it enters the Try/Except block of the generator and\u001b[39;00m\n\u001b[0;32m   1948\u001b[0m \u001b[38;5;66;03m# reach the first `yield` statement. This starts the aynchronous\u001b[39;00m\n\u001b[0;32m   1949\u001b[0m \u001b[38;5;66;03m# dispatch of the tasks to the workers.\u001b[39;00m\n\u001b[1;32m-> 1950\u001b[0m \u001b[38;5;28mnext\u001b[39m(output)\n\u001b[0;32m   1952\u001b[0m \u001b[38;5;28;01mreturn\u001b[39;00m output \u001b[38;5;28;01mif\u001b[39;00m \u001b[38;5;28mself\u001b[39m\u001b[38;5;241m.\u001b[39mreturn_generator \u001b[38;5;28;01melse\u001b[39;00m \u001b[38;5;28mlist\u001b[39m(output)\n",
      "File \u001b[1;32mc:\\Users\\hofin\\mambaforge\\envs\\ltm\\Lib\\site-packages\\joblib\\parallel.py:1588\u001b[0m, in \u001b[0;36mParallel._get_outputs\u001b[1;34m(self, iterator, pre_dispatch)\u001b[0m\n\u001b[0;32m   1586\u001b[0m detach_generator_exit \u001b[38;5;241m=\u001b[39m \u001b[38;5;28;01mFalse\u001b[39;00m\n\u001b[0;32m   1587\u001b[0m \u001b[38;5;28;01mtry\u001b[39;00m:\n\u001b[1;32m-> 1588\u001b[0m     \u001b[38;5;28;43mself\u001b[39;49m\u001b[38;5;241;43m.\u001b[39;49m\u001b[43m_start\u001b[49m\u001b[43m(\u001b[49m\u001b[43miterator\u001b[49m\u001b[43m,\u001b[49m\u001b[43m \u001b[49m\u001b[43mpre_dispatch\u001b[49m\u001b[43m)\u001b[49m\n\u001b[0;32m   1589\u001b[0m     \u001b[38;5;66;03m# first yield returns None, for internal use only. This ensures\u001b[39;00m\n\u001b[0;32m   1590\u001b[0m     \u001b[38;5;66;03m# that we enter the try/except block and start dispatching the\u001b[39;00m\n\u001b[0;32m   1591\u001b[0m     \u001b[38;5;66;03m# tasks.\u001b[39;00m\n\u001b[0;32m   1592\u001b[0m     \u001b[38;5;28;01myield\u001b[39;00m\n",
      "File \u001b[1;32mc:\\Users\\hofin\\mambaforge\\envs\\ltm\\Lib\\site-packages\\joblib\\parallel.py:1571\u001b[0m, in \u001b[0;36mParallel._start\u001b[1;34m(self, iterator, pre_dispatch)\u001b[0m\n\u001b[0;32m   1562\u001b[0m \u001b[38;5;28;01mdef\u001b[39;00m \u001b[38;5;21m_start\u001b[39m(\u001b[38;5;28mself\u001b[39m, iterator, pre_dispatch):\n\u001b[0;32m   1563\u001b[0m     \u001b[38;5;66;03m# Only set self._iterating to True if at least a batch\u001b[39;00m\n\u001b[0;32m   1564\u001b[0m     \u001b[38;5;66;03m# was dispatched. In particular this covers the edge\u001b[39;00m\n\u001b[1;32m   (...)\u001b[0m\n\u001b[0;32m   1568\u001b[0m     \u001b[38;5;66;03m# was very quick and its callback already dispatched all the\u001b[39;00m\n\u001b[0;32m   1569\u001b[0m     \u001b[38;5;66;03m# remaining jobs.\u001b[39;00m\n\u001b[0;32m   1570\u001b[0m     \u001b[38;5;28mself\u001b[39m\u001b[38;5;241m.\u001b[39m_iterating \u001b[38;5;241m=\u001b[39m \u001b[38;5;28;01mFalse\u001b[39;00m\n\u001b[1;32m-> 1571\u001b[0m     \u001b[38;5;28;01mif\u001b[39;00m \u001b[38;5;28;43mself\u001b[39;49m\u001b[38;5;241;43m.\u001b[39;49m\u001b[43mdispatch_one_batch\u001b[49m\u001b[43m(\u001b[49m\u001b[43miterator\u001b[49m\u001b[43m)\u001b[49m:\n\u001b[0;32m   1572\u001b[0m         \u001b[38;5;28mself\u001b[39m\u001b[38;5;241m.\u001b[39m_iterating \u001b[38;5;241m=\u001b[39m \u001b[38;5;28mself\u001b[39m\u001b[38;5;241m.\u001b[39m_original_iterator \u001b[38;5;129;01mis\u001b[39;00m \u001b[38;5;129;01mnot\u001b[39;00m \u001b[38;5;28;01mNone\u001b[39;00m\n\u001b[0;32m   1574\u001b[0m     \u001b[38;5;28;01mwhile\u001b[39;00m \u001b[38;5;28mself\u001b[39m\u001b[38;5;241m.\u001b[39mdispatch_one_batch(iterator):\n",
      "File \u001b[1;32mc:\\Users\\hofin\\mambaforge\\envs\\ltm\\Lib\\site-packages\\joblib\\parallel.py:1434\u001b[0m, in \u001b[0;36mParallel.dispatch_one_batch\u001b[1;34m(self, iterator)\u001b[0m\n\u001b[0;32m   1431\u001b[0m n_jobs \u001b[38;5;241m=\u001b[39m \u001b[38;5;28mself\u001b[39m\u001b[38;5;241m.\u001b[39m_cached_effective_n_jobs\n\u001b[0;32m   1432\u001b[0m big_batch_size \u001b[38;5;241m=\u001b[39m batch_size \u001b[38;5;241m*\u001b[39m n_jobs\n\u001b[1;32m-> 1434\u001b[0m islice \u001b[38;5;241m=\u001b[39m \u001b[38;5;28mlist\u001b[39m(itertools\u001b[38;5;241m.\u001b[39mislice(iterator, big_batch_size))\n\u001b[0;32m   1435\u001b[0m \u001b[38;5;28;01mif\u001b[39;00m \u001b[38;5;28mlen\u001b[39m(islice) \u001b[38;5;241m==\u001b[39m \u001b[38;5;241m0\u001b[39m:\n\u001b[0;32m   1436\u001b[0m     \u001b[38;5;28;01mreturn\u001b[39;00m \u001b[38;5;28;01mFalse\u001b[39;00m\n",
      "File \u001b[1;32mc:\\Users\\hofin\\mambaforge\\envs\\ltm\\Lib\\site-packages\\sklearn\\utils\\parallel.py:61\u001b[0m, in \u001b[0;36m<genexpr>\u001b[1;34m(.0)\u001b[0m\n\u001b[0;32m     56\u001b[0m \u001b[38;5;66;03m# Capture the thread-local scikit-learn configuration at the time\u001b[39;00m\n\u001b[0;32m     57\u001b[0m \u001b[38;5;66;03m# Parallel.__call__ is issued since the tasks can be dispatched\u001b[39;00m\n\u001b[0;32m     58\u001b[0m \u001b[38;5;66;03m# in a different thread depending on the backend and on the value of\u001b[39;00m\n\u001b[0;32m     59\u001b[0m \u001b[38;5;66;03m# pre_dispatch and n_jobs.\u001b[39;00m\n\u001b[0;32m     60\u001b[0m config \u001b[38;5;241m=\u001b[39m get_config()\n\u001b[1;32m---> 61\u001b[0m iterable_with_config \u001b[38;5;241m=\u001b[39m (\n\u001b[0;32m     62\u001b[0m     (_with_config(delayed_func, config), args, kwargs)\n\u001b[0;32m     63\u001b[0m     \u001b[38;5;28;01mfor\u001b[39;00m delayed_func, args, kwargs \u001b[38;5;129;01min\u001b[39;00m iterable\n\u001b[0;32m     64\u001b[0m )\n\u001b[0;32m     65\u001b[0m \u001b[38;5;28;01mreturn\u001b[39;00m \u001b[38;5;28msuper\u001b[39m()\u001b[38;5;241m.\u001b[39m\u001b[38;5;21m__call__\u001b[39m(iterable_with_config)\n",
      "File \u001b[1;32mc:\\Users\\hofin\\mambaforge\\envs\\ltm\\Lib\\site-packages\\sklearn\\model_selection\\_validation.py:309\u001b[0m, in \u001b[0;36m<genexpr>\u001b[1;34m(.0)\u001b[0m\n\u001b[0;32m    306\u001b[0m \u001b[38;5;66;03m# We clone the estimator to make sure that all the folds are\u001b[39;00m\n\u001b[0;32m    307\u001b[0m \u001b[38;5;66;03m# independent, and that it is pickle-able.\u001b[39;00m\n\u001b[0;32m    308\u001b[0m parallel \u001b[38;5;241m=\u001b[39m Parallel(n_jobs\u001b[38;5;241m=\u001b[39mn_jobs, verbose\u001b[38;5;241m=\u001b[39mverbose, pre_dispatch\u001b[38;5;241m=\u001b[39mpre_dispatch)\n\u001b[1;32m--> 309\u001b[0m results \u001b[38;5;241m=\u001b[39m parallel(\n\u001b[0;32m    310\u001b[0m     delayed(_fit_and_score)(\n\u001b[0;32m    311\u001b[0m         clone(estimator),\n\u001b[0;32m    312\u001b[0m         X,\n\u001b[0;32m    313\u001b[0m         y,\n\u001b[0;32m    314\u001b[0m         scorers,\n\u001b[0;32m    315\u001b[0m         train,\n\u001b[0;32m    316\u001b[0m         test,\n\u001b[0;32m    317\u001b[0m         verbose,\n\u001b[0;32m    318\u001b[0m         \u001b[38;5;28;01mNone\u001b[39;00m,\n\u001b[0;32m    319\u001b[0m         fit_params,\n\u001b[0;32m    320\u001b[0m         return_train_score\u001b[38;5;241m=\u001b[39mreturn_train_score,\n\u001b[0;32m    321\u001b[0m         return_times\u001b[38;5;241m=\u001b[39m\u001b[38;5;28;01mTrue\u001b[39;00m,\n\u001b[0;32m    322\u001b[0m         return_estimator\u001b[38;5;241m=\u001b[39mreturn_estimator,\n\u001b[0;32m    323\u001b[0m         error_score\u001b[38;5;241m=\u001b[39merror_score,\n\u001b[0;32m    324\u001b[0m     )\n\u001b[0;32m    325\u001b[0m     \u001b[38;5;28;01mfor\u001b[39;00m train, test \u001b[38;5;129;01min\u001b[39;00m indices\n\u001b[0;32m    326\u001b[0m )\n\u001b[0;32m    328\u001b[0m _warn_or_raise_about_fit_failures(results, error_score)\n\u001b[0;32m    330\u001b[0m \u001b[38;5;66;03m# For callable scoring, the return type is only know after calling. If the\u001b[39;00m\n\u001b[0;32m    331\u001b[0m \u001b[38;5;66;03m# return type is a dictionary, the error scores can now be inserted with\u001b[39;00m\n\u001b[0;32m    332\u001b[0m \u001b[38;5;66;03m# the correct key.\u001b[39;00m\n",
      "File \u001b[1;32mc:\\Users\\hofin\\mambaforge\\envs\\ltm\\Lib\\site-packages\\sklearn\\model_selection\\_split.py:370\u001b[0m, in \u001b[0;36m_BaseKFold.split\u001b[1;34m(self, X, y, groups)\u001b[0m\n\u001b[0;32m    368\u001b[0m n_samples \u001b[38;5;241m=\u001b[39m _num_samples(X)\n\u001b[0;32m    369\u001b[0m \u001b[38;5;28;01mif\u001b[39;00m \u001b[38;5;28mself\u001b[39m\u001b[38;5;241m.\u001b[39mn_splits \u001b[38;5;241m>\u001b[39m n_samples:\n\u001b[1;32m--> 370\u001b[0m     \u001b[38;5;28;01mraise\u001b[39;00m \u001b[38;5;167;01mValueError\u001b[39;00m(\n\u001b[0;32m    371\u001b[0m         (\n\u001b[0;32m    372\u001b[0m             \u001b[38;5;124m\"\u001b[39m\u001b[38;5;124mCannot have number of splits n_splits=\u001b[39m\u001b[38;5;132;01m{0}\u001b[39;00m\u001b[38;5;124m greater\u001b[39m\u001b[38;5;124m\"\u001b[39m\n\u001b[0;32m    373\u001b[0m             \u001b[38;5;124m\"\u001b[39m\u001b[38;5;124m than the number of samples: n_samples=\u001b[39m\u001b[38;5;132;01m{1}\u001b[39;00m\u001b[38;5;124m.\u001b[39m\u001b[38;5;124m\"\u001b[39m\n\u001b[0;32m    374\u001b[0m         )\u001b[38;5;241m.\u001b[39mformat(\u001b[38;5;28mself\u001b[39m\u001b[38;5;241m.\u001b[39mn_splits, n_samples)\n\u001b[0;32m    375\u001b[0m     )\n\u001b[0;32m    377\u001b[0m \u001b[38;5;28;01mfor\u001b[39;00m train, test \u001b[38;5;129;01min\u001b[39;00m \u001b[38;5;28msuper\u001b[39m()\u001b[38;5;241m.\u001b[39msplit(X, y, groups):\n\u001b[0;32m    378\u001b[0m     \u001b[38;5;28;01myield\u001b[39;00m train, test\n",
      "\u001b[1;31mValueError\u001b[0m: Cannot have number of splits n_splits=5 greater than the number of samples: n_samples=0."
     ]
    }
   ],
   "source": [
    "from ltm.data import sentinel_composite, split_band_name\n",
    "from ltm.features import load_raster, interpolate_X, drop_nan_rows\n",
    "\n",
    "from sklearn.metrics import make_scorer, mean_squared_error, mean_absolute_error, r2_score\n",
    "from sklearn.model_selection import cross_validate\n",
    "from sklearn.ensemble import RandomForestRegressor\n",
    "from tqdm import tqdm\n",
    "from pathlib import Path\n",
    "import pandas as pd\n",
    "from itertools import product\n",
    "from datetime import datetime\n",
    "\n",
    "model = RandomForestRegressor(n_jobs=-1)\n",
    "search_space = {\n",
    "    \"time_window\": [(datetime(2017, 4, 1), datetime(2018, 4, 1))],\n",
    "    \"num_composites\": list(range(1, 13)),\n",
    "    \"temporal_reducers\": [[reducer] for reducer in reducers],\n",
    "    \"indices\": [index_bands],\n",
    "    \"sentinel_bands\": [sentinel_bands],\n",
    "}\n",
    "scoring = {\n",
    "    \"R2 Score\": make_scorer(r2_score),\n",
    "    \"Mean Absolute Error\": make_scorer(mean_absolute_error),\n",
    "    \"Root Mean Squared Error\": make_scorer(mean_squared_error, squared=False)\n",
    "}\n",
    "y_path = \"../data/processed/y.tif\"\n",
    "\n",
    "def create_X(y_path, search_point):\n",
    "    # Create X_path and ensure directory exists\n",
    "    reducer = search_point[\"temporal_reducers\"][0]\n",
    "    composites = search_point[\"num_composites\"]\n",
    "    X_path_to = f\"../data/processed/reducer_composites/X_{reducer}_{composites}.tif\"\n",
    "    Path(X_path_to).parent.mkdir(parents=True, exist_ok=True)\n",
    "\n",
    "    # Create the composite\n",
    "    if not Path(X_path_to).exists():\n",
    "        sentinel_composite(\n",
    "            y_path_from=y_path,\n",
    "            X_path_to=X_path_to,\n",
    "            **search_point\n",
    "        )\n",
    "\n",
    "    # Fill missing values by linear (circular) interpolation\n",
    "    X = load_raster(X_path_to)\n",
    "    interpolated_X = interpolate_X(X)\n",
    "    \n",
    "    return interpolated_X\n",
    "\n",
    "def callback(scores, scoring, search_point):\n",
    "    print(scores)\n",
    "    # Scores and Parameters of the current search point\n",
    "\n",
    "    # Read the reducer_composites.csv\n",
    "    reducer_composites = \"../reports/reducer_composites.csv\"\n",
    "    try:\n",
    "        df = pd.read_csv(reducer_composites)\n",
    "    except FileNotFoundError:\n",
    "        columns = [\"Reducer\", \"Composites\"] + list(scoring.keys())\n",
    "        df = pd.DataFrame(columns=columns)\n",
    "\n",
    "    # search_point[\"num_composite\"]\n",
    "\n",
    "    # Store the scores in the dataframe\n",
    "    first_columns = [search_point[\"temporal_reducers\"][0], search_point[\"num_composites\"]]\n",
    "    last_columns = [scores[f\"test_{key}\"].mean() for key in scoring.keys()]\n",
    "    df.loc[len(df)] = first_columns + last_columns\n",
    "\n",
    "    # Save to CSV\n",
    "    df.to_csv(reducer_composites, index=False)\n",
    "\n",
    "def grid_search(model, search_space, scoring, y_path, create_X=create_X, callback=callback):\n",
    "    y = load_raster(y_path)\n",
    "\n",
    "    params = search_space.keys()\n",
    "    for values in tqdm(product(*search_space.values())):\n",
    "        search_point = dict(zip(params, values))\n",
    "        X = create_X(y_path, search_point)\n",
    "        X_no_nan, y_no_nan = drop_nan_rows(X, y)\n",
    "\n",
    "        if len(X_no_nan) < 5:\n",
    "            # TODO: synthetic cross_validate scores with NaN values\n",
    "            continue\n",
    "        \n",
    "        scores = cross_validate(model, X_no_nan, y_no_nan, scoring=scoring, n_jobs=-1)\n",
    "        callback(scores, scoring, search_point)\n",
    "\n",
    "grid_search(model, search_space, scoring, y_path)"
   ]
  },
  {
   "cell_type": "code",
   "execution_count": null,
   "metadata": {},
   "outputs": [
    {
     "data": {
      "text/plain": [
       "[(1, 2, 4),\n",
       " (1, 2, 5),\n",
       " (1, 2, 6),\n",
       " (1, 2, 7),\n",
       " (1, 2, 8),\n",
       " (1, 3, 4),\n",
       " (1, 3, 5),\n",
       " (1, 3, 6),\n",
       " (1, 3, 7),\n",
       " (1, 3, 8)]"
      ]
     },
     "execution_count": 16,
     "metadata": {},
     "output_type": "execute_result"
    }
   ],
   "source": [
    "a= [1]\n",
    "b = [2, 3]\n",
    "c = [4, 5, 6, 7, 8]\n",
    "\n",
    "d = [a, b, c]\n",
    "\n",
    "list(product(*d))"
   ]
  },
  {
   "cell_type": "code",
   "execution_count": null,
   "metadata": {},
   "outputs": [],
   "source": [
    "# Optional: Interpolate missing values in X, save it as a new raster and visualize it\n",
    "from ltm.data import show_timeseries\n",
    "from ltm.features import load_raster, interpolate_X, save_raster\n",
    "\n",
    "# Define paths and parameters\n",
    "X_path = \"tmp.tif\"\n",
    "interpolated_X_path = \"interpolated.tif\"\n",
    "visualized_reducer = \"min\"\n",
    "rgb_bands = [\"B4\", \"B3\", \"B2\"]\n",
    "\n",
    "# Load, interpolate and save new X\n",
    "X = load_raster(X_path)\n",
    "interpolated_X = interpolate_X(X)\n",
    "save_raster(interpolated_X, X_path, interpolated_X_path)\n",
    "\n",
    "# Visualize\n",
    "show_timeseries(interpolated_X_path, visualized_reducer, rgb_bands=rgb_bands)"
   ]
  },
  {
   "cell_type": "markdown",
   "metadata": {},
   "source": [
    "Notice that we removed any reducer that has a \"NonNull\" variant. This is because we do not want NaN values in the dataset for this paper.\n",
    "\n",
    "Now we can conduct the experiment. The following cell creates one raster per temporal reducer using the GEE API and stores it with the naming scheme \"data/processed/X_{temporal_reducer}.tif\". Each raster is then used to evaluate a random forest model using 5-fold cross validation. The results are saved to \"reports/reducers.csv\"."
   ]
  },
  {
   "cell_type": "code",
   "execution_count": null,
   "metadata": {},
   "outputs": [
    {
     "data": {
      "text/html": [
       "<div>\n",
       "<style scoped>\n",
       "    .dataframe tbody tr th:only-of-type {\n",
       "        vertical-align: middle;\n",
       "    }\n",
       "\n",
       "    .dataframe tbody tr th {\n",
       "        vertical-align: top;\n",
       "    }\n",
       "\n",
       "    .dataframe thead th {\n",
       "        text-align: right;\n",
       "    }\n",
       "</style>\n",
       "<table border=\"1\" class=\"dataframe\">\n",
       "  <thead>\n",
       "    <tr style=\"text-align: right;\">\n",
       "      <th></th>\n",
       "      <th>R2 Score</th>\n",
       "      <th>Mean Absolute Error</th>\n",
       "      <th>Root Mean Squared Error</th>\n",
       "    </tr>\n",
       "    <tr>\n",
       "      <th>Reducer</th>\n",
       "      <th></th>\n",
       "      <th></th>\n",
       "      <th></th>\n",
       "    </tr>\n",
       "  </thead>\n",
       "  <tbody>\n",
       "    <tr>\n",
       "      <th>And</th>\n",
       "      <td>-0.042684</td>\n",
       "      <td>0.431939</td>\n",
       "      <td>0.455699</td>\n",
       "    </tr>\n",
       "    <tr>\n",
       "      <th>Or</th>\n",
       "      <td>-0.042684</td>\n",
       "      <td>0.431939</td>\n",
       "      <td>0.455699</td>\n",
       "    </tr>\n",
       "    <tr>\n",
       "      <th>allNonZero</th>\n",
       "      <td>-0.042684</td>\n",
       "      <td>0.431939</td>\n",
       "      <td>0.455699</td>\n",
       "    </tr>\n",
       "    <tr>\n",
       "      <th>anyNonZero</th>\n",
       "      <td>-0.042684</td>\n",
       "      <td>0.431939</td>\n",
       "      <td>0.455699</td>\n",
       "    </tr>\n",
       "    <tr>\n",
       "      <th>circularMean</th>\n",
       "      <td>0.538389</td>\n",
       "      <td>0.211784</td>\n",
       "      <td>0.303150</td>\n",
       "    </tr>\n",
       "    <tr>\n",
       "      <th>circularStddev</th>\n",
       "      <td>0.560304</td>\n",
       "      <td>0.205168</td>\n",
       "      <td>0.295925</td>\n",
       "    </tr>\n",
       "    <tr>\n",
       "      <th>circularVariance</th>\n",
       "      <td>0.559884</td>\n",
       "      <td>0.205360</td>\n",
       "      <td>0.296071</td>\n",
       "    </tr>\n",
       "    <tr>\n",
       "      <th>count</th>\n",
       "      <td>-0.042684</td>\n",
       "      <td>0.431939</td>\n",
       "      <td>0.455699</td>\n",
       "    </tr>\n",
       "    <tr>\n",
       "      <th>countDistinctNonNull</th>\n",
       "      <td>0.277344</td>\n",
       "      <td>0.295775</td>\n",
       "      <td>0.379318</td>\n",
       "    </tr>\n",
       "    <tr>\n",
       "      <th>countRuns</th>\n",
       "      <td>0.209922</td>\n",
       "      <td>0.296054</td>\n",
       "      <td>0.395784</td>\n",
       "    </tr>\n",
       "    <tr>\n",
       "      <th>firstNonNull</th>\n",
       "      <td>0.601670</td>\n",
       "      <td>0.186843</td>\n",
       "      <td>0.281502</td>\n",
       "    </tr>\n",
       "    <tr>\n",
       "      <th>kendallsCorrelation</th>\n",
       "      <td>NaN</td>\n",
       "      <td>NaN</td>\n",
       "      <td>NaN</td>\n",
       "    </tr>\n",
       "    <tr>\n",
       "      <th>kurtosis</th>\n",
       "      <td>0.389214</td>\n",
       "      <td>0.265742</td>\n",
       "      <td>0.348714</td>\n",
       "    </tr>\n",
       "    <tr>\n",
       "      <th>lastNonNull</th>\n",
       "      <td>0.551129</td>\n",
       "      <td>0.202275</td>\n",
       "      <td>0.298655</td>\n",
       "    </tr>\n",
       "    <tr>\n",
       "      <th>max</th>\n",
       "      <td>0.495166</td>\n",
       "      <td>0.228818</td>\n",
       "      <td>0.316860</td>\n",
       "    </tr>\n",
       "    <tr>\n",
       "      <th>mean</th>\n",
       "      <td>0.537295</td>\n",
       "      <td>0.212337</td>\n",
       "      <td>0.303463</td>\n",
       "    </tr>\n",
       "    <tr>\n",
       "      <th>median</th>\n",
       "      <td>0.544933</td>\n",
       "      <td>0.207781</td>\n",
       "      <td>0.300956</td>\n",
       "    </tr>\n",
       "    <tr>\n",
       "      <th>min</th>\n",
       "      <td>0.484204</td>\n",
       "      <td>0.228641</td>\n",
       "      <td>0.320251</td>\n",
       "    </tr>\n",
       "    <tr>\n",
       "      <th>minMax</th>\n",
       "      <td>0.540225</td>\n",
       "      <td>0.217733</td>\n",
       "      <td>0.302637</td>\n",
       "    </tr>\n",
       "    <tr>\n",
       "      <th>mode</th>\n",
       "      <td>0.435944</td>\n",
       "      <td>0.253036</td>\n",
       "      <td>0.334869</td>\n",
       "    </tr>\n",
       "    <tr>\n",
       "      <th>product</th>\n",
       "      <td>-0.042684</td>\n",
       "      <td>0.431939</td>\n",
       "      <td>0.455699</td>\n",
       "    </tr>\n",
       "    <tr>\n",
       "      <th>sampleStdDev</th>\n",
       "      <td>0.560193</td>\n",
       "      <td>0.205544</td>\n",
       "      <td>0.295978</td>\n",
       "    </tr>\n",
       "    <tr>\n",
       "      <th>sampleVariance</th>\n",
       "      <td>0.561064</td>\n",
       "      <td>0.205158</td>\n",
       "      <td>0.295687</td>\n",
       "    </tr>\n",
       "    <tr>\n",
       "      <th>skew</th>\n",
       "      <td>0.444502</td>\n",
       "      <td>0.250836</td>\n",
       "      <td>0.332389</td>\n",
       "    </tr>\n",
       "    <tr>\n",
       "      <th>stdDev</th>\n",
       "      <td>0.560193</td>\n",
       "      <td>0.205544</td>\n",
       "      <td>0.295978</td>\n",
       "    </tr>\n",
       "    <tr>\n",
       "      <th>sum</th>\n",
       "      <td>0.537243</td>\n",
       "      <td>0.212352</td>\n",
       "      <td>0.303479</td>\n",
       "    </tr>\n",
       "    <tr>\n",
       "      <th>variance</th>\n",
       "      <td>0.560501</td>\n",
       "      <td>0.205310</td>\n",
       "      <td>0.295872</td>\n",
       "    </tr>\n",
       "  </tbody>\n",
       "</table>\n",
       "</div>"
      ],
      "text/plain": [
       "                      R2 Score  Mean Absolute Error  Root Mean Squared Error\n",
       "Reducer                                                                     \n",
       "And                  -0.042684             0.431939                 0.455699\n",
       "Or                   -0.042684             0.431939                 0.455699\n",
       "allNonZero           -0.042684             0.431939                 0.455699\n",
       "anyNonZero           -0.042684             0.431939                 0.455699\n",
       "circularMean          0.538389             0.211784                 0.303150\n",
       "circularStddev        0.560304             0.205168                 0.295925\n",
       "circularVariance      0.559884             0.205360                 0.296071\n",
       "count                -0.042684             0.431939                 0.455699\n",
       "countDistinctNonNull  0.277344             0.295775                 0.379318\n",
       "countRuns             0.209922             0.296054                 0.395784\n",
       "firstNonNull          0.601670             0.186843                 0.281502\n",
       "kendallsCorrelation        NaN                  NaN                      NaN\n",
       "kurtosis              0.389214             0.265742                 0.348714\n",
       "lastNonNull           0.551129             0.202275                 0.298655\n",
       "max                   0.495166             0.228818                 0.316860\n",
       "mean                  0.537295             0.212337                 0.303463\n",
       "median                0.544933             0.207781                 0.300956\n",
       "min                   0.484204             0.228641                 0.320251\n",
       "minMax                0.540225             0.217733                 0.302637\n",
       "mode                  0.435944             0.253036                 0.334869\n",
       "product              -0.042684             0.431939                 0.455699\n",
       "sampleStdDev          0.560193             0.205544                 0.295978\n",
       "sampleVariance        0.561064             0.205158                 0.295687\n",
       "skew                  0.444502             0.250836                 0.332389\n",
       "stdDev                0.560193             0.205544                 0.295978\n",
       "sum                   0.537243             0.212352                 0.303479\n",
       "variance              0.560501             0.205310                 0.295872"
      ]
     },
     "execution_count": 2,
     "metadata": {},
     "output_type": "execute_result"
    }
   ],
   "source": [
    "# Evaluate a model for each reducer\n",
    "from ltm.data import list_bands, sentinel_composite\n",
    "from ltm.features import load_raster, drop_nan_rows\n",
    "from sklearn.model_selection import cross_validate\n",
    "from sklearn.ensemble import RandomForestRegressor\n",
    "from sklearn.metrics import make_scorer, mean_squared_error, mean_absolute_error, r2_score\n",
    "\n",
    "from pathlib import Path\n",
    "import pandas as pd\n",
    "\n",
    "reducers_path = \"../reports/reducers.csv\"\n",
    "if not Path(reducers_path).exists():\n",
    "    # Define the label path and the bands to use\n",
    "    y_path = \"../data/processed/y.tif\"\n",
    "    sentinel_bands = [band for band in list_bands() if band.startswith(\"B\")]\n",
    "\n",
    "    # Define the scoring metrics\n",
    "    scoring = {\n",
    "        \"R2 Score\": make_scorer(r2_score),\n",
    "        \"Mean Absolute Error\": make_scorer(mean_absolute_error),\n",
    "        \"Root Mean Squared Error\": make_scorer(mean_squared_error, squared=False)\n",
    "    }\n",
    "\n",
    "    score_df = pd.DataFrame(columns=scoring.keys())\n",
    "    for reducer in reducers:\n",
    "        # Create the composite for current reducer\n",
    "        X_path = f\"../data/processed/reducers/X_{reducer}.tif\"\n",
    "        if not Path(X_path).exists():\n",
    "            Path(X_path).parent.mkdir(parents=True, exist_ok=True)\n",
    "            sentinel_composite(\n",
    "                y_path_from=y_path,\n",
    "                X_path_to=X_path,\n",
    "                time_window=(datetime(2017, 4, 1), datetime(2018, 4, 1)),\n",
    "                temporal_reducers=[reducer],\n",
    "                sentinel_bands=sentinel_bands,\n",
    "            )\n",
    "\n",
    "        # Load the data and drop rows containing NaNs\n",
    "        X = load_raster(X_path)\n",
    "        y = load_raster(y_path)\n",
    "        X, y = drop_nan_rows(X, y)\n",
    "\n",
    "        # Handle case where less than 5 samples are left (due to 5-fold cross-validation)\n",
    "        if X.shape[0] < 5:\n",
    "            score_df.loc[reducer] = [np.nan] * len(scoring)\n",
    "            continue\n",
    "\n",
    "        # Evaluate the model\n",
    "        random_forest = RandomForestRegressor(n_jobs=-1, random_state=42)\n",
    "        scores = cross_validate(random_forest, X, y, scoring=scoring, n_jobs=-1)\n",
    "        score_df.loc[reducer] = [scores[f\"test_{key}\"].mean() for key in scoring.keys()]\n",
    "\n",
    "    # Save the scores\n",
    "    score_df.to_csv(reducers_path, index_label=\"Reducer\")\n",
    "else:\n",
    "    score_df = pd.read_csv(reducers_path, index_col=0)\n",
    "\n",
    "score_df"
   ]
  },
  {
   "cell_type": "markdown",
   "metadata": {},
   "source": [
    "To decide which temporal reducers are suitable for the task, we (arbitrarily) choose the following criteria:\n",
    "- The $R^2$ score must be positive."
   ]
  },
  {
   "cell_type": "code",
   "execution_count": null,
   "metadata": {},
   "outputs": [
    {
     "data": {
      "image/png": "[encoded data removed]",
      "text/plain": [
       "<Figure size 600x200 with 1 Axes>"
      ]
     },
     "metadata": {},
     "output_type": "display_data"
    }
   ],
   "source": [
    "from ltm.models import plot_report\n",
    "import matplotlib.pyplot as plt\n",
    "import scienceplots\n",
    "\n",
    "plt.style.use(\"science\")\n",
    "\n",
    "ax = plot_report(\n",
    "    score_df.sort_values(\"R2 Score\"),\n",
    "    \"Scores of Temporal Reducers\",\n",
    "    \"Temporal Reducer\",\n",
    "    \"Score\",\n",
    "    label_rotation=90,\n",
    "    replace_labels={\"R2 Score\": \"$R^2$ Score\"},\n",
    "    figsize=(6, 2),\n",
    "    marker=\".\"\n",
    ")\n",
    "\n",
    "plt.show()"
   ]
  },
  {
   "cell_type": "markdown",
   "metadata": {},
   "source": [
    "# Result\n",
    "\n",
    "The following temporal reducers are considered suitable for the task and are used for the next experiment:"
   ]
  },
  {
   "cell_type": "code",
   "execution_count": null,
   "metadata": {},
   "outputs": [
    {
     "name": "stdout",
     "output_type": "stream",
     "text": [
      "circularMean\n",
      "circularStddev\n",
      "circularVariance\n",
      "countDistinctNonNull\n",
      "countRuns\n",
      "firstNonNull\n",
      "kurtosis\n",
      "lastNonNull\n",
      "max\n",
      "mean\n",
      "median\n",
      "min\n",
      "minMax\n",
      "mode\n",
      "sampleStdDev\n",
      "sampleVariance\n",
      "skew\n",
      "stdDev\n",
      "sum\n",
      "variance\n"
     ]
    }
   ],
   "source": [
    "for reducer in sorted(score_df[score_df[\"R2 Score\"] > 0].index):\n",
    "    print(reducer)"
   ]
  },
  {
   "cell_type": "markdown",
   "metadata": {},
   "source": [
    "# Compositing\n",
    "\n",
    "Composite length ranging from 1 to 12 months. NaN values are interpolated linearly."
   ]
  },
  {
   "cell_type": "code",
   "execution_count": null,
   "metadata": {},
   "outputs": [],
   "source": [
    "# Optional: Interpolate missing values in X, save it as a new raster and visualize it\n",
    "from ltm.data import show_timeseries\n",
    "from ltm.features import load_raster, interpolate_X, save_raster\n",
    "\n",
    "# Define paths and parameters\n",
    "X_path = \"tmp.tif\"\n",
    "interpolated_X_path = \"interpolated.tif\"\n",
    "visualized_reducer = \"min\"\n",
    "rgb_bands = [\"B4\", \"B3\", \"B2\"]\n",
    "\n",
    "# Load, interpolate and save new X\n",
    "X = load_raster(X_path)\n",
    "interpolated_X = interpolate_X(X)\n",
    "save_raster(interpolated_X, X_path, interpolated_X_path)\n",
    "\n",
    "# Visualize\n",
    "show_timeseries(interpolated_X_path, visualized_reducer, rgb_bands=rgb_bands)"
   ]
  }
 ],
 "metadata": {
  "kernelspec": {
   "display_name": "ltm",
   "language": "python",
   "name": "python3"
  },
  "language_info": {
   "codemirror_mode": {
    "name": "ipython",
    "version": 3
   },
   "file_extension": ".py",
   "mimetype": "text/x-python",
   "name": "python",
   "nbconvert_exporter": "python",
   "pygments_lexer": "ipython3",
   "version": "3.11.5"
  }
 },
 "nbformat": 4,
 "nbformat_minor": 2
}
