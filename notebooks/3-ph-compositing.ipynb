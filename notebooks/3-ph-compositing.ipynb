{
 "cells": [
  {
   "cell_type": "markdown",
   "metadata": {},
   "source": [
    "# Compositing\n",
    "\n",
    "Composite length ranging from 1 to 12 months. NaN values are interpolated linearly. TODO: Circular interpolation only for 1/2 year timespan..."
   ]
  },
  {
   "cell_type": "code",
   "execution_count": 1,
   "metadata": {},
   "outputs": [],
   "source": [
    "import pandas as pd\n",
    "\n",
    "# pd.read_csv(\"../reports/time_window.csv\")\n",
    "time_window_df = pd.read_csv(\"../reports/reducers.csv\")"
   ]
  },
  {
   "cell_type": "code",
   "execution_count": null,
   "metadata": {},
   "outputs": [],
   "source": [
    "time_window = "
   ]
  },
  {
   "cell_type": "code",
   "execution_count": null,
   "metadata": {},
   "outputs": [],
   "source": [
    "import matplotlib.pyplot as plt\n",
    "import scienceplots\n",
    "\n",
    "plt.style.use('science')"
   ]
  },
  {
   "cell_type": "code",
   "execution_count": null,
   "metadata": {},
   "outputs": [],
   "source": [
    "# Optional: Interpolate missing values in X, save it as a new raster and visualize it\n",
    "from ltm.data import show_timeseries\n",
    "from ltm.features import load_raster, interpolate_X, save_raster\n",
    "\n",
    "# Define paths and parameters\n",
    "X_path = \"tmp.tif\"\n",
    "interpolated_X_path = \"interpolated.tif\"\n",
    "visualized_reducer = \"min\"\n",
    "rgb_bands = [\"B4\", \"B3\", \"B2\"]\n",
    "\n",
    "# Load, interpolate and save new X\n",
    "X = load_raster(X_path)\n",
    "interpolated_X = interpolate_X(X)\n",
    "save_raster(interpolated_X, X_path, interpolated_X_path)\n",
    "\n",
    "# Visualize\n",
    "show_timeseries(interpolated_X_path, visualized_reducer, rgb_bands=rgb_bands)"
   ]
  }
 ],
 "metadata": {
  "kernelspec": {
   "display_name": "ltm",
   "language": "python",
   "name": "python3"
  },
  "language_info": {
   "codemirror_mode": {
    "name": "ipython",
    "version": 3
   },
   "file_extension": ".py",
   "mimetype": "text/x-python",
   "name": "python",
   "nbconvert_exporter": "python",
   "pygments_lexer": "ipython3",
   "version": "3.11.5"
  }
 },
 "nbformat": 4,
 "nbformat_minor": 2
}
