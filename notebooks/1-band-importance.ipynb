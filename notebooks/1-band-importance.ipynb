{
 "cells": [
  {
   "cell_type": "code",
   "execution_count": 1,
   "metadata": {},
   "outputs": [
    {
     "name": "stdout",
     "output_type": "stream",
     "text": [
      "All available Level-2A Bands: ['B1', 'B2', 'B3', 'B4', 'B5', 'B6', 'B7', 'B8', 'B8A', 'B9', 'B11', 'B12', 'AOT', 'WVP', 'SCL', 'TCI_R', 'TCI_G', 'TCI_B', 'MSK_CLDPRB', 'MSK_SNWPRB', 'QA10', 'QA20', 'QA60', 'MSK_CLASSI_OPAQUE', 'MSK_CLASSI_CIRRUS', 'MSK_CLASSI_SNOW_ICE']\n"
     ]
    }
   ],
   "source": [
    "# List all available Sentinel-2 Level-2A bands\n",
    "from slc.data import list_bands\n",
    "\n",
    "bands = list_bands()\n",
    "\n",
    "print(\"All available Level-2A Bands:\", bands)"
   ]
  },
  {
   "cell_type": "code",
   "execution_count": 2,
   "metadata": {},
   "outputs": [
    {
     "name": "stdout",
     "output_type": "stream",
     "text": [
      "All applicable indices offered by eemont: ['AFRI1600', 'AFRI2100', 'ANDWI', 'ARI', 'ARI2', 'ARVI', 'ATSAVI', 'AVI', 'AWEInsh', 'AWEIsh', 'BAI', 'BAIM', 'BAIS2', 'BCC', 'BI', 'BITM', 'BIXS', 'BLFEI', 'BNDVI', 'BRBA', 'BWDRVI', 'BaI', 'CIG', 'CIRE', 'CSI', 'CVI', 'DBSI', 'DSI', 'DSWI1', 'DSWI2', 'DSWI3', 'DSWI4', 'DSWI5', 'DVI', 'DVIplus', 'EMBI', 'EVI', 'EVI2', 'ExG', 'ExGR', 'ExR', 'FCVI', 'GARI', 'GBNDVI', 'GCC', 'GDVI', 'GEMI', 'GLI', 'GM1', 'GM2', 'GNDVI', 'GOSAVI', 'GRNDVI', 'GRVI', 'GSAVI', 'GVMI', 'IAVI', 'IBI', 'IKAW', 'IPVI', 'IRECI', 'LSWI', 'MBI', 'MBWI', 'MCARI', 'MCARI1', 'MCARI2', 'MCARI705', 'MCARIOSAVI', 'MCARIOSAVI705', 'MGRVI', 'MIRBI', 'MLSWI26', 'MLSWI27', 'MNDVI', 'MNDWI', 'MNLI', 'MRBVI', 'MSAVI', 'MSI', 'MSR', 'MSR705', 'MTCI', 'MTVI1', 'MTVI2', 'MuWIR', 'NBAI', 'NBR', 'NBR2', 'NBRSWIR', 'NBRplus', 'NBSIMS', 'ND705', 'NDBI', 'NDCI', 'NDDI', 'NDGI', 'NDGlaI', 'NDII', 'NDMI', 'NDPI', 'NDPonI', 'NDREI', 'NDSI', 'NDSII', 'NDSInw', 'NDSWIR', 'NDSaII', 'NDSoI', 'NDTI', 'NDVI', 'NDVI705', 'NDVIMNDWI', 'NDWI', 'NDWIns', 'NDYI', 'NGRDI', 'NHFD', 'NIRv', 'NIRvH2', 'NLI', 'NMDI', 'NRFIg', 'NRFIr', 'NSDS', 'NSDSI1', 'NSDSI2', 'NSDSI3', 'NWI', 'NormG', 'NormNIR', 'NormR', 'OCVI', 'OSAVI', 'PISI', 'PSRI', 'RCC', 'RDVI', 'REDSI', 'RENDVI', 'RGBVI', 'RGRI', 'RI', 'RI4XS', 'RVI', 'S2REP', 'S2WI', 'S3', 'SARVI', 'SAVI', 'SAVI2', 'SEVI', 'SI', 'SIPI', 'SR', 'SR2', 'SR3', 'SR555', 'SR705', 'SWI', 'SWM', 'SeLI', 'TCARI', 'TCARIOSAVI', 'TCARIOSAVI705', 'TCI', 'TDVI', 'TGI', 'TRRVI', 'TSAVI', 'TTVI', 'TVI', 'TriVI', 'UI', 'VARI', 'VARI700', 'VI700', 'VIBI', 'VIG', 'VgNIRBI', 'VrNIRBI', 'WDRVI', 'WDVI', 'WI1', 'WI2', 'WI2015', 'WRI', 'kEVI', 'kIPVI', 'kNDVI', 'kRVI', 'kVARI', 'mND705', 'mSR705']\n"
     ]
    }
   ],
   "source": [
    "# List all available indices offered by eemont\n",
    "from slc.data import list_indices\n",
    "\n",
    "indices = list_indices()\n",
    "\n",
    "print(\"All applicable indices offered by eemont:\", indices)"
   ]
  },
  {
   "cell_type": "code",
   "execution_count": 3,
   "metadata": {},
   "outputs": [
    {
     "data": {
      "application/vnd.jupyter.widget-view+json": {
       "model_id": "c1f7059876ed4445802d7e6921da6a79",
       "version_major": 2,
       "version_minor": 0
      },
      "text/plain": [
       "  0%|          | 0/51 [00:00<?, ?it/s]"
      ]
     },
     "metadata": {},
     "output_type": "display_data"
    }
   ],
   "source": [
    "# Create a composite from a Sentinel image with all available bands and indices\n",
    "from datetime import datetime\n",
    "from pathlib import Path\n",
    "from zoneinfo import ZoneInfo\n",
    "\n",
    "import rasterio\n",
    "from tqdm.notebook import tqdm\n",
    "\n",
    "from slc.data import sentinel_composite\n",
    "\n",
    "tz = ZoneInfo(\"CET\")\n",
    "\n",
    "# Define the label path as well as the path to write the raster to\n",
    "target_folder = Path(\"../data/processed/target/\")\n",
    "data_folder = Path(\"../data/processed/band_importance/data/\")\n",
    "\n",
    "# Create the 2A composite if it does not exist\n",
    "data_folder.mkdir(parents=True, exist_ok=True)\n",
    "for target_path in tqdm(tuple(target_folder.glob(\"*.tif\"))):\n",
    "    data_path = data_folder / target_path.name\n",
    "    year = int(target_path.stem.split(\"_\")[-1])\n",
    "\n",
    "    if not data_path.exists():\n",
    "        try:\n",
    "            sentinel_composite(\n",
    "                target_path_from=target_path,\n",
    "                data_path_to=data_path,\n",
    "                time_window=(\n",
    "                    datetime(year, 1, 1, tzinfo=tz),\n",
    "                    datetime(year + 1, 1, 1, tzinfo=tz),\n",
    "                ),\n",
    "                sentinel_bands=bands,\n",
    "                indices=indices,\n",
    "            )\n",
    "        except KeyboardInterrupt as exc:\n",
    "            raise KeyboardInterrupt from exc\n",
    "        except Exception:  # noqa: BLE001\n",
    "            # Download composite in two steps if it fails\n",
    "            sentinel_composite(\n",
    "                target_path_from=target_path,\n",
    "                data_path_to=\"tmp.tif\",\n",
    "                time_window=(\n",
    "                    datetime(year, 1, 1, tzinfo=tz),\n",
    "                    datetime(year + 1, 1, 1, tzinfo=tz),\n",
    "                ),\n",
    "                sentinel_bands=bands,\n",
    "                indices=indices[: len(indices) // 2],\n",
    "            )\n",
    "\n",
    "            sentinel_composite(\n",
    "                target_path_from=target_path,\n",
    "                data_path_to=\"tmp2.tif\",\n",
    "                time_window=(\n",
    "                    datetime(year, 1, 1, tzinfo=tz),\n",
    "                    datetime(year + 1, 1, 1, tzinfo=tz),\n",
    "                ),\n",
    "                sentinel_bands=[],\n",
    "                indices=indices[len(indices) // 2 :],\n",
    "            )\n",
    "\n",
    "            with rasterio.open(\"tmp.tif\") as src1, rasterio.open(\"tmp2.tif\") as src2:\n",
    "                profile = src1.profile\n",
    "                profile.update(count=src1.count + src2.count)\n",
    "                descriptions = src1.descriptions + src2.descriptions\n",
    "                with rasterio.open(data_path, \"w\", **profile) as dst:\n",
    "                    for i in range(1, src1.count + 1):\n",
    "                        dst.write(src1.read(i), i)\n",
    "                    for i in range(1, src2.count + 1):\n",
    "                        dst.write(src2.read(i), src1.count + i)\n",
    "\n",
    "                    dst.descriptions = descriptions\n",
    "\n",
    "            Path(\"tmp.tif\").unlink()\n",
    "            Path(\"tmp2.tif\").unlink()\n",
    "\n",
    "            print(\"Created composite in two steps for\", target_path)"
   ]
  },
  {
   "cell_type": "code",
   "execution_count": 4,
   "metadata": {},
   "outputs": [],
   "source": [
    "# Compute the scores for each step of the RFE\n",
    "import pandas as pd\n",
    "from sklearn.ensemble import RandomForestClassifier\n",
    "from sklearn.feature_selection import RFE\n",
    "from sklearn.metrics import accuracy_score, cohen_kappa_score, f1_score, make_scorer\n",
    "from sklearn.model_selection import StratifiedKFold, cross_validate\n",
    "from tqdm.notebook import tqdm\n",
    "\n",
    "from slc.data import split_band_name\n",
    "from slc.features import load_dataset\n",
    "\n",
    "# Check if the report is already available\n",
    "band_importance_path = \"../reports/band_importance.csv\"\n",
    "if not Path(band_importance_path).exists():\n",
    "    Path(band_importance_path).parent.mkdir(parents=True, exist_ok=True)\n",
    "\n",
    "    # Load the dataset\n",
    "    data, target = load_dataset(data_folder, target_folder)\n",
    "\n",
    "    # Create the RFE object and rank each pixel\n",
    "    rf = RandomForestClassifier(n_jobs=-1, random_state=42)\n",
    "    rfe = RFE(estimator=rf, n_features_to_select=1, step=1, verbose=1)\n",
    "    rfe.fit(data, target)\n",
    "\n",
    "    # Define the scoring metrics\n",
    "    scoring = {\n",
    "        \"F1 Score\": make_scorer(f1_score),\n",
    "        \"Accuracy\": make_scorer(accuracy_score),\n",
    "        \"Kappa\": make_scorer(cohen_kappa_score),\n",
    "    }\n",
    "\n",
    "    # Get the features in reverse order of elimination\n",
    "    ranking = rfe.ranking_\n",
    "    feature_names = rfe.feature_names_in_\n",
    "    order_index = ranking.argsort()\n",
    "    ordered_features = feature_names[order_index]\n",
    "\n",
    "    # Compute the score for each step of the RFE\n",
    "    score_df = pd.DataFrame(columns=scoring.keys())\n",
    "    for i in tqdm(range(ordered_features.shape[0])):\n",
    "        # Fit the model with the current features\n",
    "        curr_data = data[ordered_features[: i + 1]]\n",
    "        random_forest = RandomForestClassifier(n_jobs=-1, random_state=42)\n",
    "        cv = StratifiedKFold(n_splits=5, shuffle=True, random_state=42)\n",
    "        scores = cross_validate(\n",
    "            random_forest, curr_data, target, cv=cv, scoring=scoring, n_jobs=-1\n",
    "        )\n",
    "\n",
    "        # Store the score in the dataframe\n",
    "        band_label = split_band_name(ordered_features[i])[1]\n",
    "        score_df.loc[band_label] = [scores[f\"test_{key}\"].mean() for key in scoring]\n",
    "\n",
    "    # Save the scores to a CSV file\n",
    "    score_df.to_csv(band_importance_path, index_label=\"Band\")\n",
    "    score_df.index.name = \"Band\"\n",
    "else:\n",
    "    # Load the scores from the CSV file\n",
    "    score_df = pd.read_csv(band_importance_path, index_col=0)"
   ]
  },
  {
   "cell_type": "code",
   "execution_count": 5,
   "metadata": {},
   "outputs": [
    {
     "data": {
      "image/png": "[encoded data removed]",
      "text/plain": [
       "<Figure size 350x262.5 with 1 Axes>"
      ]
     },
     "metadata": {},
     "output_type": "display_data"
    }
   ],
   "source": [
    "# Plot the RFE scores for n bandsimport matplotlib.pyplot as plt^\n",
    "import matplotlib.pyplot as plt\n",
    "import scienceplots  # noqa: F401\n",
    "\n",
    "# Use science style for plots\n",
    "plt.style.use(\"science\")\n",
    "\n",
    "# Plot RFE scores\n",
    "score_df[\"Index\"] = range(1, score_df.shape[0] + 1)\n",
    "ax = score_df.plot(x=\"Index\", y=\"F1 Score\", label=\"F1 Score\")\n",
    "ax = score_df.plot(x=\"Index\", y=\"Accuracy\", ax=ax, label=\"Accuracy\")\n",
    "ax = score_df.plot(x=\"Index\", y=\"Kappa\", ax=ax, label=\"Kappa\")\n",
    "ax.axvline(10, color=\"red\", linestyle=\"--\", label=\"Top 10 Bands\")\n",
    "\n",
    "# Format the plot\n",
    "ax.set_title(\"Recursive Feature Elimination\")\n",
    "ax.set_xlabel(\"Number of bands\")\n",
    "ax.set_ylabel(\"F1 Score\")\n",
    "ax.legend()\n",
    "\n",
    "figure_path = f\"../reports/figures/band_importance/{ax.get_title()}.svg\"\n",
    "Path(figure_path).parent.mkdir(parents=True, exist_ok=True)\n",
    "plt.savefig(figure_path, dpi=300, transparent=True)"
   ]
  },
  {
   "cell_type": "code",
   "execution_count": 6,
   "metadata": {},
   "outputs": [
    {
     "name": "stdout",
     "output_type": "stream",
     "text": [
      "Level-2A bands: ['B11']\n",
      "Indices: ['BRBA', 'GDVI', 'IKAW', 'MBWI', 'MIRBI', 'MLSWI26', 'MLSWI27', 'SWI', 'WI2015']\n"
     ]
    }
   ],
   "source": [
    "# List all selected bands and indices\n",
    "from slc.models import bands_from_importance\n",
    "\n",
    "sentinel_bands, index_bands = bands_from_importance(band_importance_path, top_n=10)\n",
    "\n",
    "print(\"Level-2A bands:\", sentinel_bands)\n",
    "print(\"Indices:\", index_bands)"
   ]
  }
 ],
 "metadata": {
  "kernelspec": {
   "display_name": "ltm",
   "language": "python",
   "name": "python3"
  },
  "language_info": {
   "codemirror_mode": {
    "name": "ipython",
    "version": 3
   },
   "file_extension": ".py",
   "mimetype": "text/x-python",
   "name": "python",
   "nbconvert_exporter": "python",
   "pygments_lexer": "ipython3",
   "version": "3.12.5"
  }
 },
 "nbformat": 4,
 "nbformat_minor": 2
}
