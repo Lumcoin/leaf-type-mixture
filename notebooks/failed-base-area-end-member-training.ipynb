{
 "cells": [
  {
   "cell_type": "code",
   "execution_count": 1,
   "metadata": {},
   "outputs": [],
   "source": [
    "import matplotlib.pyplot as plt\n",
    "import scienceplots\n",
    "\n",
    "plt.style.use(\"science\")"
   ]
  },
  {
   "cell_type": "code",
   "execution_count": 2,
   "metadata": {},
   "outputs": [
    {
     "name": "stderr",
     "output_type": "stream",
     "text": [
      "[Parallel(n_jobs=-1)]: Using backend LokyBackend with 12 concurrent workers.\n",
      "[Parallel(n_jobs=-1)]: Done   5 out of   5 | elapsed: 11.0min finished\n",
      "[Parallel(n_jobs=-1)]: Using backend LokyBackend with 12 concurrent workers.\n",
      "[Parallel(n_jobs=-1)]: Done   5 out of   5 | elapsed:  2.6min finished\n"
     ]
    }
   ],
   "source": [
    "from sklearn.metrics import (\n",
    "    make_scorer,\n",
    "    mean_squared_error,\n",
    "    mean_absolute_error,\n",
    "    r2_score,\n",
    ")\n",
    "from sklearn.model_selection import cross_validate, KFold\n",
    "from sklearn.ensemble import RandomForestRegressor\n",
    "\n",
    "from ltm.features import load_raster, drop_nan_rows\n",
    "from ltm.models import EndMemberSplitter\n",
    "\n",
    "# Define the scoring metrics\n",
    "scoring = {\n",
    "    \"R2 Score\": make_scorer(r2_score),\n",
    "    \"Mean Absolute Error\": make_scorer(mean_absolute_error),\n",
    "    \"Root Mean Squared Error\": make_scorer(mean_squared_error, squared=False),\n",
    "}\n",
    "\n",
    "# Load the data\n",
    "X = load_raster(\"../data/processed/composites_X.tif\")\n",
    "y = load_raster(\"../data/processed/y.tif\")\n",
    "\n",
    "# Drop the NaN columns and rows\n",
    "X = X.dropna(axis=1)\n",
    "X, y = drop_nan_rows(X, y)\n",
    "\n",
    "# Define the model\n",
    "model = RandomForestRegressor(n_jobs=-1, random_state=42)\n",
    "\n",
    "# Define the splitter\n",
    "splitter = KFold(shuffle=True, random_state=42)\n",
    "end_member_splitter = EndMemberSplitter(shuffle=True, random_state=42)\n",
    "\n",
    "# Perform the cross validation\n",
    "cv_results = cross_validate(\n",
    "    model, X, y, cv=splitter, scoring=scoring, n_jobs=-1, verbose=1\n",
    ")\n",
    "end_member_cv_results = cross_validate(\n",
    "    model, X, y, cv=end_member_splitter, scoring=scoring, n_jobs=-1, verbose=1\n",
    ")"
   ]
  },
  {
   "cell_type": "code",
   "execution_count": 3,
   "metadata": {},
   "outputs": [
    {
     "data": {
      "image/png": "[encoded data removed]",
      "text/plain": [
       "<Figure size 1200x600 with 2 Axes>"
      ]
     },
     "metadata": {},
     "output_type": "display_data"
    }
   ],
   "source": [
    "# Plot the results\n",
    "fig, ax = plt.subplots(1, 2, figsize=(12, 6))\n",
    "ax[0].boxplot(cv_results[\"test_R2 Score\"], showmeans=True)\n",
    "ax[0].set_title(\"R2 Score\")\n",
    "ax[0].set_xticklabels([\"All Data\"])\n",
    "\n",
    "ax[1].boxplot(end_member_cv_results[\"test_R2 Score\"], showmeans=True)\n",
    "ax[1].set_title(\"R2 Score\")\n",
    "ax[1].set_xticklabels([\"End Member Split\"])\n",
    "\n",
    "plt.show()"
   ]
  },
  {
   "cell_type": "code",
   "execution_count": 4,
   "metadata": {},
   "outputs": [
    {
     "data": {
      "text/html": [
       "<div>\n",
       "<style scoped>\n",
       "    .dataframe tbody tr th:only-of-type {\n",
       "        vertical-align: middle;\n",
       "    }\n",
       "\n",
       "    .dataframe tbody tr th {\n",
       "        vertical-align: top;\n",
       "    }\n",
       "\n",
       "    .dataframe thead th {\n",
       "        text-align: right;\n",
       "    }\n",
       "</style>\n",
       "<table border=\"1\" class=\"dataframe\">\n",
       "  <thead>\n",
       "    <tr style=\"text-align: right;\">\n",
       "      <th></th>\n",
       "      <th>test_R2 Score</th>\n",
       "      <th>test_Mean Absolute Error</th>\n",
       "      <th>test_Root Mean Squared Error</th>\n",
       "    </tr>\n",
       "  </thead>\n",
       "  <tbody>\n",
       "    <tr>\n",
       "      <th>All Data</th>\n",
       "      <td>0.703488</td>\n",
       "      <td>0.155520</td>\n",
       "      <td>0.245916</td>\n",
       "    </tr>\n",
       "    <tr>\n",
       "      <th>End Member Split</th>\n",
       "      <td>0.669241</td>\n",
       "      <td>0.145602</td>\n",
       "      <td>0.259592</td>\n",
       "    </tr>\n",
       "  </tbody>\n",
       "</table>\n",
       "</div>"
      ],
      "text/plain": [
       "                  test_R2 Score  test_Mean Absolute Error  \\\n",
       "All Data               0.703488                  0.155520   \n",
       "End Member Split       0.669241                  0.145602   \n",
       "\n",
       "                  test_Root Mean Squared Error  \n",
       "All Data                              0.245916  \n",
       "End Member Split                      0.259592  "
      ]
     },
     "execution_count": 4,
     "metadata": {},
     "output_type": "execute_result"
    }
   ],
   "source": [
    "import pandas as pd\n",
    "\n",
    "scores = {key: None for key in cv_results.keys() if key.startswith(\"test_\")}\n",
    "\n",
    "for score in scores.keys():\n",
    "    scores[score] = [\n",
    "        cv_results[score].mean(),\n",
    "        end_member_cv_results[score].mean(),\n",
    "    ]\n",
    "\n",
    "scores = pd.DataFrame(scores, index=[\"All Data\", \"End Member Split\"])\n",
    "scores"
   ]
  },
  {
   "cell_type": "markdown",
   "metadata": {},
   "source": [
    "# Base Area Prediction vs. Leaf Type Mixture Prediction"
   ]
  },
  {
   "cell_type": "code",
   "execution_count": 5,
   "metadata": {},
   "outputs": [
    {
     "name": "stderr",
     "output_type": "stream",
     "text": [
      "[Parallel(n_jobs=-1)]: Using backend LokyBackend with 12 concurrent workers.\n",
      "[Parallel(n_jobs=-1)]: Done   5 out of   5 | elapsed:  5.2min finished\n",
      "[Parallel(n_jobs=-1)]: Using backend LokyBackend with 12 concurrent workers.\n",
      "[Parallel(n_jobs=-1)]: Done   5 out of   5 | elapsed:  3.4min finished\n"
     ]
    }
   ],
   "source": [
    "from ltm.models import area2mixture_scorer\n",
    "\n",
    "X_area = load_raster(\"../data/processed/composites_X.tif\")\n",
    "y_area = load_raster(\"../data/processed/y_area.tif\")\n",
    "\n",
    "X_area = X_area.dropna(axis=1)\n",
    "X_area, y_area = drop_nan_rows(X_area, y_area)\n",
    "\n",
    "area_scoring = {\n",
    "    scorer_name: area2mixture_scorer(scorer)\n",
    "    for scorer_name, scorer in scoring.items()\n",
    "}\n",
    "\n",
    "cv_results_area = cross_validate(\n",
    "    model,\n",
    "    X_area,\n",
    "    y_area,\n",
    "    cv=splitter,\n",
    "    scoring=area_scoring,\n",
    "    n_jobs=-1,\n",
    "    verbose=1,\n",
    ")\n",
    "end_member_cv_results_area = cross_validate(\n",
    "    model,\n",
    "    X_area,\n",
    "    y_area,\n",
    "    cv=end_member_splitter,\n",
    "    scoring=area_scoring,\n",
    "    n_jobs=-1,\n",
    "    verbose=1,\n",
    ")\n",
    "\n",
    "scores_area = {\n",
    "    key: None for key in cv_results_area.keys() if key.startswith(\"test_\")\n",
    "}\n",
    "for score in scores_area.keys():\n",
    "    scores_area[score] = [\n",
    "        cv_results_area[score].mean(),\n",
    "        end_member_cv_results_area[score].mean(),\n",
    "    ]\n",
    "\n",
    "scores_area = pd.DataFrame(\n",
    "    scores_area, index=[\"All Data (Area as Y)\", \"End Member Split (Area as Y)\"]\n",
    ")"
   ]
  },
  {
   "cell_type": "code",
   "execution_count": 15,
   "metadata": {},
   "outputs": [
    {
     "data": {
      "text/html": [
       "<div>\n",
       "<style scoped>\n",
       "    .dataframe tbody tr th:only-of-type {\n",
       "        vertical-align: middle;\n",
       "    }\n",
       "\n",
       "    .dataframe tbody tr th {\n",
       "        vertical-align: top;\n",
       "    }\n",
       "\n",
       "    .dataframe thead th {\n",
       "        text-align: right;\n",
       "    }\n",
       "</style>\n",
       "<table border=\"1\" class=\"dataframe\">\n",
       "  <thead>\n",
       "    <tr style=\"text-align: right;\">\n",
       "      <th></th>\n",
       "      <th>test_R2 Score</th>\n",
       "      <th>test_Mean Absolute Error</th>\n",
       "      <th>test_Root Mean Squared Error</th>\n",
       "    </tr>\n",
       "  </thead>\n",
       "  <tbody>\n",
       "    <tr>\n",
       "      <th>All Data</th>\n",
       "      <td>0.703488</td>\n",
       "      <td>0.155520</td>\n",
       "      <td>0.245916</td>\n",
       "    </tr>\n",
       "    <tr>\n",
       "      <th>End Member Split</th>\n",
       "      <td>0.669241</td>\n",
       "      <td>0.145602</td>\n",
       "      <td>0.259592</td>\n",
       "    </tr>\n",
       "    <tr>\n",
       "      <th>All Data (Area as Y)</th>\n",
       "      <td>0.679048</td>\n",
       "      <td>0.157476</td>\n",
       "      <td>0.255822</td>\n",
       "    </tr>\n",
       "    <tr>\n",
       "      <th>End Member Split (Area as Y)</th>\n",
       "      <td>0.655007</td>\n",
       "      <td>0.140121</td>\n",
       "      <td>0.265056</td>\n",
       "    </tr>\n",
       "  </tbody>\n",
       "</table>\n",
       "</div>"
      ],
      "text/plain": [
       "                              test_R2 Score  test_Mean Absolute Error  \\\n",
       "All Data                           0.703488                  0.155520   \n",
       "End Member Split                   0.669241                  0.145602   \n",
       "All Data (Area as Y)               0.679048                  0.157476   \n",
       "End Member Split (Area as Y)       0.655007                  0.140121   \n",
       "\n",
       "                              test_Root Mean Squared Error  \n",
       "All Data                                          0.245916  \n",
       "End Member Split                                  0.259592  \n",
       "All Data (Area as Y)                              0.255822  \n",
       "End Member Split (Area as Y)                      0.265056  "
      ]
     },
     "execution_count": 15,
     "metadata": {},
     "output_type": "execute_result"
    }
   ],
   "source": [
    "# Add rows of scores_area to scores\n",
    "pd.concat([scores, scores_area])"
   ]
  }
 ],
 "metadata": {
  "kernelspec": {
   "display_name": "ltm",
   "language": "python",
   "name": "python3"
  },
  "language_info": {
   "codemirror_mode": {
    "name": "ipython",
    "version": 3
   },
   "file_extension": ".py",
   "mimetype": "text/x-python",
   "name": "python",
   "nbconvert_exporter": "python",
   "pygments_lexer": "ipython3",
   "version": "3.10.14"
  }
 },
 "nbformat": 4,
 "nbformat_minor": 2
}
