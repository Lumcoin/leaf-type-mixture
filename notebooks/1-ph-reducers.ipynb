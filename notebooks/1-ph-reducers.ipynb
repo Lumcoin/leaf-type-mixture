{
 "cells": [
  {
   "cell_type": "markdown",
   "metadata": {},
   "source": [
    "Reducers\n",
    "==============================\n",
    "\n",
    "# Introduction\n",
    "This Jupyter Notebook is part of an experiment to determine the best temporal reducers for leaf type mixture prediction using Sentinel 2 satellite imagery. The experiment involves processing the satellite imagery using the Google Earth Engine (GEE).\n",
    "\n",
    "# Setup\n",
    "To run this notebook, you will need to set up the Google Earth Engine. Please refer to the README file in this repository for a tutorial on how to set up GEE.\n",
    "\n",
    "# Experiment Details\n",
    "The goal of this experiment is to find the temporal reducers that lead to the best performance in predicting leaf type mixture as a regression problem. The experiment assumes the following:\n",
    "\n",
    "- Sentinel 2 data is used as the satellite imagery.\n",
    "- A time window of 1 year is chosen, covering the sampling timeframe of the labels.\n",
    "- Random Forest with default parameters is chosen as the regression model.\n",
    "- The evaluation metrics for the model are RMSE (Root Mean Squared Error), MAE (Mean Absolute Error), and R2 (Coefficient of Determination).\n",
    "\n",
    "Please note that these assumptions are specific to this experiment and may differ from other experiments in this repository.\n",
    "\n",
    "Let's proceed with the experiment!\n"
   ]
  },
  {
   "cell_type": "code",
   "execution_count": 1,
   "metadata": {},
   "outputs": [],
   "source": [
    "import matplotlib.pyplot as plt\n",
    "import scienceplots\n",
    "\n",
    "plt.style.use('science')"
   ]
  },
  {
   "cell_type": "code",
   "execution_count": 3,
   "metadata": {},
   "outputs": [
    {
     "data": {
      "image/png": "[encoded data removed]",
      "text/plain": [
       "<Figure size 350x262.5 with 1 Axes>"
      ]
     },
     "metadata": {},
     "output_type": "display_data"
    }
   ],
   "source": [
    "import pandas as pd\n",
    "\n",
    "df = pd.read_csv(\"../data/processed/plot.csv\")\n",
    "ax = df.plot()\n",
    "\n",
    "fig = ax.get_figure()\n",
    "fig.savefig(\"../reports/figures/plot.svg\")"
   ]
  }
 ],
 "metadata": {
  "kernelspec": {
   "display_name": "ltm",
   "language": "python",
   "name": "python3"
  },
  "language_info": {
   "codemirror_mode": {
    "name": "ipython",
    "version": 3
   },
   "file_extension": ".py",
   "mimetype": "text/x-python",
   "name": "python",
   "nbconvert_exporter": "python",
   "pygments_lexer": "ipython3",
   "version": "3.11.5"
  }
 },
 "nbformat": 4,
 "nbformat_minor": 2
}
