{
 "cells": [
  {
   "cell_type": "code",
   "execution_count": null,
   "metadata": {},
   "outputs": [],
   "source": [
    "import ee\n",
    "from ltm.data import _get_roi_scale_crs, _initialize_ee\n",
    "import requests\n",
    "import os\n",
    "import shutil\n",
    "\n",
    "\n",
    "def save_image(image, scale, crs, region, file_path):\n",
    "    download_params = {\n",
    "        \"scale\": scale,\n",
    "        \"crs\": crs,\n",
    "        \"region\": region,\n",
    "        \"format\": \"GEO_TIFF\",\n",
    "    }\n",
    "\n",
    "    url = image.getDownloadURL(download_params)\n",
    "\n",
    "    response = requests.get(url, stream=True)\n",
    "    with open(file_path, \"wb\") as out_file:\n",
    "        shutil.copyfileobj(response.raw, out_file)\n",
    "\n",
    "\n",
    "def reduce(reducer):\n",
    "    _initialize_ee()\n",
    "\n",
    "    image = ee.Image(\"projects/leaf-type-mixture/assets/DEM\")\n",
    "    reprojected = image.reduceResolution(reducer=getattr(ee.Reducer, reducer)(), maxPixels=65536)\n",
    "\n",
    "    roi, scale, crs = _get_roi_scale_crs(\"../data/processed/data.tif\")\n",
    "    \n",
    "    save_image(reprojected, scale, crs, roi, f\"../data/processed/DEM_{reducer}.tif\")\n",
    "\n",
    "reduce(\"mean\")\n",
    "reduce(\"median\")\n",
    "reduce(\"mode\")\n",
    "reduce(\"max\")\n",
    "reduce(\"min\")"
   ]
  }
 ],
 "metadata": {
  "kernelspec": {
   "display_name": "ltm",
   "language": "python",
   "name": "python3"
  },
  "language_info": {
   "codemirror_mode": {
    "name": "ipython",
    "version": 3
   },
   "file_extension": ".py",
   "mimetype": "text/x-python",
   "name": "python",
   "nbconvert_exporter": "python",
   "pygments_lexer": "ipython3",
   "version": "3.10.14"
  }
 },
 "nbformat": 4,
 "nbformat_minor": 2
}
