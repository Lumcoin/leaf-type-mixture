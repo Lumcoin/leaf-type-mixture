{
 "cells": [
  {
   "cell_type": "markdown",
   "metadata": {},
   "source": [
    "# Data Prep\n",
    "\n",
    "Preprocess and unify all data.\n",
    "\n",
    "Before starting to train a ML model, we have to preprocess our data. In this case Sentinel-2 Level-2A imagery is used to generate composites by maximum NDVI across a period of two months. The resulting composites are augmented with indices, like NDVI and all timesteps are reduced into a single raster by deriving statistical parameters, like mean and variance.\n",
    "\n",
    "The DEM image uploaded beforehand is downsampled to the same resolution as the Sentinel-2 composites by calculating various textile measures.\n",
    "\n",
    "Then the resulting Sentinel-2 derived raster and DEM derived raster are stacked and a dimensionality reduction is performed. The reduced image can then be used for further processing.\n",
    "\n",
    "## Define Parameters"
   ]
  },
  {
   "cell_type": "code",
   "execution_count": 24,
   "metadata": {},
   "outputs": [],
   "source": [
    "# Import Earth Engine API and initialize it\n",
    "import ee\n",
    "ee.Initialize()\n",
    "\n",
    "# Define processing constants\n",
    "SOURCE = 'COPERNICUS/S2_SR'  # Define dataset source\n",
    "TIMESERIES_MIDDLE = '2019-06-01'  # Define middle of timeseries\n",
    "TIMESERIES_DURATION = 365  # Define duration of timeseries in days\n",
    "NUM_COMPOSITES = 6  # Define amount of composites in the timeseries\n",
    "REGION = ee.Geometry.Rectangle([12.6545, 47.9291, 12.6762, 47.9423])  # Define region in EPSG:4326\n",
    "\n",
    "# Define export constants\n",
    "FILENAME = 'NDVI_composite'  # Name of exported raster\n",
    "FOLDER = 'Google Earth Engine'  # Name of export folder\n",
    "SCALE = 10  # Size of pixel in meters\n",
    "CRS = 'EPSG:32632'  # Coordinate reference system of exported raster\n",
    "MAX_PIXELS = 1e7  # Maximum number of pixels when exporting\n",
    "\n",
    "# Define map constants\n",
    "VIS_PARAMS = {'bands': ['B4', 'B3', 'B2'], 'min': 0, 'max': 2000, 'gamma': 1}\n",
    "LAYER_NAME = FILENAME\n",
    "\n",
    "# Define quality measure\n",
    "QUALITY = 'NDVI'  # Quality measure name\n",
    "def addQuality(image):\n",
    "    quality_band = image.normalizedDifference(['B5', 'B4']).rename([QUALITY])  # NDVI in this case\n",
    "    return image.addBands(quality_band)"
   ]
  },
  {
   "cell_type": "markdown",
   "metadata": {},
   "source": [
    "# Calculate Timeseries Windows for calculating Composites"
   ]
  },
  {
   "cell_type": "code",
   "execution_count": 25,
   "metadata": {},
   "outputs": [],
   "source": [
    "from datetime import datetime, timedelta\n",
    "\n",
    "def generate_timewindows(middle_date, num_windows, timeseries_duration=365.242):\n",
    "    # Calculate the start date of the timeseries\n",
    "    middle_date = datetime.strptime(middle_date, '%Y-%m-%d')\n",
    "    current_start = middle_date - timedelta(days=timeseries_duration / 2)\n",
    "\n",
    "    # Calculate the duration of each timewindow (in days)\n",
    "    window_duration = timeseries_duration / num_windows\n",
    "    \n",
    "    # Initialize a list to store the timewindows as tuples\n",
    "    timewindows = []\n",
    "    for _ in range(num_windows):\n",
    "        # Calculate the start and end dates of each timewindow\n",
    "        start_date = current_start\n",
    "        end_date = current_start + timedelta(days=window_duration)\n",
    "\n",
    "        start_date = start_date.strftime('%Y-%m-%d')\n",
    "        end_date = end_date.strftime('%Y-%m-%d')\n",
    "        timewindow = (start_date, end_date)\n",
    "        \n",
    "        # Append the timewindow as a tuple (start, end) to the list\n",
    "        timewindows.append(timewindow)\n",
    "        \n",
    "        # Move the middle_date to the next timewindow\n",
    "        current_start += timedelta(days=window_duration)\n",
    "    \n",
    "    return timewindows\n",
    "\n",
    "timewindows = generate_timewindows(TIMESERIES_MIDDLE, NUM_COMPOSITES, TIMESERIES_DURATION)"
   ]
  },
  {
   "cell_type": "markdown",
   "metadata": {},
   "source": [
    "# Show Sentinel-2 (Level-2A) imagery"
   ]
  },
  {
   "cell_type": "code",
   "execution_count": 29,
   "metadata": {},
   "outputs": [
    {
     "name": "stdout",
     "output_type": "stream",
     "text": [
      "{'type': 'Image', 'bands': [{'id': 'B1_variance', 'data_type': {'type': 'PixelType', 'precision': 'int', 'min': 0, 'max': 4294967295}, 'crs': 'EPSG:32632', 'crs_transform': [10, 0, 0, 0, -10, 0]}, {'id': 'B2_variance', 'data_type': {'type': 'PixelType', 'precision': 'int', 'min': 0, 'max': 4294967295}, 'crs': 'EPSG:32632', 'crs_transform': [10, 0, 0, 0, -10, 0]}, {'id': 'B3_variance', 'data_type': {'type': 'PixelType', 'precision': 'int', 'min': 0, 'max': 4294967295}, 'crs': 'EPSG:32632', 'crs_transform': [10, 0, 0, 0, -10, 0]}, {'id': 'B4_variance', 'data_type': {'type': 'PixelType', 'precision': 'int', 'min': 0, 'max': 4294967295}, 'crs': 'EPSG:32632', 'crs_transform': [10, 0, 0, 0, -10, 0]}, {'id': 'B5_variance', 'data_type': {'type': 'PixelType', 'precision': 'int', 'min': 0, 'max': 4294967295}, 'crs': 'EPSG:32632', 'crs_transform': [10, 0, 0, 0, -10, 0]}, {'id': 'B6_variance', 'data_type': {'type': 'PixelType', 'precision': 'int', 'min': 0, 'max': 4294967295}, 'crs': 'EPSG:32632', 'crs_transform': [10, 0, 0, 0, -10, 0]}, {'id': 'B7_variance', 'data_type': {'type': 'PixelType', 'precision': 'int', 'min': 0, 'max': 4294967295}, 'crs': 'EPSG:32632', 'crs_transform': [10, 0, 0, 0, -10, 0]}, {'id': 'B8_variance', 'data_type': {'type': 'PixelType', 'precision': 'int', 'min': 0, 'max': 4294967295}, 'crs': 'EPSG:32632', 'crs_transform': [10, 0, 0, 0, -10, 0]}, {'id': 'B8A_variance', 'data_type': {'type': 'PixelType', 'precision': 'int', 'min': 0, 'max': 4294967295}, 'crs': 'EPSG:32632', 'crs_transform': [10, 0, 0, 0, -10, 0]}, {'id': 'B9_variance', 'data_type': {'type': 'PixelType', 'precision': 'int', 'min': 0, 'max': 4294967295}, 'crs': 'EPSG:32632', 'crs_transform': [10, 0, 0, 0, -10, 0]}, {'id': 'B11_variance', 'data_type': {'type': 'PixelType', 'precision': 'int', 'min': 0, 'max': 4294967295}, 'crs': 'EPSG:32632', 'crs_transform': [10, 0, 0, 0, -10, 0]}, {'id': 'B12_variance', 'data_type': {'type': 'PixelType', 'precision': 'int', 'min': 0, 'max': 4294967295}, 'crs': 'EPSG:32632', 'crs_transform': [10, 0, 0, 0, -10, 0]}, {'id': 'AOT_variance', 'data_type': {'type': 'PixelType', 'precision': 'int', 'min': 0, 'max': 4294967295}, 'crs': 'EPSG:32632', 'crs_transform': [10, 0, 0, 0, -10, 0]}, {'id': 'WVP_variance', 'data_type': {'type': 'PixelType', 'precision': 'int', 'min': 0, 'max': 4294967295}, 'crs': 'EPSG:32632', 'crs_transform': [10, 0, 0, 0, -10, 0]}, {'id': 'SCL_variance', 'data_type': {'type': 'PixelType', 'precision': 'int', 'min': 0, 'max': 4294967295}, 'crs': 'EPSG:32632', 'crs_transform': [10, 0, 0, 0, -10, 0]}, {'id': 'TCI_R_variance', 'data_type': {'type': 'PixelType', 'precision': 'int', 'min': 0, 'max': 4294967295}, 'crs': 'EPSG:32632', 'crs_transform': [10, 0, 0, 0, -10, 0]}, {'id': 'TCI_G_variance', 'data_type': {'type': 'PixelType', 'precision': 'int', 'min': 0, 'max': 4294967295}, 'crs': 'EPSG:32632', 'crs_transform': [10, 0, 0, 0, -10, 0]}, {'id': 'TCI_B_variance', 'data_type': {'type': 'PixelType', 'precision': 'int', 'min': 0, 'max': 4294967295}, 'crs': 'EPSG:32632', 'crs_transform': [10, 0, 0, 0, -10, 0]}, {'id': 'MSK_CLDPRB_variance', 'data_type': {'type': 'PixelType', 'precision': 'int', 'min': 0, 'max': 4294967295}, 'crs': 'EPSG:32632', 'crs_transform': [10, 0, 0, 0, -10, 0]}, {'id': 'MSK_SNWPRB_variance', 'data_type': {'type': 'PixelType', 'precision': 'int', 'min': 0, 'max': 4294967295}, 'crs': 'EPSG:32632', 'crs_transform': [10, 0, 0, 0, -10, 0]}, {'id': 'QA10_variance', 'data_type': {'type': 'PixelType', 'precision': 'int', 'min': 0, 'max': 4294967295}, 'crs': 'EPSG:32632', 'crs_transform': [10, 0, 0, 0, -10, 0]}, {'id': 'QA20_variance', 'data_type': {'type': 'PixelType', 'precision': 'int', 'min': 0, 'max': 4294967295}, 'crs': 'EPSG:32632', 'crs_transform': [10, 0, 0, 0, -10, 0]}, {'id': 'QA60_variance', 'data_type': {'type': 'PixelType', 'precision': 'int', 'min': 0, 'max': 4294967295}, 'crs': 'EPSG:32632', 'crs_transform': [10, 0, 0, 0, -10, 0]}, {'id': 'NDVI_variance', 'data_type': {'type': 'PixelType', 'precision': 'int', 'min': 0, 'max': 4294967295}, 'crs': 'EPSG:32632', 'crs_transform': [10, 0, 0, 0, -10, 0]}]}\n"
     ]
    },
    {
     "data": {
      "text/html": [
       "<img src=\"https://earthengine.googleapis.com/v1/projects/earthengine-legacy/thumbnails/11c07ce56ed77a423899fec1bb91cb71-9a0de0f4c1d517725c4d1875ba8dc664:getPixels\"/>"
      ],
      "text/plain": [
       "<IPython.core.display.Image object>"
      ]
     },
     "execution_count": 29,
     "metadata": {},
     "output_type": "execute_result"
    }
   ],
   "source": [
    "from IPython.display import Image\n",
    "\n",
    "composites = []\n",
    "for start, end in timewindows:\n",
    "    # Define dataset filters\n",
    "    filter_date = ee.Filter.date(start, end)  # inclusive start, exclusive end\n",
    "    filter_region = ee.Filter.bounds(REGION)\n",
    "\n",
    "    # Read dataset\n",
    "    dataset = ee.ImageCollection(SOURCE).filter(filter_date).filter(filter_region)\n",
    "\n",
    "    # Create max NDVI pixel composite image\n",
    "    dataset = dataset.map(addQuality)  # Add quality band\n",
    "    composite = dataset.qualityMosaic(QUALITY)  # Choose max QUALITY pixels\n",
    "    composite = composite.select(composite.bandNames().remove([QUALITY]))  # Remove QUALITY band\n",
    "\n",
    "    # Set all bands to highest common precision, resample and clip to region\n",
    "    composite = composite.toUint32()\n",
    "    composite = composite.reproject(crs=CRS, scale=SCALE)\n",
    "    composite = composite.clip(REGION)\n",
    "\n",
    "    composites.append(composite)\n",
    "\n",
    "composites = ee.ImageCollection(composites)#.min()#.mean()\n",
    "composites = composites.reduce(ee.Reducer.variance())\n",
    "composites = composites.toUint32()\n",
    "composites = composites.reproject(crs=CRS, scale=SCALE)\n",
    "print(composites.getInfo())\n",
    "\n",
    "# TODO: Filter by Quality Indicators (QI) for cloud and snow probabilities at 60 m resolution\n",
    "\n",
    "# Show image\n",
    "Image(url=composites.getThumbUrl({\n",
    "    'min': 0,\n",
    "    'max': 20000000,\n",
    "    'bands': ['B4_variance', 'B3_variance', 'B2_variance'],\n",
    "    'region': REGION,\n",
    "    'dimensions': 500}))"
   ]
  },
  {
   "cell_type": "markdown",
   "metadata": {},
   "source": [
    "## Download NumPy Array"
   ]
  },
  {
   "cell_type": "code",
   "execution_count": null,
   "metadata": {},
   "outputs": [],
   "source": [
    "# Get the data from the image as a numpy array\n",
    "import requests\n",
    "import io\n",
    "import numpy as np\n",
    "\n",
    "url = composites.getDownloadUrl({\n",
    "    'scale': SCALE,\n",
    "    'region': REGION,\n",
    "    'format': 'NPY'\n",
    "    })\n",
    "\n",
    "response = requests.get(url)\n",
    "data = np.load(io.BytesIO(response.content))"
   ]
  },
  {
   "cell_type": "markdown",
   "metadata": {},
   "source": [
    "## Downsample DEM"
   ]
  },
  {
   "cell_type": "code",
   "execution_count": null,
   "metadata": {},
   "outputs": [],
   "source": [
    "dem = ee.Image('projects/leaf-type-mixture/assets/DEM')\n",
    "dem_mean = dem.reduceResolution(reducer=ee.Reducer.mean(), maxPixels=1024).reproject(crs=CRS, scale=SCALE)\n",
    "Image(url=dem_mean.getThumbUrl({\n",
    "    'min': 0,\n",
    "    'max': 40,\n",
    "    'bands': ['b1'],\n",
    "    'region': REGION,\n",
    "    'dimensions': 500}))"
   ]
  }
 ],
 "metadata": {
  "kernelspec": {
   "display_name": "ltm",
   "language": "python",
   "name": "python3"
  },
  "language_info": {
   "codemirror_mode": {
    "name": "ipython",
    "version": 3
   },
   "file_extension": ".py",
   "mimetype": "text/x-python",
   "name": "python",
   "nbconvert_exporter": "python",
   "pygments_lexer": "ipython3",
   "version": "3.11.4"
  },
  "orig_nbformat": 4
 },
 "nbformat": 4,
 "nbformat_minor": 2
}
