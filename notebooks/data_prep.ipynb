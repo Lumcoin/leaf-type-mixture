{
 "cells": [
  {
   "cell_type": "markdown",
   "metadata": {},
   "source": [
    "# Data Prep\n",
    "\n",
    "Preprocess and unify all data.\n",
    "\n",
    "Before starting to train a ML model, we have to preprocess our data. In this case Sentinel-2 Level-2A imagery is used to generate composites by maximum NDVI across a period of two months. The resulting composites are augmented with indices, like NDVI and all timesteps are reduced into a single raster by deriving statistical parameters, like mean and variance.\n",
    "\n",
    "The DEM image uploaded beforehand is downsampled to the same resolution as the Sentinel-2 composites by calculating various textile measures.\n",
    "\n",
    "Then the resulting Sentinel-2 derived raster and DEM derived raster are stacked and a dimensionality reduction is performed. The reduced image can then be used for further processing.\n",
    "\n",
    "## Define Parameters"
   ]
  },
  {
   "cell_type": "code",
   "execution_count": null,
   "metadata": {},
   "outputs": [],
   "source": [
    "# Import Earth Engine API and initialize it\n",
    "import ee\n",
    "ee.Initialize()\n",
    "\n",
    "# Define processing constants\n",
    "SOURCE = 'COPERNICUS/S2_SR'  # Define dataset source\n",
    "START = '2017-07-01'  # Define start date (inclusive)\n",
    "FINISH = '2017-08-31'  # Define end date (exclusive)\n",
    "REGION = ee.Geometry.Rectangle([12.6545, 47.9291, 12.6762, 47.9423])  # Define region in EPSG:4326\n",
    "\n",
    "# Define export constants\n",
    "FILENAME = 'NDVI_composite'  # Name of exported raster\n",
    "FOLDER = 'Google Earth Engine'  # Name of export folder\n",
    "SCALE = 10  # Size of pixel in meters\n",
    "CRS = 'EPSG:32632'  # Coordinate reference system of exported raster\n",
    "MAX_PIXELS = 1e7  # Maximum number of pixels when exporting\n",
    "\n",
    "# Define map constants\n",
    "VIS_PARAMS = {'bands': ['B4', 'B3', 'B2'], 'min': 0, 'max': 2000, 'gamma': 1}\n",
    "LAYER_NAME = FILENAME\n",
    "\n",
    "# Define quality measure\n",
    "QUALITY = 'NDVI'  # Quality measure name\n",
    "def addQuality(image):\n",
    "    quality_band = image.normalizedDifference(['B5', 'B4']).rename([QUALITY])  # NDVI in this case\n",
    "    return image.addBands(quality_band)"
   ]
  },
  {
   "cell_type": "markdown",
   "metadata": {},
   "source": [
    "# Show Sentinel-2 (Level-2A) imagery"
   ]
  },
  {
   "cell_type": "code",
   "execution_count": null,
   "metadata": {},
   "outputs": [],
   "source": [
    "from IPython.display import Image\n",
    "\n",
    "# Define dataset filters\n",
    "filter_date = ee.Filter.date(START, FINISH)\n",
    "filter_region = ee.Filter.bounds(REGION)\n",
    "filter = ee.Filter.And(filter_date, filter_region)\n",
    "\n",
    "# Read dataset\n",
    "dataset = ee.ImageCollection(SOURCE).filter(filter)\n",
    "\n",
    "# Create max NDVI pixel composite image\n",
    "dataset = dataset.map(addQuality)  # Add quality band\n",
    "image = dataset.qualityMosaic(QUALITY)  # Choose max QUALITY pixels\n",
    "image = image.select(image.bandNames().remove([QUALITY]))  # Remove QUALITY band\n",
    "\n",
    "# Set all bands to highest common precision, resample and clip to region\n",
    "image = image.toUint32()\n",
    "image = image.reproject(crs=CRS, scale=SCALE)\n",
    "image = image.clip(REGION)\n",
    "\n",
    "# Show image\n",
    "url = image.getThumbUrl({\n",
    "    'min': 0,\n",
    "    'max': 1200,\n",
    "    'bands': ['B4', 'B3', 'B2'],\n",
    "    'dimensions': 500})\n",
    "print(url)\n",
    "\n",
    "# Display the thumbnail land surface temperature in France.\n",
    "print('\\nPlease wait while the thumbnail loads, it may take a moment...')\n",
    "Image(url=url)"
   ]
  },
  {
   "cell_type": "code",
   "execution_count": null,
   "metadata": {},
   "outputs": [],
   "source": [
    "# Get the data from the image as a numpy array\n",
    "import requests\n",
    "import io\n",
    "import numpy as np\n",
    "\n",
    "url = image.getDownloadUrl({\n",
    "    'scale': SCALE,\n",
    "    'region': REGION,\n",
    "    'format': 'NPY'\n",
    "    })\n",
    "\n",
    "response = requests.get(url)\n",
    "data = np.load(io.BytesIO(response.content))"
   ]
  }
 ],
 "metadata": {
  "kernelspec": {
   "display_name": "ltm",
   "language": "python",
   "name": "python3"
  },
  "language_info": {
   "codemirror_mode": {
    "name": "ipython",
    "version": 3
   },
   "file_extension": ".py",
   "mimetype": "text/x-python",
   "name": "python",
   "nbconvert_exporter": "python",
   "pygments_lexer": "ipython3",
   "version": "3.11.4"
  },
  "orig_nbformat": 4
 },
 "nbformat": 4,
 "nbformat_minor": 2
}
